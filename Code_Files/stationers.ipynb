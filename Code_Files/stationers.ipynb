{
 "cells": [
  {
   "cell_type": "code",
   "execution_count": 1,
   "metadata": {},
   "outputs": [],
   "source": [
    "import csv, os,re\n",
    "import pandas as pd \n",
    "\n",
    "# authSearch = re.compile('Crashaw, William, 1572-1626.|Hall, Joseph, 1574-1656.|Whately, William, 1583-1639.|Gouge, William, 1578-1653.|Gataker, Thomas, 1574-1654.|Preston, John, 1587-1628.')\n",
    "# name = 'charity'\n",
    "\n",
    "playAuthors = [\n",
    "    'Haughton, William','Heywood, Thomas','Dekker, Thomas', 'Webster, John', 'Middleton, Thomas',\n",
    "    'Jonson, Ben','Eliot, John', 'Rowley, William', 'Wilkins, George','Chapman, George',\n",
    "    'Marston, John','Cooke, John','Rowley, Samuel','Marmion, Shackerley','Greene, Robert',\n",
    "    'Sharpham, Edward','Shirley, James','Brome, Richard','Cavendish, William',\n",
    "    'Cavendish, Margaret','Beaumont, Francis','Newcastle, William Cavendish','Newcastle, Margaret Cavendish',\n",
    "    'Cooke, Jo.'\n",
    "]\n",
    "authSearch = re.compile('|'.join(playAuthors))\n",
    "name = 'plays'"
   ]
  },
  {
   "cell_type": "code",
   "execution_count": null,
   "metadata": {},
   "outputs": [],
   "source": [
    "'''For getting all metadata for certain authors (or publishers if you iterate through the publisher column)'''\n",
    "outFile = open(f'{name}TCP.csv','a+')\n",
    "columns = ['id','title','author','publisher','pubplace','keywords','date']\n",
    "writer = csv.DictWriter(outFile, fieldnames=columns)\n",
    "writer.writeheader()\n",
    "count = 0\n",
    "for csvFile in os.listdir('/Users/amycweng/Digital Humanities/TCP metadata'):\n",
    "    data = pd.read_csv(os.path.join('/Users/amycweng/Digital Humanities/TCP metadata',csvFile))\n",
    "    for idx,entry in enumerate(data['author']):\n",
    "        found = False\n",
    "        if re.match(authSearch,str(entry)):\n",
    "            found = True\n",
    "        if found:\n",
    "            names = entry.split('; ')\n",
    "            names = '; '.join(list(set(names)))\n",
    "            count += 1\n",
    "            row = {'id':data['id'][idx],\n",
    "                    'title':data['title'][idx],\n",
    "                    'author':names,\n",
    "                    'publisher':data['publisher'][idx],\n",
    "                    'pubplace':data['pubplace'][idx],\n",
    "                    'keywords':data['keywords'][idx],\n",
    "                    'date':data['date'][idx]}\n",
    "            writer.writerow(row)\n",
    "            found = False\n",
    "print(str(count)+'\\n')"
   ]
  },
  {
   "cell_type": "code",
   "execution_count": null,
   "metadata": {},
   "outputs": [],
   "source": [
    "name = 'spreadsheet_Plays_Publishers'\n",
    "tcpIDs = ['A03208','A03197','A20100','A07493','A04633','A11153','A18407',\n",
    "        'A19260','A07524','A07505','A04648','A11146','A20083','A20098',\n",
    "        'A07065','A07025','A02092','A03224','A12078','A18427','A12142',\n",
    "        'A77565','A77567','A53070','A46228','A59985','A04645','A12140',\n",
    "        'A06252']\n",
    "outFile = open(f'{name}TCP.csv','a+')\n",
    "columns = ['id','author','publisher']\n",
    "writer = csv.DictWriter(outFile, fieldnames=columns)\n",
    "writer.writeheader()\n",
    "count = 0\n",
    "data = pd.read_csv('/Users/amycweng/Digital Humanities/Early-Modern-London/playwrightsTCP.csv')\n",
    "for idx,entry in enumerate(data['id']):\n",
    "    if entry in tcpIDs:\n",
    "        count += 1\n",
    "        row = {'id':data['id'][idx],\n",
    "                'author':data['author'][idx],\n",
    "                'publisher':data['publisher'][idx]}\n",
    "        writer.writerow(row)\n",
    "        found = False\n",
    "print(str(count)+'\\n')"
   ]
  },
  {
   "cell_type": "code",
   "execution_count": 2,
   "metadata": {},
   "outputs": [
    {
     "name": "stdout",
     "output_type": "stream",
     "text": [
      "Printed and sold by A Moore near St Paul s Church Yard\n"
     ]
    }
   ],
   "source": [
    "search = 'A Moore'\n",
    "for csvFile in os.listdir('/Users/amycweng/Digital Humanities/TCP metadata'):\n",
    "    data = pd.read_csv(os.path.join('/Users/amycweng/Digital Humanities/TCP metadata',csvFile))\n",
    "    for idx,entry in enumerate(data['publisher']):\n",
    "        if re.search(search,str(entry)):\n",
    "            print(entry)"
   ]
  },
  {
   "cell_type": "code",
   "execution_count": 2,
   "metadata": {},
   "outputs": [],
   "source": [
    "csvfile = '/Users/amycweng/Digital Humanities/Early-Modern-London/Relevant_Metadata/charityTCP.csv'\n",
    "data = pd.read_csv(csvfile)\n",
    "pubs = data['publisher']"
   ]
  },
  {
   "cell_type": "code",
   "execution_count": null,
   "metadata": {},
   "outputs": [],
   "source": [
    "p = []\n",
    "for pub in pubs:\n",
    "    if re.search(r'for (\\w{1}) (\\w{1})$',pub):\n",
    "        nameTuple  = re.findall(r'for (\\w{1}) (\\w{1})$',pub)[0]\n",
    "        p.append(f'{nameTuple[0]}{nameTuple[1]}')\n",
    "    elif re.search(r'for (\\w{1}) (\\w{1}) ',pub):\n",
    "        nameTuple  = re.findall(r'for (\\w{1}) (\\w{1}) ',pub)[0]\n",
    "        p.append(f'{nameTuple[0]}{nameTuple[1]}')\n",
    "\n",
    "    elif re.search(r'for (\\w+) (\\w+)',pub):\n",
    "        nameTuple  = re.findall(r'for (\\w+) (\\w+)',pub)[0]\n",
    "        p.append(f'{nameTuple[0]} {nameTuple[1]}')\n",
    "    if re.search(r'for (.*?) and (\\w+) (\\w+)$',pub): \n",
    "        nameTuple  = re.findall(r'for (.*?) and (\\w+) (\\w+)$',pub)[0]\n",
    "        p.append(f'{nameTuple[1]} {nameTuple[2]}')\n",
    "        spaces = re.findall(r'\\s',nameTuple[0])\n",
    "        if len(spaces) == 1:\n",
    "            p.append(nameTuple[0])\n",
    "        else:\n",
    "            print(f'\\tMANY PUBS',pub)\n",
    "    \n",
    "    if re.search(r'sold by (\\w{1}) (\\w{1})$',pub):\n",
    "        nameTuple  = re.findall(r'sold by (\\w{1}) (\\w{1})$',pub)[0]\n",
    "        p.append(f'{nameTuple[0]}{nameTuple[1]}')\n",
    "    elif re.search(r'sold by (\\w{1}) (\\w{1}) ',pub):\n",
    "        nameTuple  = re.findall(r'sold by (\\w{1}) (\\w{1}) ',pub)[0]\n",
    "        p.append(f'{nameTuple[0]}{nameTuple[1]}')\n",
    "\n",
    "    elif re.search(r'sold by (\\w+) (\\w+)',pub):\n",
    "        nameTuple  = re.findall(r'sold by (\\w+) (\\w+)',pub)[0]\n",
    "        p.append(f'{nameTuple[0]} {nameTuple[1]}')\n",
    "    if re.search(r'sold by (.*?) and (\\w+) (\\w+)$',pub): \n",
    "        nameTuple  = re.findall(r'sold by (.*?) and (\\w+) (\\w+)$',pub)[0]\n",
    "        p.append(f'{nameTuple[1]} {nameTuple[2]}')\n",
    "        spaces = re.findall(r'\\s',nameTuple[0])\n",
    "        if len(spaces) == 1:\n",
    "            p.append(nameTuple[0])\n",
    "        else:\n",
    "            print('\\tMANY PUBS',pub)\n",
    "    if 'for' not in pub: \n",
    "        if 'sold by' not in pub:\n",
    "            if pub != 's n' and pub != 'No publisher':\n",
    "                print(pub)\n",
    "print(sorted(list(set(p))))"
   ]
  },
  {
   "cell_type": "code",
   "execution_count": 48,
   "metadata": {},
   "outputs": [
    {
     "name": "stdout",
     "output_type": "stream",
     "text": [
      "Printed and sold by A Moore near St Paul s Church Yard\n",
      "\tMANY PRINTERS ('John Haviland Miles Flesher', 'John Beale')\n",
      "\tMANY PRINTERS ('Nich', 'Iohn Okes')\n",
      "\tMANY PRINTERS ('H Lownes', 'R Young and J Beale')\n",
      "\tMANY PRINTERS ('Eliot s Court Press', 'R Young')\n",
      "['A Hatfield', 'A Miller', 'AH', 'AM TW', 'Augustine Mathewes', 'Bernard Alsop', 'E Cotes', 'E Griffin', 'EC', 'EG', 'Edward Griffin', 'Eliot s Court Press', 'Elizabeth Purslowe', 'Esic Allde', 'F Kyngston', 'Felix Kingston', 'Felix Kyngston', 'G Larkin', 'G Miller', 'GM', 'George Eld', 'George Miller', 'H Lownes', 'Humfrey Lownes', 'Humphrey Lownes', 'I Beale', 'I Dawson', 'I Haviland', 'Iohn Harison', 'Iohn Hauiland', 'Iohn Haviland', 'Iohn Legat', 'Iohn Okes', 'Iohn Pindley', 'Iohn Windet', 'J Cadwel', 'J Haviland', 'JC', 'JG', 'JL', 'JT', 'John Beale', 'M Bradwood', 'M Flesher', 'M Parsons', 'M Simmons', 'MF', 'Marmaduke Parsons', 'Melch Bradwood', 'Melchisedech Bradwood', 'Miles Flesher', 'N Okes', 'Nicholas Okes', 'R Badger', 'R Ibbitson', 'R Young', 'RL', 'Richard Badger', 'Richard Bradock', 'Robert Robinson', 'SG', 'T Cotes', 'T Creede', 'T East', 'T Snodham', 'Tho Cotes', 'Thomas Cotes', 'Thomas Creed', 'Thomas Harper', 'W Hall', 'W Iones', 'W Stansby', 'WH', 'WS', 'William Iaggard', 'William Iones', 'William Stansby']\n"
     ]
    }
   ],
   "source": [
    "p = []\n",
    "for pub in pubs:\n",
    "    if re.search('Imprinted|printed|Reprinted|re printed',pub): \n",
    "        pub = re.sub('Imprinted|printed|Reprinted|re printed','Printed',pub)\n",
    "\n",
    "    if re.search(r'Printed by (.*?) and (.*?) for',pub):\n",
    "        n  = re.findall(r'Printed by (.*?) and (.*?) for',pub)[0]\n",
    "        \n",
    "        # Deal with the printer names that come after the 'and' \n",
    "        if re.search(r'^(\\w{1}) (\\w{1})$',n[1]):\n",
    "            p.append(n[1].replace(' ',''))\n",
    "        elif re.search(r'^(\\w{1}) (\\w{1}) (\\w+)$',n[1]): \n",
    "            name = re.findall(r'^(\\w{1}) (\\w{1}) (\\w+)$',n[1])[0]\n",
    "            p.append(f'{name[0]} {name[1]}{name[2]}')\n",
    "        elif re.search(r'^(\\w{1}) (\\w+) (\\w{1}) (\\w+)$',n[1]): \n",
    "            name = re.findall(r'^(\\w{1}) (\\w+) (\\w{1}) (\\w+)$',n[1])[0]\n",
    "            p.append(f'{name[0]}{name[1]} {name[2]}{name[3]}')\n",
    "        elif 'and' in n[1]:\n",
    "            print(f'\\tMANY PRINTERS',n)\n",
    "        else: \n",
    "            p.append(n[1])\n",
    "        \n",
    "        # Deal with the names that occur before 'and'\n",
    "        spaces = re.findall(r'\\s',n[0])\n",
    "        if len(spaces) == 1:\n",
    "            p.append(n[0])\n",
    "        elif re.search(r'^(\\w{1}) (\\w{1}) (\\w+)$',n[0]):\n",
    "            name = re.findall(r'^(\\w{1}) (\\w{1}) (\\w+)$',n[0])[0]\n",
    "            p.append(f'{name[0]} {name[1]}{name[2]}')\n",
    "        elif re.search(r'^(\\w{1}) (\\w+) (\\w{1}) (\\w+)$',n[0]): \n",
    "            name = re.findall(r'^(\\w{1}) (\\w+) (\\w{1}) (\\w+)$',n[0])[0]\n",
    "            p.append(f'{name[0]}{name[1]} {name[2]}{name[3]}')\n",
    "        else: \n",
    "            print(f'\\tMANY PRINTERS',n)\n",
    "\n",
    "    elif re.search(r'Printed by (.*?) for',pub):\n",
    "        n  = re.findall(r'Printed by (.*?) for',pub)[0]\n",
    "        if re.search(r'^(\\w{1}) (\\w{1})$',n):\n",
    "            p.append(n.replace(' ',''))\n",
    "        elif re.search(r'^(\\w{1}) (\\w{1}) (\\w+)$',n):\n",
    "            name = re.findall(r'^(\\w{1}) (\\w{1}) (\\w+)$',n)[0]\n",
    "            p.append(f'{name[0]} {name[1]}{name[2]}')\n",
    "        elif re.search(r'^(\\w{1}) (\\w+) (\\w{1}) (\\w+)$',n): \n",
    "            name = re.findall(r'^(\\w{1}) (\\w+) (\\w{1}) (\\w+)$',n)[0]\n",
    "            p.append(f'{name[0]}{name[1]} {name[2]}{name[3]}')\n",
    "        else: \n",
    "            p.append(n)\n",
    "    \n",
    "    if 'Printed and sold by' in pub: \n",
    "        print(pub)\n",
    "\n",
    "    if re.search(r'By (.*?) for',pub): \n",
    "        n = re.findall(r'By (.*?) for',pub)[0]\n",
    "        if re.search(r'^(\\w{1}) (\\w{1})$',n):\n",
    "            p.append(n.replace(' ',''))\n",
    "        elif re.search(r'^(\\w{1}) (\\w{1}) (\\w+)$',n): \n",
    "            name = re.findall(r'^(\\w{1}) (\\w{1}) (\\w+)$',n)[0]\n",
    "            p.append(f'{name[0]} {name[1]}{name[2]}')\n",
    "        elif re.search(r'^(\\w{1}) (\\w+) (\\w{1}) (\\w+)$',n): \n",
    "            name = re.findall(r'^(\\w{1}) (\\w+) (\\w{1}) (\\w+)$',n)[0]\n",
    "            p.append(f'{name[0]}{name[1]} {name[2]}{name[3]}')\n",
    "        elif 'and' in n:\n",
    "            print(f'\\tMANY PRINTERS',n)\n",
    "        else: \n",
    "            p.append(n)\n",
    "\n",
    "print(sorted(list(set(p))))"
   ]
  },
  {
   "cell_type": "code",
   "execution_count": 15,
   "metadata": {},
   "outputs": [
    {
     "name": "stdout",
     "output_type": "stream",
     "text": [
      "Printed by J T for Andrew Crook\n",
      "Printed by J T and are to be sold by John Alen\n"
     ]
    }
   ],
   "source": [
    "for pub in pubs: \n",
    "        if 'J T' in pub: \n",
    "                print(pub)"
   ]
  },
  {
   "cell_type": "code",
   "execution_count": 25,
   "metadata": {},
   "outputs": [],
   "source": [
    "import pandas as pd \n",
    "import os,re,shutil\n",
    "csvfile = 'charityTCP.csv'\n",
    "data = pd.read_csv(csvfile)\n",
    "tcpIDs = data['id']\n",
    "TCP = '/Users/amycweng/Digital Humanities/TCP'\n",
    "for id in tcpIDs:\n",
    "    if re.match('B1|B4',id[0:2]):\n",
    "        if f'{id}.P4.xml' in os.listdir(f'{TCP}/P2{id[0:2]}'): \n",
    "            path = f'{TCP}/P2{id[0:2]}/{id}.P4.xml'\n",
    "            found = True\n",
    "        else: found = False\n",
    "    else: \n",
    "        if f'{id}.P4.xml' in os.listdir(f'{TCP}/P1{id[0:2]}'):\n",
    "            path = f'{TCP}/P1{id[0:2]}/{id}.P4.xml'\n",
    "            found = True\n",
    "        elif f'{id}.P4.xml' in os.listdir(f'{TCP}/P2{id[0:2]}'): \n",
    "            path = f'{TCP}/P2{id[0:2]}/{id}.P4.xml'\n",
    "            found = True\n",
    "        else: found = False\n",
    "    if found: shutil.copy(path,f'/Users/amycweng/Digital Humanities/charity')\n",
    "    else: print(f'{id} not found')"
   ]
  }
 ],
 "metadata": {
  "kernelspec": {
   "display_name": "Python 3.9.7 ('base')",
   "language": "python",
   "name": "python3"
  },
  "language_info": {
   "codemirror_mode": {
    "name": "ipython",
    "version": 3
   },
   "file_extension": ".py",
   "mimetype": "text/x-python",
   "name": "python",
   "nbconvert_exporter": "python",
   "pygments_lexer": "ipython3",
   "version": "3.9.7"
  },
  "orig_nbformat": 4,
  "vscode": {
   "interpreter": {
    "hash": "40d3a090f54c6569ab1632332b64b2c03c39dcf918b08424e98f38b5ae0af88f"
   }
  }
 },
 "nbformat": 4,
 "nbformat_minor": 2
}
