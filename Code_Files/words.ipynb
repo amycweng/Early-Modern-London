{
 "cells": [
  {
   "cell_type": "markdown",
   "id": "6c71dbcb",
   "metadata": {},
   "source": [
    "1. Named entity recognition (NER) using spaCy\n",
    "2. Finding occurrences of interesting key terms and their context windows "
   ]
  },
  {
   "cell_type": "code",
   "execution_count": 1,
   "id": "f9417b33",
   "metadata": {},
   "outputs": [],
   "source": [
    "import os, re, string\n",
    "import re\n",
    "import pandas as pd\n",
    "import spacy\n",
    "from collections import Counter\n",
    "# For first time downloading: \n",
    "# !python -m spacy download en_core_web_sm\n",
    "\n",
    "# Get text info into a dictionary with keys as the file name. \n",
    "# Automatically breaks texts that are longer than 1 million words into two separate dictionary entries (assumes that the total size is less than 2m words)\n",
    "def getTexts(folder):\n",
    "    texts = {}\n",
    "    for file in os.listdir(folder):\n",
    "        if 'NOTES' not in file: \n",
    "            name = file.split('.')[0]\n",
    "            path = os.path.join(folder,file)\n",
    "            with open(path,'r') as file: \n",
    "                data = file.readlines()\n",
    "            if len(data) != 0: \n",
    "                text = data[0].split(' ')\n",
    "                length = len(text)\n",
    "                if length > 1000000: \n",
    "                    texts[f'{name}_part1'] = ' '.join(text[:length/2])\n",
    "                    texts[f'{name}_part2'] = ' '.join(text[length/2:])\n",
    "                else: \n",
    "                    texts[name] = ' '.join(text)\n",
    "    return texts"
   ]
  },
  {
   "cell_type": "code",
   "execution_count": null,
   "id": "52bd5434",
   "metadata": {},
   "outputs": [],
   "source": [
    "playFiles = getTexts('/Users/amycweng/Digital Humanities/Early-Modern-London/playPartsTXT')\n",
    "print(len(playFiles))"
   ]
  },
  {
   "cell_type": "code",
   "execution_count": 2,
   "id": "bf180880",
   "metadata": {},
   "outputs": [
    {
     "name": "stdout",
     "output_type": "stream",
     "text": [
      "201\n"
     ]
    }
   ],
   "source": [
    "charityTexts = getTexts('/Users/amycweng/Digital Humanities/charityTXT')\n",
    "print(len(charityTexts))"
   ]
  },
  {
   "cell_type": "code",
   "execution_count": null,
   "id": "507b3c5d",
   "metadata": {},
   "outputs": [],
   "source": [
    "#running named entity recognition using spaCy\n",
    "allEnts = []\n",
    "ner = spacy.load('en_core_web_sm')\n",
    "count = 0\n",
    "for name, text in playFiles.items():\n",
    "    count += 1\n",
    "    if not count % 40: print(f'processed {count} so far')\n",
    "    entities = ner(text)\n",
    "    for ent in entities.ents:\n",
    "        allEnts.append(str(ent))"
   ]
  },
  {
   "cell_type": "code",
   "execution_count": null,
   "id": "6a6c9689",
   "metadata": {},
   "outputs": [],
   "source": [
    "allEntities = []\n",
    "for ent in allEnts: \n",
    "    allEntities.append(str(ent))"
   ]
  },
  {
   "cell_type": "code",
   "execution_count": null,
   "id": "942a210a",
   "metadata": {},
   "outputs": [],
   "source": [
    "counts = Counter(allEntities)\n",
    "print(counts.most_common(n=50))"
   ]
  },
  {
   "cell_type": "code",
   "execution_count": null,
   "id": "34937707",
   "metadata": {},
   "outputs": [],
   "source": [
    "with open('/Users/amycweng/Digital Humanities/Early-Modern-London/Other_Files/playsNER.txt','w+') as file: \n",
    "    file.write(str(counts.most_common(n=10000000)))"
   ]
  },
  {
   "cell_type": "code",
   "execution_count": 108,
   "id": "4b7ed4bb",
   "metadata": {},
   "outputs": [],
   "source": [
    "places = ['citizen','livery','alderman','pilgrim',\n",
    "'window','shop','chamber','bridge',\n",
    "'wall','st paul','westminster','thames',\n",
    "'river','sea','channel','pond','temple',\n",
    "'city','village','province','town',\n",
    "'house',' inn ','market','gate',\n",
    "'cheapside','bishopsgate','southwark',\n",
    "'cornhill','tavern','hall','chapel',\n",
    "'england','hospital','tower','gallow',\n",
    "'neighbourhood','parish','suburb',\n",
    "'manor','prison','playhouse',\n",
    "'churchyard','abbey','aldersgate',\n",
    "'alley','whitechapel','shire','london',\n",
    "'company','corporation']\n",
    "# for idx in range(len(places)): \n",
    "#     places[idx] = f'^{places[idx]}$'\n",
    "place_search = '|'.join(places)\n",
    "\n",
    "words = ['charity','charitable','alm','bequest',\n",
    "        'poor','rate','usury','usurer','bequeath',\n",
    "        'money','beneficence','poverty','credit',\n",
    "        'creditor','loan','lend','new','novel','novelty',\n",
    "        'wealth','profit','profitable','beneficial',\n",
    "        'commodity','thrift','thrifty','industry','bullion',\n",
    "        'talon','talent','beggar','needy','bestow',\n",
    "        'liberality','giving','penny','liberal',\n",
    "        'shilling','pound','score','restitution','default',\n",
    "        'halfpenny','quarter','ounce','pound','broker',\n",
    "        'debtor','debt']\n",
    "# for idx in range(len(words)): \n",
    "#     words[idx] = f'^{words[idx]}$'\n",
    "words_search = '|'.join(words)"
   ]
  },
  {
   "cell_type": "code",
   "execution_count": 145,
   "id": "60b55922",
   "metadata": {},
   "outputs": [],
   "source": [
    "phrases = []\n",
    "for name, text in charityTexts.items():\n",
    "    indices = []\n",
    "    text = text.split(' ')\n",
    "    for idx, word in enumerate(text):\n",
    "        toContinue = False\n",
    "        # if re.match('cheapside|southwark|westminster|cornhill|lombard|the tower|thames|bankside|royal exchange|^gate$|whitechapel|hall|bridge|london',word):\n",
    "        if re.match('citizen|citizenship|alderman',word):  \n",
    "            for i in indices:\n",
    "                if idx in range(i-20,i+20):\n",
    "                    toContinue = True\n",
    "            if not toContinue: \n",
    "                phrases.append((name, ' '.join(text[idx-40:idx+40])))\n",
    "                indices.append(idx)"
   ]
  },
  {
   "cell_type": "code",
   "execution_count": 148,
   "id": "f8c81ede",
   "metadata": {},
   "outputs": [
    {
     "name": "stdout",
     "output_type": "stream",
     "text": [
      "23\n"
     ]
    }
   ],
   "source": [
    "count = 0\n",
    "for phrase in phrases: \n",
    "    if re.search('charity|poor|charitable|works of charity|alm',phrase[1]): \n",
    "        count += 1\n",
    "        # print(phrase,'\\n')\n",
    "print(count)"
   ]
  },
  {
   "cell_type": "code",
   "execution_count": 19,
   "id": "c2356d0a",
   "metadata": {},
   "outputs": [],
   "source": [
    "phrases = []\n",
    "for name, text in charityTexts.items():\n",
    "    indices = []\n",
    "    text = text.split(' ')\n",
    "    for idx, word in enumerate(text):\n",
    "        toContinue = False\n",
    "        if re.search(r'\\bpenny\\b|\\bpound\\b|\\bshilling\\b|\\bgive alm\\b|\\bhalfpenny\\b|\\bpence\\b',word):  \n",
    "            for i in indices:\n",
    "                if idx in range(i-10,i+10):\n",
    "                    toContinue = True\n",
    "            if not toContinue: \n",
    "                phrases.append((name, ' '.join(text[idx-10:idx+10])))\n",
    "                indices.append(idx)"
   ]
  },
  {
   "cell_type": "code",
   "execution_count": 27,
   "id": "ac8ff29c",
   "metadata": {},
   "outputs": [
    {
     "name": "stdout",
     "output_type": "stream",
     "text": [
      "('A19588', 'weekly to the pope a julio a piece about six penny sterling the whole revenue whereof in the year do')\n",
      "('A19589', 'weekly to the pope a julio a piece about six penny sterling the whole revenue whereof in the year do')\n"
     ]
    }
   ],
   "source": [
    "for phrase in phrases: \n",
    "    if re.search('pope',phrase[1]):\n",
    "        print(phrase)"
   ]
  }
 ],
 "metadata": {
  "kernelspec": {
   "display_name": "Python 3.9.7 ('base')",
   "language": "python",
   "name": "python3"
  },
  "language_info": {
   "codemirror_mode": {
    "name": "ipython",
    "version": 3
   },
   "file_extension": ".py",
   "mimetype": "text/x-python",
   "name": "python",
   "nbconvert_exporter": "python",
   "pygments_lexer": "ipython3",
   "version": "3.9.7"
  },
  "vscode": {
   "interpreter": {
    "hash": "40d3a090f54c6569ab1632332b64b2c03c39dcf918b08424e98f38b5ae0af88f"
   }
  }
 },
 "nbformat": 4,
 "nbformat_minor": 5
}
