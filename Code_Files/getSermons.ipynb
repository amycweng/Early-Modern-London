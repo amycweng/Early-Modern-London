{
 "cells": [
  {
   "cell_type": "code",
   "execution_count": null,
   "metadata": {},
   "outputs": [],
   "source": [
    "from getTexts import *\n",
    "import pandas as pd "
   ]
  },
  {
   "cell_type": "code",
   "execution_count": null,
   "metadata": {},
   "outputs": [],
   "source": [
    "'''\n",
    "Extract the entire body text from an XML document.  \n",
    "'''\n",
    "csv_data = pd.read_csv('/Users/amycweng/Digital Humanities/Early-Modern-London/Relevant_Metadata/charityTCP.csv')\n",
    "tcpIDs = list(set([ _ for _ in csv_data['id']]))\n",
    "outputfolder = 'charityTXT'\n",
    "convert(tcpIDs,outputfolder)\n",
    "print(underscores)\n",
    "convert(underscores,outputfolder)\n",
    "\n",
    "'''\n",
    "Processing 201 texts takes 17 minutes \n",
    "\n",
    "TCP charity texts that are not in EP: \n",
    "'B33867', 'B13871', 'B13868', 'B13878', 'B13862', 'B13860', \n",
    "'B09696', 'B05798', 'A86972', 'A19579', 'A09957', \n",
    "'''"
   ]
  },
  {
   "cell_type": "code",
   "execution_count": null,
   "metadata": {},
   "outputs": [],
   "source": [
    "csv_data = pd.read_csv('/Users/amycweng/Digital Humanities/Early-Modern-London/Relevant_Metadata/charityTCP.csv')\n",
    "tcpIDs = [ _ for _ in csv_data['id']]\n",
    "textIDs = []\n",
    "print(len(set(tcpIDs)))\n",
    "for file in os.listdir('/Users/amycweng/Digital Humanities/charityTXT'):\n",
    "    if 'NOTES' in file: continue\n",
    "    textID = file.split('.')[0]\n",
    "    textIDs.append(textID)\n",
    "print(sorted(textIDs))\n",
    "for ID in tcpIDs: \n",
    "    if ID not in textIDs: \n",
    "        print(ID)"
   ]
  },
  {
   "cell_type": "code",
   "execution_count": null,
   "metadata": {},
   "outputs": [],
   "source": [
    "def findTextTCP(id):\n",
    "    if re.match('B1|B4',id[0:2]):\n",
    "        path = f'{TCP}/P2{id[0:2]}/{id}.P4.xml'\n",
    "    else: \n",
    "        if f'{id}.P4.xml' in os.listdir(f'{TCP}/P1{id[0:2]}'):\n",
    "            path = f'{TCP}/P1{id[0:2]}/{id}.P4.xml'\n",
    "        elif f'{id}.P4.xml' in os.listdir(f'{TCP}/P2{id[0:2]}'): \n",
    "            path = f'{TCP}/P2{id[0:2]}/{id}.P4.xml'\n",
    "    return path "
   ]
  },
  {
   "cell_type": "code",
   "execution_count": null,
   "metadata": {},
   "outputs": [],
   "source": [
    "'''\n",
    "For efficiency, extract notes (marginalia) directly from TCP (parsing EP files takes much longer)\n",
    "'''\n",
    "folder = f'/Users/amycweng/Digital Humanities/charityTXT'\n",
    "for tcpID in tcpIDs: \n",
    "    path = findTextTCP(tcpID)\n",
    "    with open(path,'r') as file: \n",
    "        data = file.read()\n",
    "    bodyTag = SoupStrainer(\"note\")\n",
    "    soup = BeautifulSoup(data,parse_only=bodyTag,features='html.parser')\n",
    "    note_text = notes(soup)\n",
    "    if note_text != '': \n",
    "        with open(f'{folder}/{tcpID}NOTES.txt') as file: \n",
    "            file.write()"
   ]
  }
 ],
 "metadata": {
  "kernelspec": {
   "display_name": "Python 3.9.7 ('base')",
   "language": "python",
   "name": "python3"
  },
  "language_info": {
   "codemirror_mode": {
    "name": "ipython",
    "version": 3
   },
   "file_extension": ".py",
   "mimetype": "text/x-python",
   "name": "python",
   "nbconvert_exporter": "python",
   "pygments_lexer": "ipython3",
   "version": "3.9.7"
  },
  "orig_nbformat": 4,
  "vscode": {
   "interpreter": {
    "hash": "40d3a090f54c6569ab1632332b64b2c03c39dcf918b08424e98f38b5ae0af88f"
   }
  }
 },
 "nbformat": 4,
 "nbformat_minor": 2
}
