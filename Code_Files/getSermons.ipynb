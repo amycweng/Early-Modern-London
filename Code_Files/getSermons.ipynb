{
 "cells": [
  {
   "cell_type": "code",
   "execution_count": 1,
   "metadata": {},
   "outputs": [],
   "source": [
    "from getTexts import *\n",
    "import pandas as pd "
   ]
  },
  {
   "cell_type": "code",
   "execution_count": 2,
   "metadata": {},
   "outputs": [
    {
     "name": "stdout",
     "output_type": "stream",
     "text": [
      "B33867 is not in EP\n",
      "B13871 is not in EP\n",
      "processed 10\n",
      "B13868 is not in EP\n",
      "B13878 is not in EP\n",
      "B13862 is not in EP\n",
      "B13860 is not in EP\n",
      "B09696 is not in EP\n",
      "B05798 is not in EP\n",
      "processed 20\n",
      "A86972 is not in EP\n",
      "processed 30\n",
      "A19579 is not in EP\n",
      "processed 40\n",
      "A09957 is not in EP\n",
      "processed 50\n",
      "processed 60\n",
      "processed 70\n",
      "processed 80\n",
      "processed 90\n",
      "processed 100\n",
      "processed 110\n",
      "processed 120\n",
      "processed 130\n",
      "processed 140\n",
      "processed 150\n",
      "processed 160\n",
      "processed 170\n",
      "processed 180\n",
      "processed 190\n",
      "processed 200\n",
      "processed 210\n",
      "[]\n"
     ]
    }
   ],
   "source": [
    "'''\n",
    "Extract the entire body text from an XML document.  \n",
    "'''\n",
    "csv_data = pd.read_csv('/Users/amycweng/Digital Humanities/Early-Modern-London/Relevant_Metadata/charityTCP.csv')\n",
    "tcpIDs = [ _ for _ in csv_data['id']]\n",
    "outputfolder = 'charityTXT'\n",
    "convert(tcpIDs,outputfolder)\n",
    "print(underscores)\n",
    "convert(underscores,outputfolder)\n",
    "\n",
    "'''\n",
    "Processing 210 texts takes 17 minutes \n",
    "\n",
    "TCP charity texts that are not in EP: \n",
    "'B33867', 'B13871', 'B13868', 'B13878', 'B13862', 'B13860', \n",
    "'B09696', 'B05798', 'A86972', 'A19579', 'A09957', \n",
    "'''"
   ]
  },
  {
   "cell_type": "code",
   "execution_count": null,
   "metadata": {},
   "outputs": [],
   "source": [
    "def findTextTCP(id):\n",
    "    if re.match('B1|B4',id[0:2]):\n",
    "        path = f'{TCP}/P2{id[0:2]}/{id}.P4.xml'\n",
    "    else: \n",
    "        if f'{id}.P4.xml' in os.listdir(f'{TCP}/P1{id[0:2]}'):\n",
    "            path = f'{TCP}/P1{id[0:2]}/{id}.P4.xml'\n",
    "        elif f'{id}.P4.xml' in os.listdir(f'{TCP}/P2{id[0:2]}'): \n",
    "            path = f'{TCP}/P2{id[0:2]}/{id}.P4.xml'\n",
    "    return path "
   ]
  },
  {
   "cell_type": "code",
   "execution_count": null,
   "metadata": {},
   "outputs": [],
   "source": [
    "'''\n",
    "For efficiency, extract notes (marginalia) directly from TCP (parsing EP files takes much longer)\n",
    "'''\n",
    "folder = f'/Users/amycweng/Digital Humanities/charityTXT'\n",
    "for tcpID in tcpIDs: \n",
    "    path = findTextTCP(tcpID)\n",
    "    with open(path,'r') as file: \n",
    "        data = file.read()\n",
    "    bodyTag = SoupStrainer(\"note\")\n",
    "    soup = BeautifulSoup(data,parse_only=bodyTag,features='html.parser')\n",
    "    note_text = notes(soup)\n",
    "    if note_text != '': \n",
    "        with open(f'{folder}/{tcpID}NOTES.txt') as file: \n",
    "            file.write()"
   ]
  }
 ],
 "metadata": {
  "kernelspec": {
   "display_name": "Python 3.9.7 ('base')",
   "language": "python",
   "name": "python3"
  },
  "language_info": {
   "codemirror_mode": {
    "name": "ipython",
    "version": 3
   },
   "file_extension": ".py",
   "mimetype": "text/x-python",
   "name": "python",
   "nbconvert_exporter": "python",
   "pygments_lexer": "ipython3",
   "version": "3.9.7"
  },
  "orig_nbformat": 4,
  "vscode": {
   "interpreter": {
    "hash": "40d3a090f54c6569ab1632332b64b2c03c39dcf918b08424e98f38b5ae0af88f"
   }
  }
 },
 "nbformat": 4,
 "nbformat_minor": 2
}
