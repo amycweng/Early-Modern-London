{
 "cells": [
  {
   "cell_type": "code",
   "execution_count": 42,
   "metadata": {},
   "outputs": [],
   "source": [
    "from getTexts import *\n",
    "import pandas as pd \n",
    "import re \n",
    "\n",
    "def getTexts(folder,search):\n",
    "    texts = {}\n",
    "    for file in os.listdir(folder):\n",
    "        if 'NOTES' not in file: \n",
    "            name = file.split('.')[0]\n",
    "            if name in search: \n",
    "                path = os.path.join(folder,file)\n",
    "                with open(path,'r') as file: \n",
    "                    data = file.readlines()\n",
    "                if len(data) != 0: \n",
    "                    texts[name] = data[0]\n",
    "    return texts"
   ]
  },
  {
   "cell_type": "code",
   "execution_count": 43,
   "metadata": {},
   "outputs": [
    {
     "name": "stdout",
     "output_type": "stream",
     "text": [
      "70\n"
     ]
    }
   ],
   "source": [
    "csv_data = pd.read_csv('/Users/amycweng/Digital Humanities/sermons.csv')\n",
    "tcpIDs = [ _ for _ in csv_data['id']]\n",
    "sermons = getTexts('/Users/amycweng/Digital Humanities/charityTXT',tcpIDs)\n",
    "print(len(sermons))"
   ]
  },
  {
   "cell_type": "code",
   "execution_count": 190,
   "metadata": {},
   "outputs": [],
   "source": [
    "groups = {0: 'charity|charitable', \n",
    "        1: 'beneficience|bequeath|bestow|liberality|benevolence|goodwill| alm | almes |kindness|almsdeed',\n",
    "        2: 'poor|poverty|rich|wealthy|wealth|beggar|orphan|needy|labourer|impotent|bankrup|penury|meanness|prosperity|bounty',\n",
    "        3: 'rate|usury|usurer|money|commodity|talon|talent|coin|bullion|exchange|shilling|farthing| pound |penny|purchase',\n",
    "        4: 'credit|creditor|loan|lend',\n",
    "        5: ' debt|debtor|borrow|pledge|pawn',\n",
    "        6: 'industry|industrious|thrift|labor|labour|occupation|profit|profitable|commodious',\n",
    "        7: 'prison|imprisonment',\n",
    "        8: 'hospital|almshouse|orphanage',\n",
    "        9: 'city|citizen|london'\n",
    "        }"
   ]
  },
  {
   "cell_type": "code",
   "execution_count": 335,
   "metadata": {},
   "outputs": [
    {
     "name": "stdout",
     "output_type": "stream",
     "text": [
      "A02549 favour the sin be personal the call free which may be and be manage by other with all humble sociableness hospital frugality conscionable improvement of all mean and opportunity to the good of god church i may not yet dissemble that while we plead the divine right of episcopacy a double scandal be take by man otherwise not unjudicious and\n"
     ]
    }
   ],
   "source": [
    "tcpID = 'A02549'\n",
    "t = sermons[tcpID] \n",
    "t = t.split(' ')\n",
    "indices = []\n",
    "for idx, word in enumerate(t):\n",
    "    toContinue = False\n",
    "    # if re.match(rf'{groups[0]}|{groups[1]}|{groups[2]}|{groups[8]}|{groups[7]}',word):  \n",
    "    if re.match(rf'{groups[8]}',word):  \n",
    "        for i in indices:\n",
    "            if idx in range(i-20,i+40):\n",
    "                toContinue = True\n",
    "        if not toContinue: \n",
    "            indices.append(idx)\n",
    "            print(tcpID, ' '.join(t[idx-20:idx+40]))\n"
   ]
  },
  {
   "cell_type": "code",
   "execution_count": null,
   "metadata": {},
   "outputs": [],
   "source": [
    "for tcpID, t in sermons.items():\n",
    "    count = 0 \n",
    "    t = sermons[tcpID] \n",
    "    t = t.split(' ')\n",
    "    for idx, word in enumerate(t):\n",
    "        if re.match(rf'{groups[8]}',word):  \n",
    "            count += 1 \n",
    "    print(count)\n"
   ]
  },
  {
   "cell_type": "code",
   "execution_count": 6,
   "metadata": {},
   "outputs": [],
   "source": [
    "bible_charity = ['1corinthians 11 34', '1corinthians 13 3', '1corinthians 16 1', \n",
    "                '1corinthians 16 2', '1corinthians 16 3', '1john 3 17', '1timothy 5 16', \n",
    "                '1timothy 5 3', '1timothy 6 18', '2corinthians 8 11', '2corinthians 8 14', \n",
    "                '2corinthians 8 3', '2corinthians 9 6', '2corinthians 9 7', 'acts 10 2', \n",
    "                'acts 10 3', 'acts 10 31', 'acts 10 4', 'acts 2 45', 'acts 20 35', 'acts 24 17', \n",
    "                'acts 3 10', 'acts 3 2', 'acts 3 3', 'acts 3 6', 'acts 9 36', 'deuteronomy 12 12', \n",
    "                'deuteronomy 12 13', 'deuteronomy 12 14', 'deuteronomy 12 15', 'deuteronomy 14 28', \n",
    "                'deuteronomy 15 10', 'deuteronomy 15 11', 'deuteronomy 15 7', 'deuteronomy 15 8', \n",
    "                'deuteronomy 15 9', 'ephesians 4 28', 'ezekiel 16 49', 'ezra 1 4', 'ezra 1 6', \n",
    "                'galatians 2 10', 'hebrews 13 16', 'isaiah 1 17', 'isaiah 10 2', 'isaiah 14 30', \n",
    "                'isaiah 58 10', 'isaiah 58 7', 'isaiah 61 1', 'james 2 15', 'james 2 16', 'jeremiah 22 16', \n",
    "                'job 29 12', 'job 29 16', 'job 31 16', 'job 31 17', 'job 31 18', 'job 31 19', 'job 31 20', \n",
    "                'job 31 21', 'job 31 22', 'john 12 5', 'john 13 29', 'jude 1 23', 'levitcus 23 22', \n",
    "                'luke 10 35', 'luke 11 41', 'luke 12 33', 'luke 14 12', 'luke 14 13', 'luke 14 14', \n",
    "                'luke 14 21', 'luke 18 22', 'luke 19 8', 'luke 4 18', 'luke 7 22', 'luke 9 16', 'mark 10 21', \n",
    "                'mark 14 5', 'mark 14 7', 'mark 9 41', 'matthew 10 8', 'matthew 11 5', 'matthew 14 16', \n",
    "                'matthew 15 32', 'matthew 15 33', 'matthew 19 21', 'matthew 25 35', 'matthew 25 36', \n",
    "                'matthew 25 37', 'matthew 25 38', 'matthew 25 42', 'matthew 25 44', 'matthew 26 9', \n",
    "                'matthew 5 42', 'matthew 6 1', 'matthew 6 2', 'matthew 6 3', 'matthew 6 4', 'philippians 2 4', \n",
    "                'philippians 4 15', 'proverbs 11 24', 'proverbs 11 25', 'proverbs 11 26', 'proverbs 13 23', \n",
    "                'proverbs 14 21', 'proverbs 14 31', 'proverbs 19 17', 'proverbs 21 13', 'proverbs 22 16', \n",
    "                'proverbs 22 22', 'proverbs 22 7', 'proverbs 22 9', 'proverbs 28 27', 'proverbs 3 27', \n",
    "                'proverbs 31 20', 'proverbs 31 8', 'proverbs 6 30', 'psalm 107 41', 'psalm 112 5', \n",
    "                'psalm 140 12', 'psalm 146 7', 'psalm 37 21', 'psalm 41 1', 'psalm 72 12', \n",
    "                'psalm 72 13', 'psalm 72 4', 'psalm 82 3', 'psalm 82 4', 'psalm 9 18', 'romans 12 13', \n",
    "                'romans 12 8', 'romans 15 26', 'titus 3 14']"
   ]
  },
  {
   "cell_type": "code",
   "execution_count": 3,
   "metadata": {},
   "outputs": [],
   "source": [
    "helping = {'Acts 2:45':[], 'Mark 10:21': ['Matthew 19:21'],\n",
    "                'Matthew 19:21': ['Mark 10:21'], \n",
    "                'Deuteronomy 15:7': ['Deuteronomy 15:8', 'Matthew 5:42', 'Luke 6:34'],\n",
    "                'Galatians 2:10': ['Acts 11:30', '2 Corinthians 9:3'],\n",
    "                'Isaiah 58:7': ['Matthew 25:35','Matthew 25:36', 'Ezekiel 18:7'],\n",
    "                'Isaiah 61:1': ['Luke 4:18','Luke 4:19','Luke 7:22','Isaiah 42:7','Matthew 11:5','Psalm 147:3'],\n",
    "                'James 2:15': ['1John 3:17'],\n",
    "                'James 2:16': ['Proverbs 3:27', 'Proverbs 3:28', '1John 3:18'],\n",
    "                'Job 29:12': ['Psalm 72:12', 'Proverbs 21:13','James 1:27','Psalm 82:3','Psalm 10:18','Psalm 82:4','Job 5:15', 'Job 5:16'],\n",
    "                'Luke 11:41': [],\n",
    "                'Luke 12:33': ['Matthew 6:20'],\n",
    "                'Luke 14:12': ['Luke 14:13','Proverbs 3:27'],\n",
    "                'Matthew 25:35': ['Isaiah 58:7', 'Ezekiel 18:7', 'Matthew 25:36'],\n",
    "                'Philippians 2:4': ['1Corinthians 10:24'],\n",
    "                'Proverbs 3:27': ['Galatians 6:10'],\n",
    "                'Romans 12:8': ['Matthew 6:2', '2Corinthians 9:7'],\n",
    "                'Romans 12:13': ['Luke 18:1', '1Corinthians 16:1', 'Hebrews 13:2'],\n",
    "                'Titus 3:14': [],\n",
    "                'Proverbs 31:9': ['Psalm 82:2', 'Psalm 82:3']\n",
    "                }\n",
    "performativity = {'Matthew 6:1': [], 'Matthew 6:2': ['Romans 2:8'],\n",
    "            'Matthew 6:4': ['Matthew 6:3']}\n",
    "punishment = {'Matthew 25:42': ['Matthew 25:41', 'Matthew 25:43', 'Matthew 25:4'],\n",
    "            'Job 31:21': ['Job 31:22'],\n",
    "            'Proverbs 21:13': []}\n",
    "kinship = {'Isaiah 58:7': [], 'Proverbs 22:2': []}\n",
    "solutions = {'Ephesians 4:28': []}\n",
    "godly = {'Acts 10:2': [], 'Hebrews 13:16': [],\n",
    "        'Proverbs 14:31': ['Proverbs 17:5', '1John 4:21','Proverbs 14:21'],\n",
    "        'Proverbs 19:17': [],\n",
    "        'Mark 9:41': ['Matthew 10:42'],\n",
    "        'Proverbs 11:24': ['Proverbs 19:17', 'Luke 6:38', 'Psalm 112:9', 'Proverbs 22:16','Proverbs 28:27', 'Proverbs 14:21'],\n",
    "        'Proverbs 11:25': [],\n",
    "        'Proverbs 11:26':[],\n",
    "        'Acts 20:35': [],\n",
    "        'Proverbs 22:9': ['Proverbs 19:17']}\n",
    "extra = ['Proverbs 31:9', 'Proverbs 22:2']\n",
    "allied_dict = {'helping': helping, 'performativity': performativity, 'punishment': punishment, 'kinship': kinship, 'solutions': solutions, 'godly': godly}\n"
   ]
  },
  {
   "cell_type": "code",
   "execution_count": null,
   "metadata": {},
   "outputs": [],
   "source": [
    "from bibleMarginalia import getMarginalia\n",
    "all_specials = []\n",
    "margin_dict = {}\n",
    "for tcpID in tcpIDs: \n",
    "    path = findTextTCP(tcpID)\n",
    "    notes, specials = getMarginalia(path)\n",
    "    all_specials.extend(specials)\n",
    "    margin_dict[tcpID] = []\n",
    "    for note in notes:\n",
    "        for passage in bible_charity: \n",
    "            if note == passage: \n",
    "                margin_dict[tcpID].append(note)\n",
    "    if len(margin_dict[tcpID]) != 0: print(tcpID, margin_dict[tcpID])"
   ]
  },
  {
   "cell_type": "code",
   "execution_count": 45,
   "metadata": {},
   "outputs": [
    {
     "name": "stdout",
     "output_type": "stream",
     "text": [
      "A68088\n",
      "/Users/amycweng/Digital Humanities/TCP/P1A6/A68088.P4.xml\n"
     ]
    }
   ],
   "source": [
    "all_notes = []\n",
    "from better_marginalia import bible,numBook, replaceBible, replaceNumBook\n",
    "cases = ['matthew 13 25, 26, 30', 'matthew 5 16 & 6 10', 'exodus 32 12, 32'\n",
    "        'psalms 6 1, 2, 3 6 & 13 1, 2 & 27 9, 13 & 30 7 & 31 16, 22 & 77 1, 2, 7, 8, 9, 10']\n",
    "outfile = open('/Users/amycweng/Digital Humanities/rawNotes.txt', 'w')\n",
    "bibleBooks = [x for x in bible.values()]\n",
    "bibleBooks.extend([x for x in numBook.values()])\n",
    "def verify(text): \n",
    "    for book in bibleBooks:\n",
    "        if re.search(rf'{book} \\d+', text): \n",
    "            return True\n",
    "        \n",
    "for idx, tcpID in enumerate(tcpIDs):\n",
    "    print(tcpID) \n",
    "    path = findTextTCP(tcpID)\n",
    "    print(path)\n",
    "    with open(path,'r') as file: \n",
    "        data = file.read()\n",
    "    noteTag = SoupStrainer(\"note\")\n",
    "    soup = BeautifulSoup(data,parse_only=noteTag,features='html.parser')\n",
    "    notes_list = []\n",
    "    for note in soup.find_all('note'): \n",
    "        n = note.text.lower()\n",
    "        n = re.sub(r'(\\.)',r' ',n)\n",
    "        n = re.sub(r'\\s+',' ',n)\n",
    "        n = replaceBible(n)\n",
    "        n = replaceNumBook(n)\n",
    "        if verify(n): \n",
    "            outfile.write(f'{n}\\n')  \n",
    "    if idx == 0: \n",
    "        break\n",
    "outfile.close()\n",
    "    "
   ]
  },
  {
   "cell_type": "code",
   "execution_count": 148,
   "metadata": {},
   "outputs": [
    {
     "name": "stdout",
     "output_type": "stream",
     "text": [
      "['mark 1 2, 3, 4', 'john 14 3 & 13 14', 'peter 23 32', 'twothessalonians 1 10 & 2 1, 8']\n"
     ]
    }
   ],
   "source": [
    "n = 'john 14 3 & 13 14 peter 23 32 mark 1 2, 3, 4 twothessalonians 1 10 & 2 1, 8'\n",
    "n = re.sub(r'(\\.)',r' ',n)\n",
    "n = re.sub(r'\\s+',' ',n)\n",
    "n = replaceBible(n)\n",
    "n = replaceNumBook(n)\n",
    "citations = []\n",
    "for book in bibleBooks:\n",
    "    phrase = re.search(rf'\\b{book}\\b(.*?)(?=[a-z])|\\b{book}\\b(.*?)$',n)\n",
    "    if phrase is None: continue\n",
    "    phrase = phrase.group()\n",
    "    citations.append(phrase.strip())\n",
    "print(citations)"
   ]
  },
  {
   "cell_type": "code",
   "execution_count": 82,
   "metadata": {},
   "outputs": [
    {
     "name": "stdout",
     "output_type": "stream",
     "text": [
      "Psalms 14 32 & 6 1, 2, 3 6 & 13 1, 2 & 27 9, 13 & 30 7 & 31 16, 22 & 77 1, 2, 7, 8, 9, 10\n",
      "['Psalms 14:32', 'Psalms 3:6', 'Psalms 6:1', 'Psalms 6:2', 'Psalms 13:1', 'Psalms 13:2', 'Psalms 27:9', 'Psalms 27:13', 'Psalms 30:7', 'Psalms 31:16', 'Psalms 31:22', 'Psalms 77:1', 'Psalms 77:2', 'Psalms 77:7', 'Psalms 77:8', 'Psalms 77:9', 'Psalms 77:10'] []\n"
     ]
    }
   ],
   "source": [
    "n = 'Psalms 14 32 ʋ & 6 1, 2, 3 6 & 13 1, 2 & 27 9, 13 & 30 7 & 31 16, 22 & 77 1, 2, 7, 8, 9, 10'\n",
    "n = re.sub(r'[^A-Za-z0-9\\,\\& ]','',n)\n",
    "phrase = re.sub(r'\\s+',' ',n)\n",
    "print(phrase)\n",
    "book = 'Psalms'\n",
    "phrases = []\n",
    "pesky = []\n",
    "def comma(book, passage, phrases): \n",
    "    edge_case = re.search(', \\d+ \\d+',passage)\n",
    "    if edge_case: \n",
    "        phrases.append(simple(book, edge_case.group(), phrases))\n",
    "        passage = re.sub(edge_case.group(), '',passage)\n",
    "        phrases.remove(None)\n",
    "    nums = re.findall(f'(\\d+)',passage)\n",
    "    for num in nums[1:]: \n",
    "        phrases.append(f'{book} {nums[0]}:{num}')\n",
    "\n",
    "def simple(book, passage, phrases): \n",
    "    passage = re.findall('(\\d+) (\\d+)',passage)[0]\n",
    "    phrases.append(f'{book} {passage[0]}:{passage[1]}')\n",
    "\n",
    "if re.search('&',phrase): \n",
    "    passages = phrase.split('&')\n",
    "    for passage in passages: \n",
    "        passage = passage.strip()\n",
    "        if re.search(',',passage):\n",
    "            comma(book, passage, phrases)\n",
    "        else:\n",
    "            simple(book, passage, phrases)\n",
    "elif re.search(', ',phrase): \n",
    "    phrases.extend(comma(book, phrase, phrases))\n",
    "else: \n",
    "    pesky.append(phrase)\n",
    "print(phrases, pesky)"
   ]
  },
  {
   "cell_type": "code",
   "execution_count": null,
   "metadata": {},
   "outputs": [],
   "source": [
    "print('phrase ', phrase)\n",
    "    # case of 'twothessalonians 1 10 & 2 1, 8'\n",
    "    phrase_1 = re.search(rf'\\b{book}\\b \\d+ (.*?), \\d+',phrase)\n",
    "    # case of 'john 14 3 & 13 14'\n",
    "    phrase_2 = re.search(rf'\\b{book}\\b (.*?) & \\d+ \\d+', phrase)\n",
    "    if phrase_1 is not None: \n",
    "        print(phrase_1.group()) \n",
    "    elif phrase_2 is not None: \n",
    "        print(phrase_2.group())\n",
    "    else: \n",
    "        search = re.search(rf'\\b{book}\\b \\d+ \\d+',n)\n",
    "        if search is not None: citation = search.group()"
   ]
  },
  {
   "cell_type": "code",
   "execution_count": 18,
   "metadata": {},
   "outputs": [
    {
     "name": "stdout",
     "output_type": "stream",
     "text": [
      "aha! Proverbs 3:28\n",
      "aha! James 1:27\n",
      "aha! Matthew 6:20\n",
      "aha! Galatians 6:10\n",
      "aha! Luke 18:1\n",
      "aha! Hebrews 13:2\n",
      "aha! Romans 2:8\n",
      "aha! Matthew 25:41\n",
      "aha! Proverbs 17:5\n",
      "aha! Matthew 10:42\n",
      "citations:  {'helping': ['Acts 2:45', 'Mark 10:21', 'Matthew 19:21', 'Deuteronomy 15:7', 'Galatians 2:10', 'Isaiah 58:7', 'Isaiah 61:1', 'James 2:15', 'James 2:16', 'Proverbs 3:28', 'Job 29:12', 'James 1:27', 'Luke 11:41', 'Luke 12:33', 'Matthew 6:20', 'Luke 14:12', 'Matthew 25:35', 'Philippians 2:4', 'Proverbs 3:27', 'Galatians 6:10', 'Romans 12:8', 'Romans 12:13', 'Luke 18:1', 'Hebrews 13:2', 'Titus 3:14', 'Proverbs 31:9'], 'performativity': ['Matthew 6:1', 'Matthew 6:2', 'Romans 2:8', 'Matthew 6:4'], 'punishment': ['Matthew 25:42', 'Matthew 25:41', 'Job 31:21', 'Proverbs 21:13'], 'kinship': ['Isaiah 58:7', 'Proverbs 22:2'], 'solutions': ['Ephesians 4:28'], 'godly': ['Acts 10:2', 'Hebrews 13:16', 'Proverbs 14:31', 'Proverbs 17:5', 'Proverbs 19:17', 'Mark 9:41', 'Matthew 10:42', 'Proverbs 11:24', 'Proverbs 11:25', 'Proverbs 11:26', 'Acts 20:35', 'Proverbs 22:9']} \n",
      "\n",
      "cross references:  {'helping': ['Matthew 19:21', 'Mark 10:21', 'Deuteronomy 15:8', 'Matthew 5:42', 'Luke 6:34', 'Acts 11:30', '2 Corinthians 9:3', 'Matthew 25:35', 'Matthew 25:36', 'Ezekiel 18:7', 'Luke 4:18', 'Luke 4:19', 'Luke 7:22', 'Isaiah 42:7', 'Matthew 11:5', 'Psalm 147:3', '1John 3:17', 'Proverbs 3:27', '1John 3:18', 'Psalm 72:12', 'Proverbs 21:13', 'Psalm 82:3', 'Psalm 10:18', 'Psalm 82:4', 'Job 5:15', 'Job 5:16', 'Luke 14:13', 'Proverbs 3:27', 'Isaiah 58:7', 'Ezekiel 18:7', 'Matthew 25:36', '1Corinthians 10:24', 'Matthew 6:2', '2Corinthians 9:7', '1Corinthians 16:1', 'Psalm 82:2', 'Psalm 82:3'], 'performativity': ['Matthew 6:3'], 'punishment': ['Matthew 25:43', 'Matthew 25:4', 'Job 31:22'], 'kinship': [], 'solutions': [], 'godly': ['1John 4:21', 'Proverbs 14:21', 'Proverbs 19:17', 'Luke 6:38', 'Psalm 112:9', 'Proverbs 22:16', 'Proverbs 28:27', 'Proverbs 14:21', 'Proverbs 19:17']}\n"
     ]
    }
   ],
   "source": [
    "all_cited = ['acts 10:2', 'acts 10:4', 'acts 2:45', 'acts 20:35', 'deuteronomy 15:7', 'ephesians 4:28', 'galatians 2:10', 'hebrews 13:16', 'isaiah 58:7', 'isaiah 61:1', 'james 2:15', 'james 2:16', 'job 29:12', 'job 31:21', 'luke 11:41', 'luke 12:33', 'luke 14:12', 'luke 14:14', 'luke 4:18', 'mark 10:21', 'mark 9:41', 'matthew 19:21', 'matthew 25:35', 'matthew 25:42', 'matthew 6:1', 'matthew 6:2', 'matthew 6:4', 'philippians 2:4', 'proverbs 11:24', 'proverbs 11:25', 'proverbs 11:26', 'proverbs 14:31', 'proverbs 19:17', 'proverbs 21:13', 'proverbs 22:9', 'proverbs 3:27', 'romans 12:13', 'romans 12:8', 'titus 3:14']\n",
    "citations = {'helping': [], 'performativity': [], 'punishment': [], 'kinship': [], 'solutions': [], 'godly': []}\n",
    "cross_references = {'helping': [], 'performativity': [], 'punishment': [], 'kinship': [], 'solutions': [], 'godly': []}\n",
    "\n",
    "for topic, topic_dict in allied_dict.items(): \n",
    "    for cited, allied_list in topic_dict.items(): \n",
    "        citations[topic].append(cited)\n",
    "        for passage in allied_list: \n",
    "            text = re.sub('\\:', ' ', passage)\n",
    "            if text.lower() in all_notes and passage.lower() not in all_cited: \n",
    "                print('aha!', passage)\n",
    "                citations[topic].append(passage)\n",
    "            else: cross_references[topic].append(passage)\n",
    "print('citations: ',citations,'\\n')\n",
    "print('cross references: ', cross_references)"
   ]
  },
  {
   "cell_type": "code",
   "execution_count": null,
   "metadata": {},
   "outputs": [],
   "source": [
    "from wordcloud import WordCloud \n",
    "import matplotlib.pyplot as plt\n",
    "word_cloud = WordCloud(background_color = \"white\", width=3000, height=2000, max_words=1000, collocations=True).generate_from_frequencies(counts)\n",
    "plt.figure(figsize=(20,10))\n",
    "plt.imshow(word_cloud)\n",
    "plt.axis(\"off\")\n",
    "plt.title(\"Common Marginalia in William Perkins' Texts\",fontsize=20)\n",
    "plt.show()"
   ]
  },
  {
   "cell_type": "code",
   "execution_count": 19,
   "metadata": {},
   "outputs": [
    {
     "name": "stdout",
     "output_type": "stream",
     "text": [
      "Counter({'isaiah 58 7': 4, 'acts 20 35': 4, 'matthew 25 35': 3, 'hebrews 13 16': 3, 'romans 12 8': 3, 'isaiah 61 1': 3, 'ephesians 4 28': 2, 'acts 10 4': 2, 'proverbs 19 17': 2, 'matthew 6 1': 2, 'romans 12 13': 2, 'matthew 6 4': 2, 'deuteronomy 15 7': 2, 'proverbs 3 27': 2, 'matthew 6 2': 2, 'philippians 2 4': 2, 'matthew 25 42': 2, 'proverbs 11 24': 2, 'luke 12 33': 2, 'acts 10 2': 1, 'james 2 15': 1, 'james 2 16': 1, 'luke 14 12': 1, 'titus 3 14': 1, 'luke 4 18': 1, 'job 29 12': 1, 'matthew 19 21': 1, 'mark 10 21': 1, 'galatians 2 10': 1, 'proverbs 11 26': 1, 'luke 11 41': 1, 'luke 14 14': 1, 'mark 9 41': 1, 'job 31 21': 1, 'proverbs 14 31': 1, 'proverbs 22 9': 1, 'proverbs 11 25': 1, 'proverbs 21 13': 1, 'acts 2 45': 1})\n"
     ]
    },
    {
     "data": {
      "image/png": "[encoded data removed]",
      "text/plain": [
       "<Figure size 1080x720 with 1 Axes>"
      ]
     },
     "metadata": {
      "needs_background": "light"
     },
     "output_type": "display_data"
    }
   ],
   "source": [
    "from collections import Counter\n",
    "margin = []\n",
    "for margin_list in margin_dict.values():\n",
    "    margin.extend(margin_list)\n",
    "print(Counter(margin))\n",
    "\n",
    "import matplotlib.pyplot as plt\n",
    "def bar(xData,yData,title,color,xlabel,ylabel):\n",
    "    plt.figure(figsize = (15, 10))\n",
    "    plt.barh(xData,yData,color=color)\n",
    "    plt.title(title, fontsize=20)\n",
    "    plt.xlabel(xlabel, fontsize=15)\n",
    "    plt.xticks(fontsize=12,rotation=60)\n",
    "    plt.ylabel(ylabel, fontsize=15)\n",
    "    plt.yticks(fontsize=10)\n",
    "    plt.show()\n",
    "\n",
    "marginTuples = Counter(margin).most_common(n=25)\n",
    "x,y = [],[]\n",
    "for word,freq in marginTuples: \n",
    "    x.append(word)\n",
    "    y.append(freq)\n",
    "bar(x,y,\"Bible Marginalia about Helping the Poor in Charity Sermons\",'pink','Frequency','Passage')\n"
   ]
  },
  {
   "cell_type": "code",
   "execution_count": null,
   "metadata": {},
   "outputs": [],
   "source": [
    "'''\n",
    "Extract the entire body text from an XML document.  \n",
    "'''\n",
    "outputfolder = 'charityTXT'\n",
    "convert(tcpIDs,outputfolder)\n",
    "print(underscores)\n",
    "convert(underscores,outputfolder)\n",
    "\n",
    "'''\n",
    "TCP charity texts that are not in EP: \n",
    "'B33867', 'B13871', 'B13868', 'B13878', 'B13862', 'B13860', \n",
    "'B09696', 'A86972', 'A19579', 'A09957'\n",
    "'''"
   ]
  },
  {
   "cell_type": "code",
   "execution_count": 25,
   "metadata": {},
   "outputs": [],
   "source": [
    "# patterns = [\"Preach't at (.*?)[^\\w\\s\\-]\",'Preached at (.*?)[^\\w\\s\\-]','preached at (.*?)[^\\w\\s\\-]','preached in (.*?)[^\\w\\s\\-\\']']\n",
    "patterns1 = [\"preach't (.*?)$\",\"preached at (.*?)$\",\"preached in (.*?)$\",\"preacht (.*?)$\",\"before the (.*?)$\", \"before his (.*?)$\"]\n",
    "patterns2 = [\"preacher at (.*?)$\",\"preacher in (.*?)$\",\"pastor at (.*?)$\",\"pastor of (.*?)$\"]\n",
    "places = []\n",
    "pastorPlaces = []\n",
    "import csv\n",
    "\n",
    "outFile = open(f'sermons_locations.csv','a+')\n",
    "columns = ['id','title','author','date','location']\n",
    "writer = csv.DictWriter(outFile, fieldnames=columns)\n",
    "writer.writeheader()\n",
    "\n",
    "located = []\n",
    "for idx, title in enumerate(csv_data['title']):\n",
    "    foundPattern1 = False\n",
    "    for pattern in patterns1: \n",
    "        place = re.search(rf'{pattern}', title)\n",
    "        if place: \n",
    "            # places.append(place.group())\n",
    "            dict = {'id': tcpIDs[idx], \n",
    "                    'title': title,\n",
    "                    'author': csv_data['author'][idx],\n",
    "                    'date': csv_data['date'][idx],\n",
    "                    'location': place.group()\n",
    "                    }\n",
    "            located.append(tcpIDs[idx])\n",
    "            writer.writerow(dict)\n",
    "            # print(f'{tcpIDs[idx]}: {place.group()}')\n",
    "            foundPattern1 = True\n",
    "            break\n",
    "    if not foundPattern1: \n",
    "        for pattern in patterns2: \n",
    "            place = re.search(rf'{pattern}', title)\n",
    "            if place: \n",
    "                dict = {'id': tcpIDs[idx], \n",
    "                    'title': title,\n",
    "                    'author': csv_data['author'][idx],\n",
    "                    'date': csv_data['date'][idx],\n",
    "                    'location': place.group()\n",
    "                }\n",
    "                # pastorPlaces.append(place.group())\n",
    "                located.append(tcpIDs[idx])\n",
    "                writer.writerow(dict)\n",
    "                foundPattern2 = True\n",
    "                break\n",
    "\n",
    "for idx, tcpID in enumerate(tcpIDs):\n",
    "    if tcpID in located: \n",
    "        continue\n",
    "    dict = {'id': tcpID, \n",
    "            'title': csv_data['title'][idx],\n",
    "            'author': csv_data['author'][idx],\n",
    "            'date': csv_data['date'][idx],\n",
    "            'location': ''\n",
    "            }\n",
    "    writer.writerow(dict)\n",
    "\n",
    "# print(len(places), len(pastorPlaces), len(places)+len(pastorPlaces))\n",
    "# print(places)\n",
    "# print(pastorPlaces)"
   ]
  },
  {
   "cell_type": "code",
   "execution_count": 69,
   "metadata": {},
   "outputs": [],
   "source": [
    "def findTextTCP(id):\n",
    "    if re.match('B1|B4',id[0:2]):\n",
    "        path = f'{TCP}/P2{id[0:2]}/{id}.P4.xml'\n",
    "    else: \n",
    "        if f'{id}.P4.xml' in os.listdir(f'{TCP}/P1{id[0:2]}'):\n",
    "            path = f'{TCP}/P1{id[0:2]}/{id}.P4.xml'\n",
    "        elif f'{id}.P4.xml' in os.listdir(f'{TCP}/P2{id[0:2]}'): \n",
    "            path = f'{TCP}/P2{id[0:2]}/{id}.P4.xml'\n",
    "    return path "
   ]
  },
  {
   "cell_type": "code",
   "execution_count": 90,
   "metadata": {},
   "outputs": [],
   "source": [
    "'''\n",
    "Extracting title pages directly from TCP. \n",
    "Title pages often contain information about where the sermon was preached. \n",
    "'''\n",
    "import csv \n",
    "folder = f'/Users/amycweng/Digital Humanities/'\n",
    "outfile = open(f'{folder}/sermon_titles.csv','a+')\n",
    "columns = ['id','title page']\n",
    "writer = csv.DictWriter(outfile, fieldnames=columns)\n",
    "writer.writeheader()\n",
    "\n",
    "tcpIDs = ['A65610','A15015']\n",
    "for tcpID in tcpIDs: \n",
    "    path = findTextTCP(tcpID)\n",
    "    with open(path,'r') as file: \n",
    "        data = file.read()\n",
    "    tag = SoupStrainer(\"div1\", attrs={'type':'title page'})\n",
    "    soup = BeautifulSoup(data,parse_only=tag,features='html.parser')\n",
    "    title = []\n",
    "    sentences = soup.find_all('p')\n",
    "    for sentence in sentences: \n",
    "        title.append(sentence.text)\n",
    "    if len(title) != 0: \n",
    "        title = ' '.join(title)\n",
    "        title = re.sub('\\n',' ',title)\n",
    "        t = re.search(r'^(.*?) \\d{4}',title)\n",
    "        if t: \n",
    "            writer.writerow({'id': tcpID,  'title page': t.group()})\n",
    "        else: \n",
    "            writer.writerow({'id': tcpID,  'title page': title})\n",
    "outfile.close()"
   ]
  }
 ],
 "metadata": {
  "kernelspec": {
   "display_name": "Python 3.9.7 ('base')",
   "language": "python",
   "name": "python3"
  },
  "language_info": {
   "codemirror_mode": {
    "name": "ipython",
    "version": 3
   },
   "file_extension": ".py",
   "mimetype": "text/x-python",
   "name": "python",
   "nbconvert_exporter": "python",
   "pygments_lexer": "ipython3",
   "version": "3.9.7"
  },
  "orig_nbformat": 4,
  "vscode": {
   "interpreter": {
    "hash": "40d3a090f54c6569ab1632332b64b2c03c39dcf918b08424e98f38b5ae0af88f"
   }
  }
 },
 "nbformat": 4,
 "nbformat_minor": 2
}
