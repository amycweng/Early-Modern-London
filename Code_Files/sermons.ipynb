{
 "cells": [
  {
   "cell_type": "code",
   "execution_count": 2,
   "metadata": {},
   "outputs": [],
   "source": [
    "from getTexts import *\n",
    "import pandas as pd \n",
    "import re "
   ]
  },
  {
   "cell_type": "code",
   "execution_count": 125,
   "metadata": {},
   "outputs": [],
   "source": [
    "csv_data = pd.read_csv('/Users/amycweng/Digital Humanities/Early-Modern-London/Relevant_Metadata/charityTCP.csv')\n",
    "tcpIDs = [ _ for _ in csv_data['id']]"
   ]
  },
  {
   "cell_type": "code",
   "execution_count": null,
   "metadata": {},
   "outputs": [],
   "source": [
    "'''\n",
    "Extract the entire body text from an XML document.  \n",
    "'''\n",
    "outputfolder = 'charityTXT'\n",
    "convert(tcpIDs,outputfolder)\n",
    "print(underscores)\n",
    "convert(underscores,outputfolder)\n",
    "\n",
    "'''\n",
    "Processing 190 texts takes over 15 minutes \n",
    "\n",
    "TCP charity texts that are not in EP: \n",
    "'B33867', 'B13871', 'B13868', 'B13878', 'B13862', 'B13860', \n",
    "'B09696', 'A86972', 'A19579', 'A09957'\n",
    "'''"
   ]
  },
  {
   "cell_type": "code",
   "execution_count": 152,
   "metadata": {},
   "outputs": [
    {
     "name": "stdout",
     "output_type": "stream",
     "text": [
      "38 27 65\n",
      "['preached in the Abbey Church of Westminster before the house of Peers, on the 24th of September, 1645. being the day of their monethly fast. / By William Gouge, one of the members of the Assembly.', 'before the house of Peers, on the 24th of September, 1645. being the day of their monethly fast. / By William Gouge, one of the members of the Assembly.', 'before his majestie at his court of Thebalds, on Sunday, Sept. 15. 1622 In the ordinary course of attendance. By Ios. Hall D.D.', 'before the Honourable House of Commons assembled in Parliament. At a publick fast, 29. Iune, 1642. By William Gouge.', 'before the Lords on a day of humiliation for a blessing on a treaty between His Majesties and the Parliaments commissioners. / By W. Gouge.', \"preach't to his Maiesty, at the court of White-hall. Aug.8. / By Jos. B. of Exon.\", 'preached at Paules Crosse, vpon the fourth of December, out of Luke. 12. 15. By William Whatelie, preacher of the word of God, in Banbury', 'preached at the Crosse, Feb. xiiij. 1607. By W. Crashawe, Batchelour of Diuinitie, and preacher at the temple; iustified by the authour, both against papist, and Brownist, to be the truth: wherein, this point is principally followed; namely, that the religion of Rome, as now it stands established, is worse then euer it was.', 'preached in the parish church of Banbury in certaine sermons, and now published in this present treatise. By William Whately minister there.', \"preached in Paul's church, Novemb. 17, 1644, in memoriall of the great deliverance which England had from antichristian bondage by Queen Elizabeths attaining the crowne/ by William Gouge ...\", 'before his Maiesty at Theobalds. September 19, 1624. By Ios. Hall deane of Worcester.', 'preached at the visitation of the Free-Schole at Tunbridge in Kent, by the wardens of the Worshipfull Companie of Skinners; by Thomas Gataker B. of D. and pastor of Rotherhith.', 'preached in Stepny Church neere London at the receiving of a penitent renegado into the Church, Octob. 21. 1638. By William Gouge D.D. and min. in Black-Friers London Herein is the history of the surprizall and admirable escape of the said penitent.', \"preach't to the Lords of the High Court of Parliament, in their solemne fast held on Ashwednesday, Feb. 18 And by their appointment published: by Ios: Exon.\", 'preached at the buriall of M. VVilliam Winter, citizen of London; together with the testimonie then giuen vnto him. By Thomas Gataker, B. of D. and pastor of Rotherhith.', \"preach't at the court, March, 1⁰. 1634. By the L. Bishop of Exceter.\", 'preached at the enterrement of the remaines of Mris Joice Featly. Together with the testimonie then given unto her by Tho. Gataker, B. of D. and rector of Rotherhith.', \"preach't in the solemne assembly of the city on Munday in Easter-weeke 1618 / by Ios. Hall ...\", 'preacht before his Matie; vpon his gracious command, at his court of Whitehall, Ian. 29. 1625. And vpon the same command published by Ios. Hall deane of Worcester.', 'before his Matie; vpon his gracious command, at his court of Whitehall, Ian. 29. 1625. And vpon the same command published by Ios. Hall deane of Worcester.', 'preached at the court before King James of blessed memory. By Iohn Preston, Dr. in Divinity, chaplaine in ordinary to his Majestie, Master of Emmanuel Colledge in Cambridge, and sometimes preacher of Lincolnes Inne.', 'before the Artillery Company of London, Iune xiij. 1626. By William Gouge, B. of Diuinity and preacher of Gods Word, in Black-friers London.', 'preached at Sergeants-Inne in Fleet-Streete. By Thomas Gataker B. of D. and pastor of Rotherhith.', 'preached at the buriall of Mr. John Parker merchant and citizen of London. By Tho. Gataker B. of D. and rector of Rotherhith.', 'preached at Paules Crosse vpon the anniuersarie solemnitie of the happie inauguration of our dread soueraigne Lord King James, Mar. 24, 1613 / by J.H.D.D.', 'preached at the happily-restored and reedified chappell of the Right Honorable the Earle of Exceter in his house, of S. Iohns On Saint Stephens day. 1623 By Ios. Hall, Deane of Worcester.', 'preached at Black-Friers London; on Psal. 95. 11. By Thomas Gataker B. of D. and pastor of Rotherhith.', 'preached at Sergeants Inne in Fleet-Street. By Thomas Gataker B. of D. and pastor of Rotherhith.', 'preacht at Westminster, on the day of the publike fast (April 5. 1628) to the Lords of the High Court of Parliament and by their appointment published. By the B. of Exceter.', 'before his Maiestie; and vpon other speciall occasions viz. 1 The pillar and ground of truth. 2 The new life. 3 A sensible demonstration of the Deity. 4 Exact walking. 5 Samuels support of sorrowfull sinners. By the late faithfull and worthy minister of Iesus Christ, Iohn Preston Dr. in Diuinity, chaplaine in ordinary to his Maiesty, master of Emmanuel College in Cambridge, and sometimes preacher of Lincolnes Inne.', 'preached in London before the right honorable the Lord Lavvarre, Lord Gouernour and Captaine Generall of Virginea, and others of his Maiesties Counsell for that kingdome, and the rest of the aduenturers in that plantation At the said Lord Generall his leaue taking of England his natiue countrey, and departure for Virginea, Febr. 21. 1609. By W. Crashaw Bachelar of Diuinitie, and preacher at the Temple. Wherein both the lawfulnesse of that action is maintained, and the necessity thereof is also demonstrated, not so much out of the grounds of policie, as of humanity, equity, and Christianity. Taken from his mouth, and published by direction.', 'before the right honorable the Lord Lavvarre, Lord Gouernour and Captaine Generall of Virginea, and others of his Maiesties Counsell for that kingdome, and the rest of the aduenturers in that plantation At the said Lord Generall his leaue taking of England his natiue countrey, and departure for Virginea, Febr. 21. 1609. By W. Crashaw Bachelar of Diuinitie, and preacher at the Temple. Wherein both the lawfulnesse of that action is maintained, and the necessity thereof is also demonstrated, not so much out of the grounds of policie, as of humanity, equity, and Christianity. Taken from his mouth, and published by direction.', 'preached at the Crosse, Feb. xiiii. 1607. By W. Crashawe, Batchelour of Diuinitie, and preacher at the temple; iustified by the authour, both against Papist, and Brownist, to be the truth: wherein, this point is principally intended; that the religion of Rome, as now it stands established, is still as bad as euer it was', 'before the king, at White-Hal, Nouember, 1616 by the late faithfull minister of Iesus Christ, Iohn Preston, Dr. In Diuinity, chapplaine in ordinar[y] to his maiesty, Mr. of Emmanuel Colledge in Cambridge, and sometimes preacher at Lincolnes Inne.', 'preached in London before the right honorable the Lord Lavvarre, Lord Gouernour and Captaine Generall of Virginea, and others of his Maiesties Counsell for that kingdome, and the rest of the aduenturers in that plantation At the said Lord Generall his leaue taking of England his natiue countrey, and departure for Virginea, Febr. 21. 1609. By W. Crashaw Bachelar of Diuinitie, and preacher at the Temple. Wherein both the lawfulnesse of that action is maintained, and the necessity thereof is also demonstrated, not so much out of the grounds of policie, as of humanity, equity, and Christianity. Taken from his mouth, and published by direction.', 'before the right honorable the Lord Lavvarre, Lord Gouernour and Captaine Generall of Virginea, and others of his Maiesties Counsell for that kingdome, and the rest of the aduenturers in that plantation At the said Lord Generall his leaue taking of England his natiue countrey, and departure for Virginea, Febr. 21. 1609. By W. Crashaw Bachelar of Diuinitie, and preacher at the Temple. Wherein both the lawfulnesse of that action is maintained, and the necessity thereof is also demonstrated, not so much out of the grounds of policie, as of humanity, equity, and Christianity. Taken from his mouth, and published by direction.', 'preached at the Crosse, Feb. xiiii. 1607. By W. Crashawe, Batchelour of Diuinitie, and preacher at the temple; iustified by the authour, both against Papist, and Brownist, to be the truth: wherein, this point is principally intended; that the religion of Rome, as now it stands established, is still as bad as euer it was', 'before the king, at White-Hal, Nouember, 1616 by the late faithfull minister of Iesus Christ, Iohn Preston, Dr. In Diuinity, chapplaine in ordinar[y] to his maiesty, Mr. of Emmanuel Colledge in Cambridge, and sometimes preacher at Lincolnes Inne.']\n",
      "['pastor of Rotherhith.', 'pastor at White-Chappell..', 'pastor of Rotherhith.', 'pastor of Rotherhith. Published by authority.', 'pastor at Rotherhith. And now gathered together into one volume: the severall texts and titles whereof are set downe in the leafe following', 'preacher at the Temple', 'preacher at White-chappell', 'pastor of Rotherhith.', 'preacher at Lincolnes Inne.', 'pastor of Rotherhith.', 'pastor of Rotherhith.', 'pastor of Rotherhith. The latter on Iohn 2. 1--12. By that learned and judicious divine Mr William Bradshaw some time fellow of Sidney Colledge in Cambridge.', 'pastor of Rotherhith.', 'pastor of Rotherhith.', 'preacher at Lincolnes Inne, and now pastor of Rotherhith.', 'pastor of Rotherhith.', 'pastor of Rotherhith.', 'pastor of Rotherhith.', 'preacher at Lincolnes Inne.', 'pastor of Rotherhith.', 'pastor of All-Hallowes Bread-street: together with the testimonie then giuen vnto him. By Thomas Gataker B. of D. and pastor of Rotherhith.', 'preacher in Lincolnes-Inne.', 'pastor of Rotherhith.', 'pastor of Rotherhith.', 'pastor of Rotherhith.', 'pastor at White chappell.', 'pastor at White chappell.']\n"
     ]
    }
   ],
   "source": [
    "# patterns = [\"Preach't at (.*?)[^\\w\\s\\-]\",'Preached at (.*?)[^\\w\\s\\-]','preached at (.*?)[^\\w\\s\\-]','preached in (.*?)[^\\w\\s\\-\\']']\n",
    "patterns1 = [\"preach't (.*?)$\",\"preached at (.*?)$\",\"preached in (.*?)$\",\"preacht (.*?)$\",\"before the (.*?)$\", \"before his (.*?)$\"]\n",
    "patterns2 = [\"preacher at (.*?)$\",\"preacher in (.*?)$\",\"pastor at (.*?)$\",\"pastor of (.*?)$\"]\n",
    "places = []\n",
    "pastorPlaces = []\n",
    "for title in csv_data['title']:\n",
    "    foundPattern1 = False\n",
    "    for pattern in patterns1: \n",
    "        place = re.search(rf'{pattern}', title)\n",
    "        if place: \n",
    "            places.append(place.group())\n",
    "            foundPattern1 = True\n",
    "    if not foundPattern1: \n",
    "        for pattern in patterns2: \n",
    "            place = re.search(rf'{pattern}', title)\n",
    "            if place: \n",
    "                pastorPlaces.append(place.group())\n",
    "                foundPattern2 = True\n",
    "\n",
    "print(len(places), len(pastorPlaces), len(places)+len(pastorPlaces))\n",
    "print(places)\n",
    "print(pastorPlaces)"
   ]
  },
  {
   "cell_type": "code",
   "execution_count": 69,
   "metadata": {},
   "outputs": [],
   "source": [
    "def findTextTCP(id):\n",
    "    if re.match('B1|B4',id[0:2]):\n",
    "        path = f'{TCP}/P2{id[0:2]}/{id}.P4.xml'\n",
    "    else: \n",
    "        if f'{id}.P4.xml' in os.listdir(f'{TCP}/P1{id[0:2]}'):\n",
    "            path = f'{TCP}/P1{id[0:2]}/{id}.P4.xml'\n",
    "        elif f'{id}.P4.xml' in os.listdir(f'{TCP}/P2{id[0:2]}'): \n",
    "            path = f'{TCP}/P2{id[0:2]}/{id}.P4.xml'\n",
    "    return path "
   ]
  },
  {
   "cell_type": "code",
   "execution_count": null,
   "metadata": {},
   "outputs": [],
   "source": [
    "'''\n",
    "For efficiency, extract notes (marginalia) directly from TCP (parsing EP files takes much longer)\n",
    "'''\n",
    "folder = f'/Users/amycweng/Digital Humanities/charityTXT'\n",
    "for tcpID in tcpIDs: \n",
    "    path = findTextTCP(tcpID)\n",
    "    with open(path,'r') as file: \n",
    "        data = file.read()\n",
    "    tag = SoupStrainer(\"note\")\n",
    "    soup = BeautifulSoup(data,parse_only=tag,features='html.parser')\n",
    "    note_text = notes(soup)\n",
    "    if note_text != '': \n",
    "        with open(f'{folder}/{tcpID}NOTES.txt') as file: \n",
    "            file.write()"
   ]
  },
  {
   "cell_type": "code",
   "execution_count": 90,
   "metadata": {},
   "outputs": [],
   "source": [
    "'''\n",
    "Extracting title pages directly from TCP. \n",
    "Title pages often contain information about where the sermon was preached. \n",
    "'''\n",
    "import csv \n",
    "folder = f'/Users/amycweng/Digital Humanities/'\n",
    "outfile = open(f'{folder}/sermon_titles.csv','a+')\n",
    "columns = ['id','title page']\n",
    "writer = csv.DictWriter(outfile, fieldnames=columns)\n",
    "writer.writeheader()\n",
    "\n",
    "for tcpID in tcpIDs: \n",
    "    path = findTextTCP(tcpID)\n",
    "    with open(path,'r') as file: \n",
    "        data = file.read()\n",
    "    tag = SoupStrainer(\"div1\", attrs={'type':'title page'})\n",
    "    soup = BeautifulSoup(data,parse_only=tag,features='html.parser')\n",
    "    title = []\n",
    "    sentences = soup.find_all('p')\n",
    "    for sentence in sentences: \n",
    "        title.append(sentence.text)\n",
    "    if len(title) != 0: \n",
    "        title = ' '.join(title)\n",
    "        title = re.sub('\\n',' ',title)\n",
    "        t = re.search(r'^(.*?) \\d{4}',title)\n",
    "        if t: \n",
    "            writer.writerow({'id': tcpID,  'title page': t.group()})\n",
    "        else: \n",
    "            writer.writerow({'id': tcpID,  'title page': title})\n",
    "outfile.close()"
   ]
  }
 ],
 "metadata": {
  "kernelspec": {
   "display_name": "Python 3.9.7 ('base')",
   "language": "python",
   "name": "python3"
  },
  "language_info": {
   "codemirror_mode": {
    "name": "ipython",
    "version": 3
   },
   "file_extension": ".py",
   "mimetype": "text/x-python",
   "name": "python",
   "nbconvert_exporter": "python",
   "pygments_lexer": "ipython3",
   "version": "3.9.7"
  },
  "orig_nbformat": 4,
  "vscode": {
   "interpreter": {
    "hash": "40d3a090f54c6569ab1632332b64b2c03c39dcf918b08424e98f38b5ae0af88f"
   }
  }
 },
 "nbformat": 4,
 "nbformat_minor": 2
}
