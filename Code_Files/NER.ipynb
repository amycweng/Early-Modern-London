{
 "cells": [
  {
   "cell_type": "markdown",
   "id": "6c71dbcb",
   "metadata": {},
   "source": [
    "Named entity recognition (NER) using spaCy"
   ]
  },
  {
   "cell_type": "code",
   "execution_count": 19,
   "id": "f9417b33",
   "metadata": {},
   "outputs": [],
   "source": [
    "import os, re, string\n",
    "import re\n",
    "import pandas as pd\n",
    "import spacy\n",
    "from collections import Counter\n",
    "# For first time downloading: \n",
    "# !python -m spacy download en_core_web_sm"
   ]
  },
  {
   "cell_type": "code",
   "execution_count": 111,
   "id": "0b790288",
   "metadata": {},
   "outputs": [],
   "source": [
    "# Get text info into a dictionary with keys as the file name. \n",
    "# Automatically breaks texts that are longer than 1 million words into two separate dictionary entries (assumes that the total size is less than 2m words)\n",
    "def getTexts(folder):\n",
    "    texts = {}\n",
    "    for file in os.listdir(folder):\n",
    "        if 'NOTES' not in file: \n",
    "            name = file.split('.')[0]\n",
    "            path = os.path.join(folder,file)\n",
    "            with open(path,'r') as file: \n",
    "                data = file.readlines()\n",
    "            if len(data) != 0: \n",
    "                text = data[0].split(' ')\n",
    "                length = len(text)\n",
    "                if length > 1000000: \n",
    "                    texts[f'{name}_part1'] = ' '.join(text[:length/2])\n",
    "                    texts[f'{name}_part2'] = ' '.join(text[length/2:])\n",
    "                else: \n",
    "                    texts[name] = ' '.join(text)\n",
    "    return texts"
   ]
  },
  {
   "cell_type": "code",
   "execution_count": 5,
   "id": "52bd5434",
   "metadata": {},
   "outputs": [
    {
     "name": "stdout",
     "output_type": "stream",
     "text": [
      "117\n"
     ]
    }
   ],
   "source": [
    "playFiles = getTexts('/Users/amycweng/Digital Humanities/Early-Modern-London/playPartsTXT')\n",
    "print(len(playFiles))"
   ]
  },
  {
   "cell_type": "code",
   "execution_count": 112,
   "id": "bf180880",
   "metadata": {},
   "outputs": [
    {
     "name": "stdout",
     "output_type": "stream",
     "text": [
      "199\n"
     ]
    }
   ],
   "source": [
    "charityTexts = getTexts('/Users/amycweng/Digital Humanities/charityTXT')\n",
    "print(len(charityTexts))"
   ]
  },
  {
   "cell_type": "code",
   "execution_count": null,
   "id": "507b3c5d",
   "metadata": {},
   "outputs": [],
   "source": [
    "#running named entity recognition using spaCy\n",
    "allEnts = []\n",
    "ner = spacy.load('en_core_web_sm')\n",
    "count = 0\n",
    "for name, text in playFiles.items():\n",
    "    count += 1\n",
    "    if not count % 40: print(f'processed {count} so far')\n",
    "    entities = ner(text)\n",
    "    for ent in entities.ents:\n",
    "        allEnts.append(str(ent))"
   ]
  },
  {
   "cell_type": "code",
   "execution_count": 24,
   "id": "6a6c9689",
   "metadata": {},
   "outputs": [
    {
     "name": "stdout",
     "output_type": "stream",
     "text": [
      "two\n"
     ]
    }
   ],
   "source": [
    "allEntities = []\n",
    "for ent in allEnts: \n",
    "    allEntities.append(str(ent))"
   ]
  },
  {
   "cell_type": "code",
   "execution_count": 54,
   "id": "942a210a",
   "metadata": {},
   "outputs": [
    {
     "name": "stdout",
     "output_type": "stream",
     "text": [
      "[('thou', 677), ('two', 375), ('first', 300), ('one', 273), ('three', 164), ('french', 109), ('london', 95), ('four', 64), ('second', 56), ('tomorrow', 56), ('half', 56), ('this morning', 50), ('today', 45), ('tonight', 43), ('five', 43), ('english', 41), ('six', 41), ('france', 40), ('ten', 39), ('christian', 36), ('italian', 31), ('twenty', 27), ('a hundred', 25), ('last night', 25), ('seven', 25), ('spain', 23), ('a penny', 22), ('hundred', 22), ('ralph', 22), ('seven year', 22), ('this day', 21), ('thou thou', 21), ('forty', 21), ('lucy', 21), ('a hundred pound', 20), ('dutch', 20), ('yesterday', 20), ('jack', 20), ('spanish', 19), ('william', 19), ('nine', 18), ('john daw', 18), ('john', 18), ('tis', 17), ('thousand', 16), ('paris', 16), ('michael', 16), ('twelve', 14), ('the day', 14), ('march', 13)]\n"
     ]
    }
   ],
   "source": [
    "counts = Counter(allEntities)\n",
    "print(counts.most_common(n=50))"
   ]
  },
  {
   "cell_type": "code",
   "execution_count": 47,
   "id": "34937707",
   "metadata": {},
   "outputs": [],
   "source": [
    "with open('/Users/amycweng/Digital Humanities/Early-Modern-London/Other_Files/playsNER.txt','w+') as file: \n",
    "    file.write(str(counts.most_common(n=10000000)))"
   ]
  },
  {
   "cell_type": "code",
   "execution_count": 109,
   "id": "8e1adee1",
   "metadata": {},
   "outputs": [
    {
     "name": "stdout",
     "output_type": "stream",
     "text": [
      "A06252_Act 4 ['the morris too for the credit of the strand no']\n",
      "A46228_Act 5 ['be the name of devil discredit in i what a', 'one day that for our credit and to vindicate it', 'officer and some citizen of credit i will discharge my', 'so fair have this then credit with you do you', 'sure be this upon your credit friend sir you may']\n",
      "A77567_04_Act 5 ['care i who know your credit breach when you respect', 'think the better of your credit too be so good']\n",
      "A20100_Act 1 ['my husband and his whole credit be not worth my', 'tush if you respect your credit never think of that', 'laundress dear wife though your credit will go far with']\n",
      "A46228_Act 4 ['his malice with any man credit i will have abuse', 'seem have study reason to discredit your business how sweet', 'this now of purpose to discredit i you damn devil']\n",
      "A06252_Act 5 ['of the city and the credit of my master let']\n",
      "A20100_Act 2 ['day a man of great credit if i be i']\n",
      "A20100_Act 3 ['may do the gentleman much discredit and beside it may']\n",
      "A77565_04_Act 8 ['in you towards your poor creditor and be a special']\n",
      "A46228_Act 3 ['you must do cheerful his credit sir be not yet', 'i stand your name of credit and compound your business', 'so present i ask sir credit for another but till']\n",
      "A77567_04_Act 3 ['good cloth and keep our credit in the house we']\n",
      "A77567_04_Act 2 ['seem so careless of my credit expose i to all', 'so gallant and have no credit nor ever buy with']\n",
      "A46228_Act 2 ['you i see you have credit here and that you', 'not the pain but the discredit of it the devil', 'not break you shall have credit sir i will send']\n",
      "A06252_Act 1 ['this course both for the credit of myself and our']\n",
      "A20100_Act 4 ['be you some man of credit that you come in', 'they as you respect your credit let we go good', 'they it stand upon my credit thou shall have any', 'chance to save the gentlewoman credit thou hear all o']\n",
      "A20100_Act 5 ['as ill debtor do their creditor with good word but', 'your money be not your creditor have hem excellent peace']\n",
      "A77567_04_Act 1 ['my book of debtor and creditor receipt and payment what', 'your own good and the credit a wise man will']\n",
      "A46228_Act 1 ['to keep we up in credit not old iniquity get', 'body for cloth employ your credit with the hangman or', 'he have of that strange credit with he against all']\n",
      "A04633_03_Act 5 ['to law with the son credit undo both both with', 'be bold to use your credit for money what thou']\n",
      "A12140_Act 2 ['with the coachman for the credit of your profession do']\n",
      "A12140_Act 3 ['than this i will my credit with any lady that', 'little peevishness to save your credit have not be much']\n",
      "A04633_03_Act 2 ['not fear he man his credit be sound and season', 'master madrigal of a untainted credit what say you to', 'when you have land and credit worship friend ay and']\n",
      "A04633_03_Act 3 ['it will cry up the credit of our office eternal', 'chattel i will try my credit so it be for']\n",
      "A12140_Act 4 ['will say nothing for our credit you look as you']\n",
      "A04633_03_Act 1 ['your store i mean of credit and fire your arsenal', 'apocryphal or news of doubtful credit as barber news and', 'loud mouth get he little credit young master pied mantle']\n",
      "A12140_Act 5 ['desperate it be a fine credit for you but perhaps']\n",
      "A04648_Act 1 ['play and affirm upon your credit as you be a', 'be the more for your credit sir it be a', 'indebt any great sum your creditor observe you with no', 'and pliant than gentleman their creditor to who if at', 'up and bring myself in credit sure marry this always']\n",
      "A04645_Act 2 ['wonder those fellow have such credit with gentleman they be', 'reckon to invite the old creditor to forbear it knighthood']\n",
      "A04648_Act 2 ['it to you upon my credit and judgement she have', 'nay macilente do not so discredit the goodness of your']\n",
      "A04645_Act 1 ['to see if i have credit afore sir daw do']\n",
      "A07493_Act 5 ['no peace for he his creditor be so greedy mr']\n",
      "A04648_Act 3 ['rascal for a man to credit his whole fortune with']\n",
      "A07505_Act 2 ['know master blastfield and your credit very spacious here in', 'of our citizen hold our credit by it to come', 'court then how much more credit be it to be', 'upon the loss of my credit tonight if i walk', 'the continue of this gentleman credit in town than any', 'gentleman alive in state and credit execute help to rip', 'the eternal loss of thy credit against supper mass that']\n",
      "A04645_Act 4 ['leap over stool for the credit of your back if', 'towel about you to his discredit like enough why and']\n",
      "A53070_02_Act 4 ['and jewel upon she will credit the cause and person']\n",
      "A18427_Act 3 ['let i commend upon my credit a precious workman to']\n",
      "A53070_02_Act 5 ['name be beaufield if my credit may be interpose security']\n",
      "A04645_Act 5 ['trust haughty nor make any credit to she whatever you']\n",
      "A07505_Act 3 ['preferment i hope to reap credit be that the fellow', 'lethe no more of my credit and a gentlewoman of', 'must do that for your credit sake i will be', 'injury make i will my credit fail in my commodity']\n",
      "A04648_Act 4 ['i repent i i ever credit he so much but', 'have and swear myself into credit with my tailor for', 'sir and but give i credit for the rest till', 'my judgement that will not credit he upon these monstrous']\n",
      "A07493_Act 2 ['calf and sheep like ravenous creditor that will not suffer']\n",
      "A18427_Act 1 ['know he will all my creditor have this bless ignorance']\n",
      "A04648_Act 5 ['say so signor that mighty discredit your cloth by jesus', 'be her brother and his credit so ample engage as', 'if your husband and other creditor shall but have knowledge', 'you never be possess of credit give you as gentlemanlike']\n",
      "A18407_Act 4 ['for a man of your credit of your age and']\n",
      "A12142_Act 1 ['will instant appear to the discredit of your compliment but', 'or do you doubt my credit to discharge your bill']\n",
      "A20098_Act 1 ['we do it for your credit sir how much be', 'sir that you spend your credit and your coin upon']\n",
      "A18407_Act 5 ['far as i have any credit with you pray you']\n",
      "A12078_Act 4 ['why take it upon my credit it will poison any']\n",
      "A12142_Act 3 ['do the trade a honour credit to the profession we']\n",
      "A59985_Act 4 ['our nature weakness apt to credit what we affect be', 'think to have get some credit but if ever i', 'whore sir i tender your credit there be but two', 'own country and never put credit or conference in any']\n",
      "A11153_Act 4 ['iron heart of man my credit be lose my wealth', 'well i know my cruel creditor will thunder on i', 'a emblem of iron hearted creditor that force man lie']\n",
      "A11153_Act 5 ['make there be not a creditor can ask you aught']\n",
      "A12142_Act 2 ['that may be for the credit of your noble family']\n",
      "A77565_04_Act 1 ['be if any of my creditor can once but dream', 'meeting for most of your creditor and many of your', 'they be all set your creditor on one side and', 'this meeting be for the creditor to give long day', 'what good good jeremy your creditor be on a resolution', 'the furious tempest all your creditor be go in rage', 'and between most of your creditor and debtor food have', 'waste thy fortune undo thy credit prove bankrupt all be']\n",
      "A18407_Act 2 ['because it be for your credit sir i will be', 'i will go keep my credit with they an it', 'forsooth this be for my credit servant ever maintain drunkenness', 'master house for their master credit a good idle serving', 'i some money save my credit i must dine with', 'drink it be for your credit master and hear you', 'town it be for your credit master and what you', 'in any trade a my credit you know his wife', 'who you for the more credit shall present as your', 'here i must not my creditor have lay to arrest']\n",
      "A12078_Act 1 ['in it be for their credit what be these silver']\n",
      "A11153_Act 1 ['she so for my own credit sake you shall now']\n",
      "A18407_Act 3 ['attend your journey on my credit what write be it', 'no man like yourself have credit with he to entice', 'my name on your crack credit let it take no']\n",
      "A07025_Act 5 ['new conqueror it have the credit to be style the', 'will vindicate the wrong and credit of my house i', 'our money your wit and credit be both lose before']\n",
      "A59985_Act 2 ['too oh sir all her credit be in her good', 'a speech will do he credit bid he learn it', 'you sir to maintain the credit of my school i', 'jove bear well for your credit and reputation her care']\n",
      "A12142_Act 5 ['lady that title make the credit of the act a']\n",
      "A11153_Act 2 ['i for six penny your credit be the better uncle']\n",
      "A11153_Act 3 ['it will be the more credit for your observation for', 'thou undo for ever my credit i have crack to']\n",
      "A12142_Act 4 ['have a care on his credit though she send for', 'with you and preserve my credit do you find no', 'but i shall do he credit in my practice your']\n",
      "A59985_Act 3 ['you that you will not discredit i i will be', 'respective i will tender your credit in that point upon', 'will not do for your credit draw your sword and', 'to deny it for my credit nay then lay hand']\n",
      "A07025_Act 4 ['way to get a general credit can you do it']\n"
     ]
    }
   ],
   "source": [
    "places = []\n",
    "for name, text in playFiles.items():\n",
    "    important = []\n",
    "    words = text.split(' ')\n",
    "    for idx, word in enumerate(words):\n",
    "        if re.search('credit',word): \n",
    "            phrase = ' '.join(words[idx-5:idx+5])\n",
    "            important.append(phrase)\n",
    "    if len(important) > 0: \n",
    "        print(name,important)\n",
    "            # places.append()  \n",
    "# print(Counter(places))\n",
    "# print(places)\n",
    "# for place in places: \n",
    "#     print(place)"
   ]
  },
  {
   "cell_type": "code",
   "execution_count": 103,
   "id": "526c4b98",
   "metadata": {},
   "outputs": [
    {
     "name": "stdout",
     "output_type": "stream",
     "text": [
      "A20100_Act 1 ['if you come to buy ware in the city bid money for it your mercer or goldsmith say true i', 'instant we that be courtier have more place to send money to than the devil have to send his spirit']\n",
      "A06252_Act 5 ['it not for the honour of the city and the credit of my master let i never hope for freedom']\n",
      "A20100_Act 3 ['that in this have play his part when they owe money in the city once they deal with their lawyer']\n",
      "A77567_04_Act 3 ['all this i can even in your city mistress that lend you money so free who chameleon yes sir i', 'i can even in your city mistress that lend you money so free who chameleon yes sir i doubt your']\n",
      "A20100_Act 4 ['be in london and shall have have thrice as much money upon her single bond for the good report i']\n",
      "A07065_Act 3 ['go to our sword and after meeting this ring only lend i will lurk in some obscure place till rumor']\n",
      "A04633_03_Act 4 ['give arm and mark he can honour no more than money can make noble it may give place and rank']\n",
      "A04633_03_Act 3 ['contemplate nothing but the vile sordid thing of time place money and let the noble and the precious go virtue']\n",
      "A04633_03_Act 1 ['be true i quite forget you mine man want no money your street be pave with it there the melt']\n",
      "A04645_Act 3 ['have you lose today if you have but regard your profit what gift what friend through your mere rusticity madam']\n",
      "A04648_Act 2 ['lie in a place for little more than half the money they cost and i think for some twelve pound']\n",
      "A04645_Act 1 ['the next street to he who be exceed soft spoken thrifty of her speech that spend but six word a']\n",
      "A07505_Act 2 ['it seem you be well know master blastfield and your credit very spacious here in the city master esay let', 'the street a new setter up if any lay out money upon it it will be he his name master']\n",
      "A53070_02_Act 4 ['into the city for love and this farmer wife have wealth enough to buy a ladyship here be the gull']\n",
      "A07505_Act 3 ['the very gull of the city shall you offer he money good or land now he will rather have your']\n",
      "A04648_Act 4 ['ling upon easter eve that have furnish the table all lend as he have do the city this last vacation']\n",
      "A18407_Act 4 ['have buy i a hat and band with the little money i have about i and make the street a']\n",
      "A53060_The Female Academy_Act 5 ['be breed in great and populous city glorious camp and splendorous court to woo and make love like private breed']\n",
      "A20098_Act 1 ['my shop like enough pray god they do not borrow money of we between ware and london come strive to']\n",
      "A77565_04_Act 2 ['tradesman have a good order in your city not to lend a gentleman money without a citizen bind with he', 'good order in your city not to lend a gentleman money without a citizen bind with he but you forsooth']\n",
      "A11153_Act 4 ['but will be loath to drink in woodstreet pipe some money we will pay ere we go hence i speak', 'follow year a sheriff of london their love outstrip my merit yet since they lie that load on i i']\n",
      "A11153_Act 5 ['life best health the boy shall not miscarry for more wealth than london gate look safe up every night my']\n",
      "A07025_Act 2 ['i all my labour of project as put out my money on return from or some unknown place that have']\n",
      "A77565_04_Act 14 ['do you kind mother gentleman if any of you want money gentleman here stand a city wit that have it']\n",
      "A18407_Act 2 ['the place of her gentlewoman who you for the more credit shall present as your friend daughter a gentlewoman of']\n",
      "A07025_Act 5 ['or denomination of office can do it i must have money tell they so draw the bridge i will make']\n",
      "A11153_Act 2 ['who be in the bowl alley my host honest trader thrifty lad they be rub on it towardly boy every']\n",
      "A11153_Act 3 ['how for heaven love by his late marriage to the wealthy widow that london have who have not only make', 'here come richard now listen and hear i crown the wealthy london merchant why do thou look so sad why', 'it the worst then that place i do assign my unthrifty brother ludgate must now be i break and take']\n"
     ]
    }
   ],
   "source": [
    "# places = []\n",
    "for name, text in playFiles.items():\n",
    "    important = []\n",
    "    words = text.split(' ')\n",
    "    for idx, word in enumerate(words):\n",
    "        if re.search('credit|bullion|money|^monie|profit|^wealth|merit|industry|loan|lend|^commodit|thrift|charit|',word): \n",
    "            phrase = ' '.join(words[idx-10:idx+10])\n",
    "            if re.search('london|city|cittie|westminster|cheapside|church|southwark|alley|whitechapel|street|shire$|avenue|place|^inn$|bridge',phrase):\n",
    "                important.append(phrase)\n",
    "    if len(important) > 0: \n",
    "        print(name,important)\n",
    "            # places.append()  \n",
    "# print(Counter(places))\n",
    "# print(places)\n",
    "# for place in places: \n",
    "#     print(place)"
   ]
  }
 ],
 "metadata": {
  "kernelspec": {
   "display_name": "Python 3.9.7 ('base')",
   "language": "python",
   "name": "python3"
  },
  "language_info": {
   "codemirror_mode": {
    "name": "ipython",
    "version": 3
   },
   "file_extension": ".py",
   "mimetype": "text/x-python",
   "name": "python",
   "nbconvert_exporter": "python",
   "pygments_lexer": "ipython3",
   "version": "3.9.7"
  },
  "vscode": {
   "interpreter": {
    "hash": "40d3a090f54c6569ab1632332b64b2c03c39dcf918b08424e98f38b5ae0af88f"
   }
  }
 },
 "nbformat": 4,
 "nbformat_minor": 5
}
