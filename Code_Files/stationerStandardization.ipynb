{
 "cells": [
  {
   "cell_type": "code",
   "execution_count": 1,
   "metadata": {},
   "outputs": [],
   "source": [
    "import pandas as pd\n",
    "import json\n",
    "\n"
   ]
  },
  {
   "cell_type": "code",
   "execution_count": 2,
   "metadata": {},
   "outputs": [
    {
     "ename": "FileNotFoundError",
     "evalue": "[Errno 2] No such file or directory: '/Users/amycweng/Digital Humanities/EML Authors_Publishers 2022-Public - Publisher Names.csv'",
     "output_type": "error",
     "traceback": [
      "\u001b[0;31m---------------------------------------------------------------------------\u001b[0m",
      "\u001b[0;31mFileNotFoundError\u001b[0m                         Traceback (most recent call last)",
      "\u001b[1;32m/Users/kieranlele/Desktop/Duke 2022-2023/Early-Modern-London/Code_Files/stationerStandardization.ipynb Cell 2\u001b[0m in \u001b[0;36m<module>\u001b[0;34m\u001b[0m\n\u001b[1;32m      <a href='vscode-notebook-cell:/Users/kieranlele/Desktop/Duke%202022-2023/Early-Modern-London/Code_Files/stationerStandardization.ipynb#W1sZmlsZQ%3D%3D?line=0'>1</a>\u001b[0m \u001b[39m'''From a CSV of publishers' alternative names, generate a standardizer dictionary'''\u001b[39;00m\n\u001b[1;32m      <a href='vscode-notebook-cell:/Users/kieranlele/Desktop/Duke%202022-2023/Early-Modern-London/Code_Files/stationerStandardization.ipynb#W1sZmlsZQ%3D%3D?line=2'>3</a>\u001b[0m file \u001b[39m=\u001b[39m \u001b[39m'\u001b[39m\u001b[39m/Users/amycweng/Digital Humanities/EML Authors_Publishers 2022-Public - Publisher Names.csv\u001b[39m\u001b[39m'\u001b[39m\n\u001b[0;32m----> <a href='vscode-notebook-cell:/Users/kieranlele/Desktop/Duke%202022-2023/Early-Modern-London/Code_Files/stationerStandardization.ipynb#W1sZmlsZQ%3D%3D?line=3'>4</a>\u001b[0m data \u001b[39m=\u001b[39m pd\u001b[39m.\u001b[39;49mread_csv(file)\n\u001b[1;32m      <a href='vscode-notebook-cell:/Users/kieranlele/Desktop/Duke%202022-2023/Early-Modern-London/Code_Files/stationerStandardization.ipynb#W1sZmlsZQ%3D%3D?line=4'>5</a>\u001b[0m data \u001b[39m=\u001b[39m data\u001b[39m.\u001b[39mfillna(\u001b[39m0\u001b[39m)\n\u001b[1;32m      <a href='vscode-notebook-cell:/Users/kieranlele/Desktop/Duke%202022-2023/Early-Modern-London/Code_Files/stationerStandardization.ipynb#W1sZmlsZQ%3D%3D?line=5'>6</a>\u001b[0m nameDict \u001b[39m=\u001b[39m {}\n",
      "File \u001b[0;32m/Library/Frameworks/Python.framework/Versions/3.10/lib/python3.10/site-packages/pandas/util/_decorators.py:311\u001b[0m, in \u001b[0;36mdeprecate_nonkeyword_arguments.<locals>.decorate.<locals>.wrapper\u001b[0;34m(*args, **kwargs)\u001b[0m\n\u001b[1;32m    305\u001b[0m \u001b[39mif\u001b[39;00m \u001b[39mlen\u001b[39m(args) \u001b[39m>\u001b[39m num_allow_args:\n\u001b[1;32m    306\u001b[0m     warnings\u001b[39m.\u001b[39mwarn(\n\u001b[1;32m    307\u001b[0m         msg\u001b[39m.\u001b[39mformat(arguments\u001b[39m=\u001b[39marguments),\n\u001b[1;32m    308\u001b[0m         \u001b[39mFutureWarning\u001b[39;00m,\n\u001b[1;32m    309\u001b[0m         stacklevel\u001b[39m=\u001b[39mstacklevel,\n\u001b[1;32m    310\u001b[0m     )\n\u001b[0;32m--> 311\u001b[0m \u001b[39mreturn\u001b[39;00m func(\u001b[39m*\u001b[39;49margs, \u001b[39m*\u001b[39;49m\u001b[39m*\u001b[39;49mkwargs)\n",
      "File \u001b[0;32m/Library/Frameworks/Python.framework/Versions/3.10/lib/python3.10/site-packages/pandas/io/parsers/readers.py:680\u001b[0m, in \u001b[0;36mread_csv\u001b[0;34m(filepath_or_buffer, sep, delimiter, header, names, index_col, usecols, squeeze, prefix, mangle_dupe_cols, dtype, engine, converters, true_values, false_values, skipinitialspace, skiprows, skipfooter, nrows, na_values, keep_default_na, na_filter, verbose, skip_blank_lines, parse_dates, infer_datetime_format, keep_date_col, date_parser, dayfirst, cache_dates, iterator, chunksize, compression, thousands, decimal, lineterminator, quotechar, quoting, doublequote, escapechar, comment, encoding, encoding_errors, dialect, error_bad_lines, warn_bad_lines, on_bad_lines, delim_whitespace, low_memory, memory_map, float_precision, storage_options)\u001b[0m\n\u001b[1;32m    665\u001b[0m kwds_defaults \u001b[39m=\u001b[39m _refine_defaults_read(\n\u001b[1;32m    666\u001b[0m     dialect,\n\u001b[1;32m    667\u001b[0m     delimiter,\n\u001b[0;32m   (...)\u001b[0m\n\u001b[1;32m    676\u001b[0m     defaults\u001b[39m=\u001b[39m{\u001b[39m\"\u001b[39m\u001b[39mdelimiter\u001b[39m\u001b[39m\"\u001b[39m: \u001b[39m\"\u001b[39m\u001b[39m,\u001b[39m\u001b[39m\"\u001b[39m},\n\u001b[1;32m    677\u001b[0m )\n\u001b[1;32m    678\u001b[0m kwds\u001b[39m.\u001b[39mupdate(kwds_defaults)\n\u001b[0;32m--> 680\u001b[0m \u001b[39mreturn\u001b[39;00m _read(filepath_or_buffer, kwds)\n",
      "File \u001b[0;32m/Library/Frameworks/Python.framework/Versions/3.10/lib/python3.10/site-packages/pandas/io/parsers/readers.py:575\u001b[0m, in \u001b[0;36m_read\u001b[0;34m(filepath_or_buffer, kwds)\u001b[0m\n\u001b[1;32m    572\u001b[0m _validate_names(kwds\u001b[39m.\u001b[39mget(\u001b[39m\"\u001b[39m\u001b[39mnames\u001b[39m\u001b[39m\"\u001b[39m, \u001b[39mNone\u001b[39;00m))\n\u001b[1;32m    574\u001b[0m \u001b[39m# Create the parser.\u001b[39;00m\n\u001b[0;32m--> 575\u001b[0m parser \u001b[39m=\u001b[39m TextFileReader(filepath_or_buffer, \u001b[39m*\u001b[39;49m\u001b[39m*\u001b[39;49mkwds)\n\u001b[1;32m    577\u001b[0m \u001b[39mif\u001b[39;00m chunksize \u001b[39mor\u001b[39;00m iterator:\n\u001b[1;32m    578\u001b[0m     \u001b[39mreturn\u001b[39;00m parser\n",
      "File \u001b[0;32m/Library/Frameworks/Python.framework/Versions/3.10/lib/python3.10/site-packages/pandas/io/parsers/readers.py:933\u001b[0m, in \u001b[0;36mTextFileReader.__init__\u001b[0;34m(self, f, engine, **kwds)\u001b[0m\n\u001b[1;32m    930\u001b[0m     \u001b[39mself\u001b[39m\u001b[39m.\u001b[39moptions[\u001b[39m\"\u001b[39m\u001b[39mhas_index_names\u001b[39m\u001b[39m\"\u001b[39m] \u001b[39m=\u001b[39m kwds[\u001b[39m\"\u001b[39m\u001b[39mhas_index_names\u001b[39m\u001b[39m\"\u001b[39m]\n\u001b[1;32m    932\u001b[0m \u001b[39mself\u001b[39m\u001b[39m.\u001b[39mhandles: IOHandles \u001b[39m|\u001b[39m \u001b[39mNone\u001b[39;00m \u001b[39m=\u001b[39m \u001b[39mNone\u001b[39;00m\n\u001b[0;32m--> 933\u001b[0m \u001b[39mself\u001b[39m\u001b[39m.\u001b[39m_engine \u001b[39m=\u001b[39m \u001b[39mself\u001b[39;49m\u001b[39m.\u001b[39;49m_make_engine(f, \u001b[39mself\u001b[39;49m\u001b[39m.\u001b[39;49mengine)\n",
      "File \u001b[0;32m/Library/Frameworks/Python.framework/Versions/3.10/lib/python3.10/site-packages/pandas/io/parsers/readers.py:1217\u001b[0m, in \u001b[0;36mTextFileReader._make_engine\u001b[0;34m(self, f, engine)\u001b[0m\n\u001b[1;32m   1213\u001b[0m     mode \u001b[39m=\u001b[39m \u001b[39m\"\u001b[39m\u001b[39mrb\u001b[39m\u001b[39m\"\u001b[39m\n\u001b[1;32m   1214\u001b[0m \u001b[39m# error: No overload variant of \"get_handle\" matches argument types\u001b[39;00m\n\u001b[1;32m   1215\u001b[0m \u001b[39m# \"Union[str, PathLike[str], ReadCsvBuffer[bytes], ReadCsvBuffer[str]]\"\u001b[39;00m\n\u001b[1;32m   1216\u001b[0m \u001b[39m# , \"str\", \"bool\", \"Any\", \"Any\", \"Any\", \"Any\", \"Any\"\u001b[39;00m\n\u001b[0;32m-> 1217\u001b[0m \u001b[39mself\u001b[39m\u001b[39m.\u001b[39mhandles \u001b[39m=\u001b[39m get_handle(  \u001b[39m# type: ignore[call-overload]\u001b[39;49;00m\n\u001b[1;32m   1218\u001b[0m     f,\n\u001b[1;32m   1219\u001b[0m     mode,\n\u001b[1;32m   1220\u001b[0m     encoding\u001b[39m=\u001b[39;49m\u001b[39mself\u001b[39;49m\u001b[39m.\u001b[39;49moptions\u001b[39m.\u001b[39;49mget(\u001b[39m\"\u001b[39;49m\u001b[39mencoding\u001b[39;49m\u001b[39m\"\u001b[39;49m, \u001b[39mNone\u001b[39;49;00m),\n\u001b[1;32m   1221\u001b[0m     compression\u001b[39m=\u001b[39;49m\u001b[39mself\u001b[39;49m\u001b[39m.\u001b[39;49moptions\u001b[39m.\u001b[39;49mget(\u001b[39m\"\u001b[39;49m\u001b[39mcompression\u001b[39;49m\u001b[39m\"\u001b[39;49m, \u001b[39mNone\u001b[39;49;00m),\n\u001b[1;32m   1222\u001b[0m     memory_map\u001b[39m=\u001b[39;49m\u001b[39mself\u001b[39;49m\u001b[39m.\u001b[39;49moptions\u001b[39m.\u001b[39;49mget(\u001b[39m\"\u001b[39;49m\u001b[39mmemory_map\u001b[39;49m\u001b[39m\"\u001b[39;49m, \u001b[39mFalse\u001b[39;49;00m),\n\u001b[1;32m   1223\u001b[0m     is_text\u001b[39m=\u001b[39;49mis_text,\n\u001b[1;32m   1224\u001b[0m     errors\u001b[39m=\u001b[39;49m\u001b[39mself\u001b[39;49m\u001b[39m.\u001b[39;49moptions\u001b[39m.\u001b[39;49mget(\u001b[39m\"\u001b[39;49m\u001b[39mencoding_errors\u001b[39;49m\u001b[39m\"\u001b[39;49m, \u001b[39m\"\u001b[39;49m\u001b[39mstrict\u001b[39;49m\u001b[39m\"\u001b[39;49m),\n\u001b[1;32m   1225\u001b[0m     storage_options\u001b[39m=\u001b[39;49m\u001b[39mself\u001b[39;49m\u001b[39m.\u001b[39;49moptions\u001b[39m.\u001b[39;49mget(\u001b[39m\"\u001b[39;49m\u001b[39mstorage_options\u001b[39;49m\u001b[39m\"\u001b[39;49m, \u001b[39mNone\u001b[39;49;00m),\n\u001b[1;32m   1226\u001b[0m )\n\u001b[1;32m   1227\u001b[0m \u001b[39massert\u001b[39;00m \u001b[39mself\u001b[39m\u001b[39m.\u001b[39mhandles \u001b[39mis\u001b[39;00m \u001b[39mnot\u001b[39;00m \u001b[39mNone\u001b[39;00m\n\u001b[1;32m   1228\u001b[0m f \u001b[39m=\u001b[39m \u001b[39mself\u001b[39m\u001b[39m.\u001b[39mhandles\u001b[39m.\u001b[39mhandle\n",
      "File \u001b[0;32m/Library/Frameworks/Python.framework/Versions/3.10/lib/python3.10/site-packages/pandas/io/common.py:789\u001b[0m, in \u001b[0;36mget_handle\u001b[0;34m(path_or_buf, mode, encoding, compression, memory_map, is_text, errors, storage_options)\u001b[0m\n\u001b[1;32m    784\u001b[0m \u001b[39melif\u001b[39;00m \u001b[39misinstance\u001b[39m(handle, \u001b[39mstr\u001b[39m):\n\u001b[1;32m    785\u001b[0m     \u001b[39m# Check whether the filename is to be opened in binary mode.\u001b[39;00m\n\u001b[1;32m    786\u001b[0m     \u001b[39m# Binary mode does not support 'encoding' and 'newline'.\u001b[39;00m\n\u001b[1;32m    787\u001b[0m     \u001b[39mif\u001b[39;00m ioargs\u001b[39m.\u001b[39mencoding \u001b[39mand\u001b[39;00m \u001b[39m\"\u001b[39m\u001b[39mb\u001b[39m\u001b[39m\"\u001b[39m \u001b[39mnot\u001b[39;00m \u001b[39min\u001b[39;00m ioargs\u001b[39m.\u001b[39mmode:\n\u001b[1;32m    788\u001b[0m         \u001b[39m# Encoding\u001b[39;00m\n\u001b[0;32m--> 789\u001b[0m         handle \u001b[39m=\u001b[39m \u001b[39mopen\u001b[39;49m(\n\u001b[1;32m    790\u001b[0m             handle,\n\u001b[1;32m    791\u001b[0m             ioargs\u001b[39m.\u001b[39;49mmode,\n\u001b[1;32m    792\u001b[0m             encoding\u001b[39m=\u001b[39;49mioargs\u001b[39m.\u001b[39;49mencoding,\n\u001b[1;32m    793\u001b[0m             errors\u001b[39m=\u001b[39;49merrors,\n\u001b[1;32m    794\u001b[0m             newline\u001b[39m=\u001b[39;49m\u001b[39m\"\u001b[39;49m\u001b[39m\"\u001b[39;49m,\n\u001b[1;32m    795\u001b[0m         )\n\u001b[1;32m    796\u001b[0m     \u001b[39melse\u001b[39;00m:\n\u001b[1;32m    797\u001b[0m         \u001b[39m# Binary mode\u001b[39;00m\n\u001b[1;32m    798\u001b[0m         handle \u001b[39m=\u001b[39m \u001b[39mopen\u001b[39m(handle, ioargs\u001b[39m.\u001b[39mmode)\n",
      "\u001b[0;31mFileNotFoundError\u001b[0m: [Errno 2] No such file or directory: '/Users/amycweng/Digital Humanities/EML Authors_Publishers 2022-Public - Publisher Names.csv'"
     ]
    }
   ],
   "source": [
    "'''From a CSV of publishers' alternative names, generate a standardizer dictionary'''\n",
    "\n",
    "file = '/Users/amycweng/Digital Humanities/EML Authors_Publishers 2022-Public - Publisher Names.csv'\n",
    "data = pd.read_csv(file)\n",
    "data = data.fillna(0)\n",
    "nameDict = {}\n",
    "for idx, name in enumerate(data['Standard']):\n",
    "    for num in range(1,10+1):\n",
    "        entry = data[str(num)][idx]\n",
    "        if entry != 0: \n",
    "            nameDict[entry.strip()] = name.strip()     \n",
    "with open(\"publisher.json\", \"w\") as outfile:\n",
    "    json.dump(nameDict, outfile)    \n",
    "print(f'publishers = {nameDict}')"
   ]
  },
  {
   "cell_type": "code",
   "execution_count": 3,
   "metadata": {},
   "outputs": [
    {
     "name": "stdout",
     "output_type": "stream",
     "text": [
      "printers = {'A H': 'A Hatfield', 'A M': 'Augustine Matthews', 'Andr Clark': 'Andrew Clark', 'A Maxwell': 'Anne Maxwell', 'B Alsop': 'Bernard Alsop', 'B A': 'Bernard Alsop', 'E C': 'E Cotes', 'E A': 'Elizabeth Allde', 'Edwared Allde': 'Edward Allde', 'E Allde': 'Elizabeth Allde', 'Ed All-de': 'Edward Allde', 'Esic A llde': 'Edward Allde', 'E G': 'Edward Griffin', 'E Griffin': 'Edward Griffin', 'Edw Griffin': 'Edward Griffin', 'E dward G riffin': 'Edward Griffin', 'Eliot s Court Press': \"Eliot's Court Press\", 'Elizabeth All-de': 'Elizabeth Allde', 'F K': 'Felix Kingston', 'F Kingston': 'Felix Kingston', 'F Kyngston': 'Felix Kingston', 'Felix Kyngston': 'Felix Kingston', 'G Eld': 'George Eld', 'G Elld': 'George Eld', 'G Miller': 'George Miller', 'G M': 'George Miller', 'G Purslowe': 'George Purslowe', 'H B': 'Henry Ballard', 'H Ballard': 'Henry Ballard', 'H L': 'Humphrey Lownes', 'Humfrey Lownes': 'Humphrey Lownes', 'H Lownes': 'Humphrey Lownes', 'I Dawson': 'James Dawson', 'I Roberts': 'James Roberts', 'J Roberts': 'James Roberts', 'I R': 'James Roberts', 'Iames Roberts': 'James Roberts', 'Iohn Beale': 'John Beale', 'J Beale': 'John Beale', 'Io Beale': 'John Beale', 'I Beale': 'John Beale', 'J C': 'John Cadwel', 'Iohn Harison': 'John Harison', 'Iohn Haviland': 'John Haviland', 'I Haviland': 'John Haviland', 'J Haviland': 'John Haviland', 'Iohn Hauiland': 'John Haviland', 'John Hauiland': 'John Haviland', 'Iohn Legat': 'John Legat', 'J Norton': 'John Norton', 'I N': 'John Norton', 'Iohn Norton': 'John Norton', 'Iohn Okes': 'John Okes', 'JO': 'John Okes', 'I Okes': 'John Okes', 'J Okes': 'John Okes', 'Iohn Pindley': 'John Pindley', 'Iohn VVindet': 'John Windet', 'Ion Vvindet': 'John Windet', 'I Windet': 'John Windet', 'John Windlet': 'John Windet', 'Iohn Windet': 'John Windet', 'M Parsons': 'Marmaduke Parsons', 'MP': 'Marmaduke Parsons', 'Melch Bradwood': 'Melchisedech Bradwood', 'M Bradwood': 'Melchisedech Bradwood', 'M Flesher': 'Miles Flesher', 'MF': 'Miles Flesher', 'Aug Matthewes': 'Augustine Matthews', 'Augustine Matthewes': 'Augustine Matthews', 'A Mathewes': 'Augustine Matthews', 'Aug Mathevve': 'Augustine Matthews', 'Augustine Mathewes': 'Augustine Matthews', 'Nickolas Okes': 'Nicholas Okes', 'Nicholas Oakes': 'Nicholas Okes', 'Nickolas Oakes': 'Nicholas Okes', 'N Okes': 'Nicholas Okes', 'N O': 'Nicholas Okes', 'R Badger': 'Richard Badger', 'R Bradock': 'Richard Bradock', 'R F': 'Richard Field', 'R Field': 'Richard Field', 'R R': 'Robert Raworth', 'R Roberts': 'Robert Roberts', 'R Young': 'Robert Young', 'S S': 'Simon Stafford', 'S Stafford': 'Simon Stafford', 'Tho Badger': 'Thomas Badger', 'Tho Cotes': 'Thomas Cotes', 'T C': 'Thomas Creede', 'T Cotes': 'Thomas Cotes', 'Thomes Creede': 'Thomas Creede', 'T Creede': 'Thomas Creede', 'Thomas Creed': 'Thomas Creede', 'T Fawcet': 'Thomas Fawcet', 'T H': 'Thomas Harper', 'Tho Harper': 'Thomas Harper', 'Tho James': 'Thomas James', 'Thomas Iones': 'Thomas Jones', 'T P': 'Thomas Purfoot', 'T S': 'Thomas Snodham', 'T Snodham': 'Thomas Snodham', 'Valentine Sims': 'Valentine Simmes', 'Valentine Syms': 'Valentine Simmes', 'V S': 'Valentine Simmes', 'V Simmes': 'Valentine Simmes', 'W H': 'W Hall', 'W W': 'W White', 'W Jaggard': 'William Jaggard', 'William Iaggard': 'William Jaggard', 'VVilliam Iones': 'William Jones', 'VV I': 'William Jones', 'William Iones': 'William Jones', 'W Iones': 'William Jones', 'W Stansby': 'William Stansby', 'Will Stansby': 'William Stansby', 'W S': 'William Stansby'}\n"
     ]
    }
   ],
   "source": [
    "'''From a CSV of printers' alternative names, generate a standardizer dictionary'''\n",
    "\n",
    "file = '/Users/amycweng/Digital Humanities/EML Authors_Publishers 2022-Public - Printer Names.csv'\n",
    "data = pd.read_csv(file)\n",
    "data = data.fillna(0)\n",
    "nameDict = {}\n",
    "for idx, name in enumerate(data['Standard']):\n",
    "    for num in range(1,6+1):\n",
    "        entry = data[str(num)][idx]\n",
    "        if entry != 0: \n",
    "            nameDict[entry.strip()] = name.strip()   \n",
    "with open(\"printer.json\", \"w\") as outfile:\n",
    "    json.dump(nameDict, outfile)          \n",
    "print(f'printers = {nameDict}')"
   ]
  },
  {
   "cell_type": "code",
   "execution_count": 7,
   "metadata": {},
   "outputs": [
    {
     "name": "stdout",
     "output_type": "stream",
     "text": [
      "pubplaces = {'A Moore': [\"Near St. Paul's Churchyard\"], 'Andrew Crooke': [\"Sign of the Green Dragon in St. Paul's Churchyard\", 'Castle gate in Dublin', \"Sign of the Black Bear near the Little North Door of St. Paul's Churchyard \"], 'Arthur Johnson': [\"Sign of the White Horse in St. Paul's Churchyard\"], 'Bartholomew Sutton': [\"Great North Door of St. Paul's Church\"], 'Benjamin Fisher': ['Sign of the Talbot without Aldersgate'], 'Bernard Alsop': [\"House next to St. Anne's Church\"], 'Christopher Meredith': [\"Sign of the Golden Lion in St. Paul's Churchyard\"], 'Cuthbert Burby': ['Near the Royal Exchange', \"Middle Shop in the Poultry under St. Mildred's Church\"], 'Edmond Matts': ['Sign of the Hand and Plow in Fleet Street'], 'Edmond Weaver': [\"Great North Gate of St. Paul's Church\"], 'Edward Blackmore': [\"Sign of the Angel in St. Paul's Churchyard\"], 'Edward Brewster': [\"Sign of the Bible at the Great North Door of St. Paul's Church\"], 'Edward Langham': ['Banbury'], 'Edward Marchant': [\"Against the Cross in St. Paul's Churchyard\"], 'Edward White': [\"Little North Door of St. Paul's Churchyard at the Sign of the Gun\"], 'Eleazar Edgar': [\"Sign of the Bull Head in St. Paul's Churchyard\"], 'Fran Grove': [], 'Francis Coles': ['Upper End of the Old Baily Near Newgate'], 'Francis Constable': [\"Sign of the Crane in St. Paul's Churchyard\"], 'Francis Eaglesfield': [\"Sign of the Marigold in St. Paul's Churchyard\"], 'Francis Faulkner': [\"Near St. Margaret's Hill in Southwark\"], 'Francis Kirkman': [\"Sign of John Fletcher's Head over against the Angel Inn on the back side of St. Clements without Temple Bar\"], 'Francis Tyton': [], 'Fulke Clifton': ['On Fish Street near London Bridge', \"On New Fish Street hill under St. Margaret's Church at the Sign of the Lamb\"], 'Gabriel Beadle': [], 'George Edwards': ['House in Green Arbor at the Sign of the Angel'], 'George Fayerbeard': ['At the North Door of the Royal Exchange'], 'George Lathum Junior': [], 'George Norton': ['Near the Temple Bar Gate'], 'George Vincent': ['In Woodstreet'], 'George Winder': [\"St. Dunstan's Churchyard \"], 'Hen Taunton': [\"St. Dunstan's Churchyard\"], 'Henry Brome': [], 'Henry Fetherstone': [], 'Humphrey Moseley': [\"Sign of the Prince's Arms in St. Paul's Churchyard\"], 'Humphrey Robinson': ['The Three Pigeons'], 'J B': [\"Sign of the Guilded Acorn in St. Paul's Churchyard near the Little North Door \"], 'Jacob Tonson': [], 'James Boler': [\"Sign of the Marigold in St. Paul's Churchyard\"], 'John Alen': [], 'John Baily': ['Door of the Office of the Six Clarkes in Chancerie Lane'], 'John Bartlett': [\"Sign of the Gilt Cup in the Goldsmith's Row in Cheapside\"], 'John Bisse': [\"At the Bell in St. Paul's Churchyard\"], 'John Blague': [\"Pope's Head Alley\"], 'John Deane': ['Door of the Office of the Six Clarkes in Chancerie Lane'], 'John Place': [], 'John Porter': [], 'John Stafford': ['Black Horse Alley in Fleet Street'], 'John Sweeting': [], 'Joshua Kirton': [\"Sign of the White Horse in St. Paul's Churchyard\", \"Next to Goldsmith's Hall in Foster Lane\", \"Sign of the Spread Eagle in St. Paul's Churchyard\"], 'Leonard Becket': ['In the Temple Near the Church'], 'Leonard Greene': ['Cambridge'], 'Mathew Cooke': [\"Sign of the Tiger's Head in St. Paul's Churchyard \"], 'Mathew Lawe': [\"Sign of the Bishop's Head in St. Paul's Churchyard\"], 'Mathew Lownes': ['Sign of the Blue Bible in Greene Arbor'], 'Michael Sparke': [], 'Nathaniel Brooke': [\"Sign of the Pied Bull by St. Augustine's Gate in St. Paul's Churchyard\"], 'Nathaniel Butter': [], 'Nathaniel Webb': ['South Entrance of the Royal Exchange'], 'Nicholas Bourne': [], 'Obadiah Blagrave': ['Sign of the Glove in Cornhill near the Royal Exchange'], 'Peter Cole': [\"Sign of the Golden Lion in St. Paul's Churchyard\"], 'Philemon Stephens': [], 'Ralph Mab': [], 'Ralph Smith': [], 'Rapha Harford': ['Sun and Bible near Pye Corner'], 'Richard Hawkings': ['Sign of the Bible in Cheapside'], 'Richard Thrayle': [\"Sign of the King's Head in St. Paul's Churchyard\"], 'Richard Tomlins': [\"Sign of the Brasen Serpent in St. Paul's Churchyard \"], 'Robert Bird': [], 'Robert Bostock': [\"Sign of the Bull Head in St. Paul's Churchyard\", \"Sign of the Tiger's Head in St. Paul's Churchyard\"], 'Robert Dexter': ['Near Holborne Bridge'], 'Samuel Gellibrand': ['Sign of the Rainbow between the two Temple Gates'], 'Samuel Howes': [], 'Samuel Macham': [\"St. Dunstan's Churchyard\"], 'Samuel Rand': [\"Against the Sarazen's Head without Newgate\"], 'Samuel Speed': ['Pater Noster Row at the Sign of the Talbot'], 'Symon Waterson': [], 'Thomas Basset': ['The Three Lions in Cornhill near the Royal Exchange'], 'Thomas Langley': [\"Sign of the White Horse in St. Paul's Churchyard\"], 'Thomas Man': [\"Sign of the Bull Head in St. Paul's Churchyard\"], 'Thomas Newberry': [\"Great North Door of St. Paul's Church\"], 'Thomas Pavier': [\"Sign of the Bible near the Great North Door of St. Paul's Churchyard\"], 'Thomas Warren': [], 'Timothy Barlow': [\"Sign of the Green Dragon in St. Paul's Churchyard\"], 'W Barrett': [], 'Wililam Butler': [], 'William Barrenger': ['Sign of the Star in Cornhill', \"Entrance of Pope's Head Alley out of Lumbard Street\"], 'William Bladen': [\"Sign of the Swan in St. Paul's Churchyard\"], 'William Cooke': [], 'William Grantham': [\"Sign of the Gilt Bible in Queen's Head Alley in Pater Noster Row\"], 'William Hope': [], 'William Miller': [\"Pope's Head Alley\"], 'William Sheffard': [], 'William Welby': [\"Sign of the Black Bear near the Little North Door of St. Paul's Churchyard\", \"Sign of the Greyhound in St. Paul's Churchyard\"]}\n"
     ]
    }
   ],
   "source": [
    "'''From a CSV of printers' alternative names, generate a standardizer dictionary'''\n",
    "\n",
    "file = '/Users/amycweng/Digital Humanities/EML Authors_Publishers 2022-Public - Publisher Locations.csv'\n",
    "data = pd.read_csv(file)\n",
    "data = data.fillna(0)\n",
    "placeDict = {}\n",
    "for idx, name in enumerate(data['Publisher']):\n",
    "    placeDict[name.strip()] = []\n",
    "    for num in range(1,3+1):\n",
    "        entry = data[f'Shop{num}'][idx]\n",
    "        if entry != 0: \n",
    "            placeDict[name.strip()].append(entry)\n",
    "with open(\"location.json\", \"w\") as outfile:\n",
    "    json.dump(nameDict, outfile)                       \n",
    "print(f'pubplaces = {placeDict}')"
   ]
  }
 ],
 "metadata": {
  "kernelspec": {
   "display_name": "Python 3.10.2 64-bit",
   "language": "python",
   "name": "python3"
  },
  "language_info": {
   "codemirror_mode": {
    "name": "ipython",
    "version": 3
   },
   "file_extension": ".py",
   "mimetype": "text/x-python",
   "name": "python",
   "nbconvert_exporter": "python",
   "pygments_lexer": "ipython3",
   "version": "3.10.2"
  },
  "orig_nbformat": 4,
  "vscode": {
   "interpreter": {
    "hash": "aee8b7b246df8f9039afb4144a1f6fd8d2ca17a180786b69acc140d282b71a49"
   }
  }
 },
 "nbformat": 4,
 "nbformat_minor": 2
}
