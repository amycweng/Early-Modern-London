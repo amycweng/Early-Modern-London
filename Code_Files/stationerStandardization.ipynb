{
 "cells": [
  {
   "cell_type": "code",
   "execution_count": 1,
   "metadata": {},
   "outputs": [],
   "source": [
    "import pandas as pd\n"
   ]
  },
  {
   "cell_type": "code",
   "execution_count": 2,
   "metadata": {},
   "outputs": [
    {
     "name": "stdout",
     "output_type": "stream",
     "text": [
      "publishers = {'Andrevv Crooke': 'Andrew Crooke', 'Andrew Crook': 'Andrew Crooke', 'A Crooke': 'Andrew Crooke', 'A Crook': 'Andrew Crooke', 'A C': 'Andrew Crooke', 'A Johnson': 'Arthur Johnson', 'C Burby': 'Cuthbert Burby', 'Cutbert Burbie': 'Cuthbert Burby', 'Cuthbert Burbie': 'Cuthbert Burby', 'Edmond Weaver': 'Edmond Weaver', 'Edward Blount': 'Edward Blunt', 'Ed Blount': 'Edward Blunt', 'Edvvward Langham': 'Edward Langham', 'E Marchant': 'Edward Marchant', 'Edward VVhite': 'Edward White', 'Edwarde White': 'Edward White', 'Edwarde VVhite': 'Edward White', 'E Edgar': 'Eleazar Edgar', 'F Coles': 'Francis Coles', 'F Cole': 'Francis Coles', 'Francis Coules': 'Francis Coles', 'Fr Eglesfield': 'Francis Eaglesfield', 'F Kirkman': 'Francis Kirkman', 'F Clifton': 'Fulke Clifton', 'Foulke Clifton': 'Fulke Clifton', 'Fulke Clyfton': 'Fulke Clifton', 'G Fayer beard': 'George Fayerbeard', 'G Fayerbeard': 'George Fayerbeard', 'George Latham Junior': 'George Lathum Junior', 'H VVally': 'H Walley', 'H Wally': 'H Walley', 'H Fether stone': 'Henry Fetherstone', 'Hugh Perrie': 'Hugh Perry', 'Humpherey Moseley': 'Humphrey Moseley', 'Iames Boler': 'James Boler', 'Ieffrey Chorlton': 'Jeffrey Chorlton', 'Iohn Baily': 'John Baily', 'Iohn Bartlett': 'John Bartlett', 'Iohn Brovvne': 'John Brown', 'Iohn Browne': 'John Brown', 'Iohn Budge': 'John Budge', 'Iohn Buzbie': 'John Buzbie', 'Iohn Deane': 'John Deane', 'John Helmes': 'John Helme', 'Iohn Helme': 'John Helme', 'Iohn Helmes': 'John Helme', 'Iohn Hodgets': 'John Hodgets', 'Iohn Porter': 'John Porter', 'Iohn Stafford': 'John Stafford', 'Iohn Stepneth': 'John Stepneth', 'Iohn Trundle': 'John Trundle', 'I T': 'John Trundle', 'Ioshua Kirton': 'Joshua Kirton', 'Lenard Becket': 'Leonard Becket', 'M Lownes': 'Mathew Lownes', 'Mathewe Lownes': 'Mathew Lownes', 'Michaell Sparke': 'Michael Sparke', 'Nath Brooke': 'Nathaniel Brooke', 'Nathaniell Butter': 'Nathaniel Butter', 'Nat Butter': 'Nathaniel Butter', 'Nath Butter': 'Nathaniel Butter', 'Nathnaiell sic Butter': 'Nathaniel Butter', 'N Butter': 'Nathaniel Butter', 'N athaniel Butter': 'Nathaniel Butter', 'Nathanael Butter': 'Nathaniel Butter', 'Na Butter': 'Nathaniel Butter', 'Nathanaell Butter': 'Nathaniel Butter', 'Nathanaell Fosbrooke': 'Nathaniel Fosbrooke', 'Nath Webb': 'Nathaniel Webb', 'Nathaniel Webbe': 'Nathaniel Webb', 'N Bourne': 'Nicholas Bourne', 'Nicolas Bourne': 'Nicholas Bourne', 'R Harford': 'Rapha Harford', 'R Bonian': 'Richard Bonian', 'R Bonlan': 'Richard Bonian', 'Rich Meighen': 'Richard Meighen', 'R Meighen': 'Richard Meighen', 'Richard Oliue': 'Richard Olive', 'Robert Dexter': 'Robert Dexter', 'R Lunne': 'Robert Lunne', 'S Macha m': 'Samuel Macham', 'S Macham': 'Samuel Macham', 'Samuell Macham': 'Samuel Macham', 'Tho Basset': 'Thomas Basset', 'Thomas Pauier': 'Thomas Pavier', 'Thomas Thorppe': 'Thomas Thorpe', 'Th Thorp': 'Thomas Thorpe', 'VV Cotton': 'William Cotton', 'VV C': 'William Cotton', 'VVilliam Cotton': 'William Cotton', 'W Cotton': 'William Cotton', 'Will Grantham': 'William Grantham', 'William Holme': 'William Holmes'}\n"
     ]
    }
   ],
   "source": [
    "'''From a CSV of publishers' alternative names, generate a standardizer dictionary'''\n",
    "\n",
    "file = '/Users/amycweng/Digital Humanities/EML Authors_Publishers 2022-Public - Publisher Names.csv'\n",
    "data = pd.read_csv(file)\n",
    "data = data.fillna(0)\n",
    "nameDict = {}\n",
    "for idx, name in enumerate(data['Standard']):\n",
    "    for num in range(1,10+1):\n",
    "        entry = data[str(num)][idx]\n",
    "        if entry != 0: \n",
    "            nameDict[entry.strip()] = name.strip()         \n",
    "print(f'publishers = {nameDict}')"
   ]
  },
  {
   "cell_type": "code",
   "execution_count": 3,
   "metadata": {},
   "outputs": [
    {
     "name": "stdout",
     "output_type": "stream",
     "text": [
      "printers = {'A H': 'A Hatfield', 'A M': 'Augustine Matthews', 'Andr Clark': 'Andrew Clark', 'A Maxwell': 'Anne Maxwell', 'B Alsop': 'Bernard Alsop', 'B A': 'Bernard Alsop', 'E C': 'E Cotes', 'E A': 'Elizabeth Allde', 'Edwared Allde': 'Edward Allde', 'E Allde': 'Elizabeth Allde', 'Ed All-de': 'Edward Allde', 'Esic A llde': 'Edward Allde', 'E G': 'Edward Griffin', 'E Griffin': 'Edward Griffin', 'Edw Griffin': 'Edward Griffin', 'E dward G riffin': 'Edward Griffin', 'Eliot s Court Press': \"Eliot's Court Press\", 'Elizabeth All-de': 'Elizabeth Allde', 'F K': 'Felix Kingston', 'F Kingston': 'Felix Kingston', 'F Kyngston': 'Felix Kingston', 'Felix Kyngston': 'Felix Kingston', 'G Eld': 'George Eld', 'G Elld': 'George Eld', 'G Miller': 'George Miller', 'G M': 'George Miller', 'G Purslowe': 'George Purslowe', 'H B': 'Henry Ballard', 'H Ballard': 'Henry Ballard', 'H L': 'Humphrey Lownes', 'Humfrey Lownes': 'Humphrey Lownes', 'H Lownes': 'Humphrey Lownes', 'I Dawson': 'James Dawson', 'I Roberts': 'James Roberts', 'J Roberts': 'James Roberts', 'I R': 'James Roberts', 'Iames Roberts': 'James Roberts', 'Iohn Beale': 'John Beale', 'J Beale': 'John Beale', 'Io Beale': 'John Beale', 'I Beale': 'John Beale', 'J C': 'John Cadwel', 'Iohn Harison': 'John Harison', 'Iohn Haviland': 'John Haviland', 'I Haviland': 'John Haviland', 'J Haviland': 'John Haviland', 'Iohn Hauiland': 'John Haviland', 'John Hauiland': 'John Haviland', 'Iohn Legat': 'John Legat', 'J Norton': 'John Norton', 'I N': 'John Norton', 'Iohn Norton': 'John Norton', 'Iohn Okes': 'John Okes', 'JO': 'John Okes', 'I Okes': 'John Okes', 'J Okes': 'John Okes', 'Iohn Pindley': 'John Pindley', 'Iohn VVindet': 'John Windet', 'Ion Vvindet': 'John Windet', 'I Windet': 'John Windet', 'John Windlet': 'John Windet', 'Iohn Windet': 'John Windet', 'M Parsons': 'Marmaduke Parsons', 'MP': 'Marmaduke Parsons', 'Melch Bradwood': 'Melchisedech Bradwood', 'M Bradwood': 'Melchisedech Bradwood', 'M Flesher': 'Miles Flesher', 'MF': 'Miles Flesher', 'Aug Matthewes': 'Augustine Matthews', 'Augustine Matthewes': 'Augustine Matthews', 'A Mathewes': 'Augustine Matthews', 'Aug Mathevve': 'Augustine Matthews', 'Augustine Mathewes': 'Augustine Matthews', 'Nickolas Okes': 'Nicholas Okes', 'Nicholas Oakes': 'Nicholas Okes', 'Nickolas Oakes': 'Nicholas Okes', 'N Okes': 'Nicholas Okes', 'N O': 'Nicholas Okes', 'R Badger': 'Richard Badger', 'R Bradock': 'Richard Bradock', 'R F': 'Richard Field', 'R Field': 'Richard Field', 'R R': 'Robert Raworth', 'R Roberts': 'Robert Roberts', 'R Young': 'Robert Young', 'S S': 'Simon Stafford', 'S Stafford': 'Simon Stafford', 'Tho Badger': 'Thomas Badger', 'Tho Cotes': 'Thomas Cotes', 'T C': 'Thomas Creede', 'T Cotes': 'Thomas Cotes', 'Thomes Creede': 'Thomas Creede', 'T Creede': 'Thomas Creede', 'Thomas Creed': 'Thomas Creede', 'T Fawcet': 'Thomas Fawcet', 'T H': 'Thomas Harper', 'Tho Harper': 'Thomas Harper', 'Tho James': 'Thomas James', 'Thomas Iones': 'Thomas Jones', 'T P': 'Thomas Purfoot', 'T S': 'Thomas Snodham', 'T Snodham': 'Thomas Snodham', 'Valentine Sims': 'Valentine Simmes', 'Valentine Syms': 'Valentine Simmes', 'V S': 'Valentine Simmes', 'V Simmes': 'Valentine Simmes', 'W H': 'W Hall', 'W W': 'W White', 'W Jaggard': 'William Jaggard', 'William Iaggard': 'William Jaggard', 'VVilliam Iones': 'William Jones', 'VV I': 'William Jones', 'William Iones': 'William Jones', 'W Iones': 'William Jones', 'W Stansby': 'William Stansby', 'Will Stansby': 'William Stansby', 'W S': 'William Stansby'}\n"
     ]
    }
   ],
   "source": [
    "'''From a CSV of printers' alternative names, generate a standardizer dictionary'''\n",
    "\n",
    "file = '/Users/amycweng/Digital Humanities/EML Authors_Publishers 2022-Public - Printer Names.csv'\n",
    "data = pd.read_csv(file)\n",
    "data = data.fillna(0)\n",
    "nameDict = {}\n",
    "for idx, name in enumerate(data['Standard']):\n",
    "    for num in range(1,6+1):\n",
    "        entry = data[str(num)][idx]\n",
    "        if entry != 0: \n",
    "            nameDict[entry.strip()] = name.strip()         \n",
    "print(f'printers = {nameDict}')"
   ]
  },
  {
   "cell_type": "code",
   "execution_count": 7,
   "metadata": {},
   "outputs": [
    {
     "name": "stdout",
     "output_type": "stream",
     "text": [
      "pubplaces = {'A Moore': [\"Near St. Paul's Churchyard\"], 'Andrew Crooke': [\"Sign of the Green Dragon in St. Paul's Churchyard\", 'Castle gate in Dublin', \"Sign of the Black Bear near the Little North Door of St. Paul's Churchyard \"], 'Arthur Johnson': [\"Sign of the White Horse in St. Paul's Churchyard\"], 'Bartholomew Sutton': [\"Great North Door of St. Paul's Church\"], 'Benjamin Fisher': ['Sign of the Talbot without Aldersgate'], 'Bernard Alsop': [\"House next to St. Anne's Church\"], 'Christopher Meredith': [\"Sign of the Golden Lion in St. Paul's Churchyard\"], 'Cuthbert Burby': ['Near the Royal Exchange', \"Middle Shop in the Poultry under St. Mildred's Church\"], 'Edmond Matts': ['Sign of the Hand and Plow in Fleet Street'], 'Edmond Weaver': [\"Great North Gate of St. Paul's Church\"], 'Edward Blackmore': [\"Sign of the Angel in St. Paul's Churchyard\"], 'Edward Brewster': [\"Sign of the Bible at the Great North Door of St. Paul's Church\"], 'Edward Langham': ['Banbury'], 'Edward Marchant': [\"Against the Cross in St. Paul's Churchyard\"], 'Edward White': [\"Little North Door of St. Paul's Churchyard at the Sign of the Gun\"], 'Eleazar Edgar': [\"Sign of the Bull Head in St. Paul's Churchyard\"], 'Fran Grove': [], 'Francis Coles': ['Upper End of the Old Baily Near Newgate'], 'Francis Constable': [\"Sign of the Crane in St. Paul's Churchyard\"], 'Francis Eaglesfield': [\"Sign of the Marigold in St. Paul's Churchyard\"], 'Francis Faulkner': [\"Near St. Margaret's Hill in Southwark\"], 'Francis Kirkman': [\"Sign of John Fletcher's Head over against the Angel Inn on the back side of St. Clements without Temple Bar\"], 'Francis Tyton': [], 'Fulke Clifton': ['On Fish Street near London Bridge', \"On New Fish Street hill under St. Margaret's Church at the Sign of the Lamb\"], 'Gabriel Beadle': [], 'George Edwards': ['House in Green Arbor at the Sign of the Angel'], 'George Fayerbeard': ['At the North Door of the Royal Exchange'], 'George Lathum Junior': [], 'George Norton': ['Near the Temple Bar Gate'], 'George Vincent': ['In Woodstreet'], 'George Winder': [\"St. Dunstan's Churchyard \"], 'Hen Taunton': [\"St. Dunstan's Churchyard\"], 'Henry Brome': [], 'Henry Fetherstone': [], 'Humphrey Moseley': [\"Sign of the Prince's Arms in St. Paul's Churchyard\"], 'Humphrey Robinson': ['The Three Pigeons'], 'J B': [\"Sign of the Guilded Acorn in St. Paul's Churchyard near the Little North Door \"], 'Jacob Tonson': [], 'James Boler': [\"Sign of the Marigold in St. Paul's Churchyard\"], 'John Alen': [], 'John Baily': ['Door of the Office of the Six Clarkes in Chancerie Lane'], 'John Bartlett': [\"Sign of the Gilt Cup in the Goldsmith's Row in Cheapside\"], 'John Bisse': [\"At the Bell in St. Paul's Churchyard\"], 'John Blague': [\"Pope's Head Alley\"], 'John Deane': ['Door of the Office of the Six Clarkes in Chancerie Lane'], 'John Place': [], 'John Porter': [], 'John Stafford': ['Black Horse Alley in Fleet Street'], 'John Sweeting': [], 'Joshua Kirton': [\"Sign of the White Horse in St. Paul's Churchyard\", \"Next to Goldsmith's Hall in Foster Lane\", \"Sign of the Spread Eagle in St. Paul's Churchyard\"], 'Leonard Becket': ['In the Temple Near the Church'], 'Leonard Greene': ['Cambridge'], 'Mathew Cooke': [\"Sign of the Tiger's Head in St. Paul's Churchyard \"], 'Mathew Lawe': [\"Sign of the Bishop's Head in St. Paul's Churchyard\"], 'Mathew Lownes': ['Sign of the Blue Bible in Greene Arbor'], 'Michael Sparke': [], 'Nathaniel Brooke': [\"Sign of the Pied Bull by St. Augustine's Gate in St. Paul's Churchyard\"], 'Nathaniel Butter': [], 'Nathaniel Webb': ['South Entrance of the Royal Exchange'], 'Nicholas Bourne': [], 'Obadiah Blagrave': ['Sign of the Glove in Cornhill near the Royal Exchange'], 'Peter Cole': [\"Sign of the Golden Lion in St. Paul's Churchyard\"], 'Philemon Stephens': [], 'Ralph Mab': [], 'Ralph Smith': [], 'Rapha Harford': ['Sun and Bible near Pye Corner'], 'Richard Hawkings': ['Sign of the Bible in Cheapside'], 'Richard Thrayle': [\"Sign of the King's Head in St. Paul's Churchyard\"], 'Richard Tomlins': [\"Sign of the Brasen Serpent in St. Paul's Churchyard \"], 'Robert Bird': [], 'Robert Bostock': [\"Sign of the Bull Head in St. Paul's Churchyard\", \"Sign of the Tiger's Head in St. Paul's Churchyard\"], 'Robert Dexter': ['Near Holborne Bridge'], 'Samuel Gellibrand': ['Sign of the Rainbow between the two Temple Gates'], 'Samuel Howes': [], 'Samuel Macham': [\"St. Dunstan's Churchyard\"], 'Samuel Rand': [\"Against the Sarazen's Head without Newgate\"], 'Samuel Speed': ['Pater Noster Row at the Sign of the Talbot'], 'Symon Waterson': [], 'Thomas Basset': ['The Three Lions in Cornhill near the Royal Exchange'], 'Thomas Langley': [\"Sign of the White Horse in St. Paul's Churchyard\"], 'Thomas Man': [\"Sign of the Bull Head in St. Paul's Churchyard\"], 'Thomas Newberry': [\"Great North Door of St. Paul's Church\"], 'Thomas Pavier': [\"Sign of the Bible near the Great North Door of St. Paul's Churchyard\"], 'Thomas Warren': [], 'Timothy Barlow': [\"Sign of the Green Dragon in St. Paul's Churchyard\"], 'W Barrett': [], 'Wililam Butler': [], 'William Barrenger': ['Sign of the Star in Cornhill', \"Entrance of Pope's Head Alley out of Lumbard Street\"], 'William Bladen': [\"Sign of the Swan in St. Paul's Churchyard\"], 'William Cooke': [], 'William Grantham': [\"Sign of the Gilt Bible in Queen's Head Alley in Pater Noster Row\"], 'William Hope': [], 'William Miller': [\"Pope's Head Alley\"], 'William Sheffard': [], 'William Welby': [\"Sign of the Black Bear near the Little North Door of St. Paul's Churchyard\", \"Sign of the Greyhound in St. Paul's Churchyard\"]}\n"
     ]
    }
   ],
   "source": [
    "'''From a CSV of printers' alternative names, generate a standardizer dictionary'''\n",
    "\n",
    "file = '/Users/amycweng/Digital Humanities/EML Authors_Publishers 2022-Public - Publisher Locations.csv'\n",
    "data = pd.read_csv(file)\n",
    "data = data.fillna(0)\n",
    "placeDict = {}\n",
    "for idx, name in enumerate(data['Publisher']):\n",
    "    placeDict[name.strip()] = []\n",
    "    for num in range(1,3+1):\n",
    "        entry = data[f'Shop{num}'][idx]\n",
    "        if entry != 0: \n",
    "            placeDict[name.strip()].append(entry)\n",
    "                     \n",
    "print(f'pubplaces = {placeDict}')"
   ]
  }
 ],
 "metadata": {
  "kernelspec": {
   "display_name": "Python 3.9.7 ('base')",
   "language": "python",
   "name": "python3"
  },
  "language_info": {
   "codemirror_mode": {
    "name": "ipython",
    "version": 3
   },
   "file_extension": ".py",
   "mimetype": "text/x-python",
   "name": "python",
   "nbconvert_exporter": "python",
   "pygments_lexer": "ipython3",
   "version": "3.9.7"
  },
  "orig_nbformat": 4,
  "vscode": {
   "interpreter": {
    "hash": "40d3a090f54c6569ab1632332b64b2c03c39dcf918b08424e98f38b5ae0af88f"
   }
  }
 },
 "nbformat": 4,
 "nbformat_minor": 2
}
