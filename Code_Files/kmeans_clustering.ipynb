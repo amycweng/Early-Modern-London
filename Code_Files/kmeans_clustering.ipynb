{
 "cells": [
  {
   "cell_type": "code",
   "execution_count": 10,
   "metadata": {},
   "outputs": [],
   "source": [
    "from extractFeatures import *\n",
    "from sklearn.feature_extraction.text import TfidfVectorizer, CountVectorizer\n",
    "import warnings\n",
    "warnings.simplefilter(\"ignore\", UserWarning)\n",
    "warnings.simplefilter(\"ignore\",FutureWarning)\n",
    "\n",
    "'''\n",
    "k-means clustering\n",
    "\n",
    "The elbow and intercluster functions are adapted from Yellowbrick's documentation: \n",
    "    https://www.scikit-yb.org/en/latest/index.html\n",
    "    \n",
    "PCA visualization code is adapted from this source: \n",
    "    https://www.askpython.com/python/examples/plot-k-means-clusters-python\n",
    "'''\n",
    "import numpy as np\n",
    "import pandas as pd\n",
    "from collections import defaultdict\n",
    "from sklearn.cluster import KMeans\n",
    "from sklearn.decomposition import PCA\n",
    "import matplotlib.pyplot as plt\n",
    "plt.style.use('ggplot')\n",
    "\n",
    "\n",
    "def elbow(df):\n",
    "    from yellowbrick.cluster.elbow import kelbow_visualizer\n",
    "    kelbow_visualizer(KMeans(), df, k=(2, 10),timings=False)\n",
    "    # kelbow_visualizer(KMeans(), df, k=(2, 10),metric='calinski_harabasz',timings=False)\n",
    "    # kelbow_visualizer(KMeans(), df, k=(2, 10),metric='silhouette',timings=False)\n",
    "    \n",
    "def intercluster(model,num):\n",
    "    from yellowbrick.cluster import intercluster_distance\n",
    "    intercluster_distance(KMeans(num),model, embedding='mds') \n",
    "\n",
    "def pca_cluster(df,num, tcpIDs,t):\n",
    "    pca = PCA(n_components=2)\n",
    "    pca_results = pca.fit_transform(df) \n",
    "    model = KMeans(n_clusters=num) \n",
    "    label = model.fit_predict(pca_results) \n",
    "    kmeans_groups = defaultdict(list)\n",
    "    for k,v in zip(label,tcpIDs):\n",
    "        kmeans_groups[k].append(v)\n",
    "    groupColors = {0:'pink',1:'purple',2:'darkblue',3:'plum',4:'palevioletred',5:'darkgreen'}\n",
    "    u_labels = np.unique(label)\n",
    "    for i in u_labels:\n",
    "        plt.scatter(pca_results[label == i , 0] , pca_results[label == i , 1] , label = i,color=groupColors[i])\n",
    "    plt.legend()\n",
    "    plt.title(t,fontsize = 10)\n",
    "    plt.figure(figsize=(20,10))\n",
    "    plt.show()\n",
    "\n",
    "    return kmeans_groups"
   ]
  },
  {
   "attachments": {},
   "cell_type": "markdown",
   "metadata": {},
   "source": [
    "TFIDF vectorization and clustering of the cleaned texts in the Charity Sermons dataset"
   ]
  },
  {
   "cell_type": "code",
   "execution_count": null,
   "metadata": {},
   "outputs": [],
   "source": [
    "textInfo = getTexts('/Users/amycweng/Digital Humanities/charityTXT',tcpIDs,True)\n",
    "print(len(textInfo))\n",
    "vector = TfidfVectorizer(norm=None, sublinear_tf=True)\n",
    "tfidf_texts = vector.fit_transform(textInfo.values())\n",
    "df = pd.DataFrame(tfidf_texts.toarray(), index=textInfo.keys(), columns=vector.get_feature_names()) "
   ]
  },
  {
   "cell_type": "code",
   "execution_count": null,
   "metadata": {},
   "outputs": [],
   "source": [
    "'''Clustering based only on the original texts (no other features)'''\n",
    "elbow(df)"
   ]
  },
  {
   "cell_type": "code",
   "execution_count": null,
   "metadata": {},
   "outputs": [],
   "source": [
    "intercluster(df,3)\n",
    "groups = pca_cluster(df,3,tcpIDs)"
   ]
  },
  {
   "cell_type": "code",
   "execution_count": null,
   "metadata": {},
   "outputs": [],
   "source": [
    "for groupNum, ids_list in groups.items(): \n",
    "    if len(ids_list) == 1:\n",
    "        print(f'There is {len(ids_list)} text in Group {groupNum}')\n",
    "    else: \n",
    "        print(f'There are {len(ids_list)} texts in Group {groupNum}')\n",
    "    if groupNum != 0: \n",
    "        print(f'\\tTitles: {find_titles(ids_list),idToTitle}')\n",
    "        print(f'\\tGroup {groupNum} TCP IDs: {ids_list}')\n",
    "    print(f'\\tThe locations for the texts in this cluster: {count_features(location,ids_list)}')\n",
    "    print(f'\\tThe audiences for the texts in this cluster: {count_features(audience,ids_list)}')\n",
    "    print(f'\\tWhether or not the text mentions the provision of material help to the needy: {count_features(help_poor,ids_list)}')\n",
    "    print(f'\\tTop 20 TFIDF terms for the texts within this cluster: {Counter(top_terms(ids_list,textInfo.keys(),tfidf_texts,vector)).most_common(n=20)}')\n",
    "\n",
    "    print(f'\\tTop 20 Bigrams and Trigrams of Keywords: {count_features(ngrams,ids_list)}')\n",
    "    print(f'\\tTop 20 Topic Words: {count_features(topics,ids_list)}')\n",
    "    print(f'\\tAll subject headings: {count_features(subjects,ids_list)}')\n",
    "\n",
    "    print(f'\\tTop 20 Biblical/Apocryphal Citations: {count_features(all_citations,ids_list,\"all citations\")}')\n",
    "    print(f'\\tTop 20 Biblical/Apocryphal Citations Relating to Charity: {count_features(charity_citations,ids_list,\"charity citations\")}.\\n\\n')"
   ]
  },
  {
   "cell_type": "code",
   "execution_count": 72,
   "metadata": {},
   "outputs": [
    {
     "name": "stdout",
     "output_type": "stream",
     "text": [
      "Method A (sublinear TF & no normalization):  ['arminius', 'execration', 'stafford', 'preston', 'fullness', 'accurse', 'maranatha', 'anathema', 'treatise', 'sup', 'hater', 'dominion', 'forgive', 'sabboath', 'dd', 'love', 'aswell', 'godliness', 'ebal', 'tabor', 'olivet', 'matthew', 'spouse', 'god', 'sign']\n",
      "Method B (default):  ['love', 'god', 'lord', 'sin', 'christ', 'heart', 'grace', 'fullness', 'take', 'good', 'give', 'power', 'jesus', 'godliness', 'faith', 'spirit', 'desire', 'receive', 'believe', 'forgive', 'accurse', 'show', 'curse', 'work', 'keep']\n"
     ]
    }
   ],
   "source": [
    "'''Comparison of the performance of the TFIDF Transformer + Count Vectorizer vs. only the TfidfVectorizer'''\n",
    "tcpID = 'A55754'\n",
    "single_text_df = pd.DataFrame(tfidf_texts[[_ for _ in textInfo.keys()].index(tcpID)].T.todense(), index=vector.get_feature_names(), columns=[tcpID])\n",
    "single_text_df = single_text_df.sort_values(tcpID, ascending=False)\n",
    "top_tfidf = list(single_text_df.head(25).T.columns)\n",
    "print(f'Method A (sublinear TF & no normalization): ', top_tfidf)\n",
    "\n",
    "vector = TfidfVectorizer()\n",
    "tfidf_results = vector.fit_transform(textInfo.values())\n",
    "single_text_df = pd.DataFrame(tfidf_texts[[_ for _ in textInfo.keys()].index(tcpID)].T.todense(), index=vector.get_feature_names(), columns=[tcpID])\n",
    "single_text_df = single_text_df.sort_values(tcpID, ascending=False)\n",
    "top_tfidf = list(single_text_df.head(25).T.columns)\n",
    "print(f'Method B (default): ', top_tfidf)"
   ]
  },
  {
   "attachments": {},
   "cell_type": "markdown",
   "metadata": {},
   "source": [
    "The code below shows the TFIDF vectorization and clustering of all marginal citations in the Charity Sermons Dataset"
   ]
  },
  {
   "cell_type": "code",
   "execution_count": 3,
   "metadata": {},
   "outputs": [
    {
     "data": {
      "image/png": "[encoded data removed]",
      "text/plain": [
       "<Figure size 640x480 with 1 Axes>"
      ]
     },
     "metadata": {},
     "output_type": "display_data"
    },
    {
     "data": {
      "text/plain": [
       "<Figure size 2000x1000 with 0 Axes>"
      ]
     },
     "metadata": {},
     "output_type": "display_data"
    }
   ],
   "source": [
    "cited = {}\n",
    "for tcpID, c_list in all_citations.items(): \n",
    "    citations = []\n",
    "    if len(c_list) == 0: \n",
    "        continue\n",
    "    for passage in c_list: \n",
    "        '''Transform the citation into one unit using underscores'''\n",
    "        passage = re.sub(':','_',passage)\n",
    "        passage = passage.split(' ')\n",
    "        passage = '_'.join(passage)\n",
    "        citations.append(passage)        \n",
    "        '''Extracting only the book'''\n",
    "        # book = passage.split(' ')\n",
    "        # if book[0] == '1' or book[0] == '2': \n",
    "        #     citations.append(f'{book[0]}_{book[1]}')\n",
    "        # else: \n",
    "        #     citations.append(f'{book[0]}')\n",
    "        '''Extracting only the chapter'''\n",
    "        # book = passage.split(' ')\n",
    "        # if book[0] == '1' or book[0] == '2': \n",
    "        #     book[2] = book[2].split(':')[0]\n",
    "        #     citations.append(f'{book[0]}_{book[1]}_{book[2]}')\n",
    "        # else: \n",
    "        #     book[1] = book[1].split(':')[0]\n",
    "        #     citations.append(f'{book[0]}_{book[1]}')\n",
    "    cited[tcpID] = ' '.join(citations)\n",
    "'''Vectorization'''\n",
    "vector = TfidfVectorizer(norm=None, sublinear_tf=True)\n",
    "results = vector.fit_transform(cited.values())\n",
    "df = pd.DataFrame(results.toarray(), index=cited.keys(), columns=vector.get_feature_names()) \n",
    "groups = pca_cluster(df,5,cited.keys(),'K-Means Clustering by Marginal Scriptural Citations')"
   ]
  },
  {
   "cell_type": "code",
   "execution_count": 11,
   "metadata": {},
   "outputs": [
    {
     "name": "stdout",
     "output_type": "stream",
     "text": [
      "There are 48 texts in Group 0\n",
      "Group 0 TCP IDs: ['Preston_A09990', 'Preston_A09963', 'Hall_A02565', 'Gouge_A85485', 'Preston_A09981', 'Preston_A10010', 'Gouge_A70130', 'Preston_A09950', 'Preston_A10024', 'Whately_A14989', 'Gataker_A01531', 'Gataker_A01530', 'Hall_A02591', 'Gataker_A01547', 'Gouge_A01970', 'Crashaw_A19588', 'Crashaw_A19589', 'Hall_A02537', 'Gataker_A01528', 'Gouge_A85486', 'Whately_A68877', 'Gouge_A85487', 'Preston_A55748', 'Gataker_A01523', 'Crashaw_A19590', 'Preston_A09999', 'Whately_A15015', 'Gataker_A01548', 'Gataker_A01534', 'Hall_A02571', 'Preston_A55754', 'Preston_A09977', 'Preston_A10030', 'Gataker_A01538', 'Hall_A86974', 'Whately_A15012', 'Gataker_A01533', 'Whately_A14996', 'Preston_A09971', 'Preston_A10027', 'Gouge_A01980', 'Preston_A10018', 'Hall_A02585', 'Preston_A09958', 'Gataker_A01524', 'Gataker_A68088', 'Preston_A09967', 'Gataker_A01553']\n",
      "Top 20 Bigrams and Trigrams of Keywords: [('be_rich', 93), ('rich_man', 65), ('', 48), ('poor_man', 41), ('his_wealth', 28), ('bestow_upon', 26), ('labour_to_see', 25), ('be_poor', 24), ('wealth_be', 22), ('be_bestow', 20), ('labour_to_get', 20), ('bestow_it', 19), ('therefore_labour', 19), ('his_credit', 17), ('give_to_the_poor', 17), ('thy_wealth', 16), ('he_bestow', 14), ('his_labour', 14), ('must_labour', 14), ('our_labour', 13)]\n",
      "All subject headings: [('O.T.', 4), ('Funeral sermons.', 4), ('History', 3), ('Fast-day sermons', 2), ('Christian life', 2), ('Church of England', 2), ('Sin', 2), ('Funeral sermons', 2), (\"Lord's Supper\", 2), ('Ezekiel XXXVI, 11', 1), ('Nehemiah V, 19', 1), ('Presbyterian Church', 1), ('Psalms CVII, 34', 1), ('Great Britain', 1), ('Charles I, 1625-1649', 1), ('Marriage', 1), ('Charities', 1), ('Crisp, Rebekka.', 1), ('Exodus XIII, 13', 1), ('Christian literature', 1)]\n",
      "\tThere are 6353 marginal citations in total.\n",
      "Most Frequent Scriptural Citations: [('Genesis 2:18', 15), ('Revelation 14:13', 10), ('2 Corinthians 5:8', 10), ('Genesis 2:7', 10), ('Matthew 19:6', 9), ('Proverbs 12:4', 9), ('Psalms 146:4', 8), ('James 1:17', 8), ('Ecclesiastes 12:7', 8), ('Matthew 19:5', 8), ('Psalms 62:9', 7), ('Luke 2:29', 7), ('2 Timothy 4:8', 7), ('1 John 3:17', 7), ('Romans 7:24', 7), ('Isaiah 57:1', 7), ('Isaiah 49:4', 7), ('Genesis 2:22', 7), ('Psalms 146:3', 6), ('2 Corinthians 7:1', 6)]\n",
      "\tThere are 89 marginal citations relating to charity.\n",
      "Most Frequent Charity-Related Scriptural Citations: [('1 John 3:17', 7), ('Galatians 6:10', 4), ('Matthew 25:42', 3), ('Matthew 25:43', 3), ('1 John 3:18', 3), ('Isaiah 58:7', 3), ('Proverbs 22:2', 3), ('Matthew 6:4', 2), ('Matthew 25:35', 2), ('Matthew 25:36', 2), ('2 Corinthians 9:12', 2), ('2 Corinthians 9:13', 2), ('Proverbs 19:17', 2), ('James 1:27', 2), ('Job 31:21', 2), ('Romans 12:13', 2), ('Matthew 10:42', 2), ('1 Corinthians 16:1', 1), ('Galatians 2:10', 1), ('1 Corinthians 13:3', 1)].\n",
      "\n",
      "\n",
      "There is 1 text in Group 1\n",
      "Titles: ['A72143: Certaine sermons, first preached, and after published at severall times, by M. Thomas Gataker B. of D. and pastor at Rotherhith. And now gathered together into one volume: the severall texts and titles whereof are set downe in the leafe following']\n",
      "Group 1 TCP IDs: ['Gataker_A72143']\n",
      "Top 20 Bigrams and Trigrams of Keywords: [('rich_man', 17), ('be_rich', 11), ('worldly_wealth', 10), ('poor_man', 9), ('due_debt', 9), ('his_wealth', 8), ('rich_or_poor', 6), ('pledge_or_pawn', 6), ('love_kindness', 4), ('all_the_wealth', 4), ('we_labour', 4), ('worldly_rich', 4), ('have_bestow', 4), ('his_pawn', 4), ('industry_be', 3), ('labour_to_keep', 3), ('his_money', 3), ('great_wealth', 3), ('wealth_but', 3), ('bestow_it', 3)]\n",
      "All subject headings: []\n",
      "\tThere are 4349 marginal citations in total.\n",
      "Most Frequent Scriptural Citations: [('Revelation 20:6', 8), ('Psalms 34:9', 7), ('Romans 14:17', 7), ('Hebrews 13:5', 7), ('2 Corinthians 6:10', 7), ('Jeremiah 17:9', 7), ('Psalms 34:10', 6), ('1 Timothy 5:8', 6), ('Ephesians 4:24', 6), ('Matthew 6:32', 6), ('Philippians 4:6', 6), ('1 Timothy 6:17', 6), ('Psalms 4:6', 6), ('Romans 5:3', 6), ('Psalms 4:7', 6), ('Job 1:21', 6), ('Job 13:15', 6), ('Ecclesiastes 12:1', 5), ('Psalms 128:1', 5), ('1 Peter 1:23', 5)]\n",
      "\tThere are 27 marginal citations relating to charity.\n",
      "Most Frequent Charity-Related Scriptural Citations: [('2 Corinthians 9:8', 3), ('Isaiah 61:1', 2), ('Matthew 6:3', 2), ('1 John 3:17', 1), ('2 Corinthians 9:9', 1), ('2 Corinthians 9:10', 1), ('Matthew 6:2', 1), ('Matthew 6:20', 1), ('Philippians 2:4', 1), ('Ephesians 4:28', 1), ('Ezekiel 16:49', 1), ('Matthew 25:42', 1), ('Matthew 25:43', 1), ('Proverbs 11:24', 1), ('2 Corinthians 9:7', 1), ('Romans 12:8', 1), ('Romans 2:8', 1), ('2 Corinthians 9:12', 1), ('Matthew 6:1', 1), ('Hebrews 13:16', 1)].\n",
      "\n",
      "\n",
      "There is 1 text in Group 2\n",
      "Titles: ['A01979: The vvhole-armor of God: or A Christians spiritual furniture, to keepe him safe from all the assaults of Satan First preached, and now the second time published and enlarged for the good of all such as well vse it:whereunto is also added a treatise of the sinne against the Holy Ghost. By VVilliam Gouge B.D. and preacher of Gods Word in Blacke Fryers London. ...']\n",
      "Group 2 TCP IDs: ['Gouge_A01979']\n",
      "Top 20 Bigrams and Trigrams of Keywords: [('poor_sinner', 6), ('god_bestow', 5), ('poor_man', 4), ('bestow_on_we', 4), ('peace_and_prosperity', 4), ('rich_mercy', 4), ('profitable_unto', 4), ('first_labour', 3), ('have_purchase', 3), ('city_be', 3), ('labour_to_keep', 3), ('rich_treasure', 3), ('he_labour', 3), ('grace_and_rich', 3), ('be_purchase', 3), ('what_profit', 3), ('be_bestow', 3), ('bestow_on_they', 3), ('bestow_on_he', 2), ('into_prison', 2)]\n",
      "All subject headings: [('Spiritual life', 1), ('Modern period, 1500-.', 1), ('Sin, Unpardonable', 1)]\n",
      "\tThere are 2549 marginal citations in total.\n",
      "Most Frequent Scriptural Citations: [('1 Peter 5:8', 13), ('Genesis 3:15', 9), ('2 Corinthians 4:4', 9), ('Hebrews 13:18', 9), ('Matthew 4:3', 8), ('Matthew 26:41', 8), ('John 8:44', 7), ('Luke 22:31', 7), ('James 5:11', 7), ('Esther 4:16', 7), ('James 1:17', 6), ('Isaiah 38:3', 6), ('John 3:16', 6), ('Luke 22:32', 6), ('Acts 15:9', 6), ('Romans 8:26', 6), ('1 Corinthians 12:12', 5), ('1 Samuel 17:45', 5), ('James 4:7', 5), ('2 Corinthians 3:5', 5)]\n",
      "\tThere are 16 marginal citations relating to charity.\n",
      "Most Frequent Charity-Related Scriptural Citations: [('Matthew 25:46', 4), ('Matthew 25:41', 2), ('James 2:16', 1), ('Luke 14:12', 1), ('Matthew 6:2', 1), ('Isaiah 1:17', 1), ('Titus 3:14', 1), ('Galatians 6:10', 1), ('Luke 4:18', 1), ('1 John 3:17', 1), ('Isaiah 58:7', 1), ('Hebrews 13:16', 1)].\n",
      "\n",
      "\n",
      "There are 2 texts in Group 3\n",
      "Titles: ['A01529: The Christian mans care A sermon on Matth. 6. 33. Together with a short catechisme for the simpler sort. By Thomas Gataker, B. of D. and pastor of Rotherhith.', 'A01554: Two sermons tending to direction for Christian cariage [sic] both in afflictions incumbent, and in judgements imminent : the former on Psalm 13.1, the latter on Hebr. 11.7 / by Thomas Gataker, B. in D. and pastor of Rotherhith.']\n",
      "Group 3 TCP IDs: ['Gataker_A01529', 'Gataker_A01554']\n",
      "Top 20 Bigrams and Trigrams of Keywords: [('his_pawn', 5), ('pledge_or_pawn', 4), ('his_pledge', 4), ('his_labour', 3), ('', 2), ('as_in_prosperity', 2), ('poor_widow', 2), ('pawn_of_his', 2), ('worldly_wealth', 2), ('industry_be', 2), ('rich_commodity', 2), ('10635', 1), ('daughter_and_rich', 1), ('their_poor', 1), ('poor_think', 1), ('t_the_poor', 1), ('forget_the_poor', 1), ('coin_will', 1), ('bestow_on_he', 1), ('day_to_bestow', 1)]\n",
      "All subject headings: [('O.T.', 1), ('Psalms XIII, 1', 1), ('N.T.', 1), ('Hebrews XI, 7', 1), ('Catechisms, English.', 1)]\n",
      "\tThere are 1453 marginal citations in total.\n",
      "Most Frequent Scriptural Citations: [('Revelation 20:6', 6), ('Matthew 13:45', 4), ('Romans 5:21', 4), ('Matthew 6:32', 4), ('2 Peter 3:13', 3), ('Luke 11:10', 3), ('Jeremiah 31:18', 3), ('Isaiah 26:9', 3), ('Luke 12:32', 3), ('Revelation 1:6', 3), ('Revelation 3:21', 3), ('1 John 3:2', 3), ('Philippians 4:6', 3), ('Psalms 34:10', 3), ('Psalms 34:9', 3), ('Isaiah 53:4', 3), ('Psalms 44:24', 3), ('Job 13:15', 3), ('Hebrews 12:6', 3), ('Psalms 51:8', 3)]\n",
      "\tThere are 9 marginal citations relating to charity.\n",
      "Most Frequent Charity-Related Scriptural Citations: [('Isaiah 61:1', 1), ('Matthew 25:35', 1), ('Matthew 6:2', 1), ('Matthew 6:20', 1), ('Philippians 2:4', 1), ('Matthew 6:3', 1), ('2 Corinthians 9:8', 1), ('Isaiah 58:7', 1), ('Matthew 25:46', 1)].\n",
      "\n",
      "\n",
      "There is 1 text in Group 4\n",
      "Titles: ['A01539: the ioy of the iust vvith the signes of such. A discourse tending to the comfort of the deiected and afflicted; and to the triall of sinceritie. Being the enlargement of a sermon preached at Black-Friers London; on Psal. 95. 11. By Thomas Gataker B. of D. and pastor of Rotherhith.']\n",
      "Group 4 TCP IDs: ['Gataker_A01539']\n",
      "Top 20 Bigrams and Trigrams of Keywords: [('poor_man', 2), ('poor_in_spirit', 2), ('poor_soul', 2), ('14558', 1), ('', 1), ('poor_prisoner', 1), ('poor_distress', 1), ('swagger_in_the_prison', 1), ('god_prison', 1), ('his_prison', 1), ('worldly_wealth', 1), ('favour_bestow', 1), ('matter_bestow', 1), ('joy_to_labour', 1), ('labour_for_righteousness', 1), ('his_labour', 1), ('not_wealth', 1), ('whole_city', 1), ('debtor_till', 1), ('therewith_labour', 1)]\n",
      "All subject headings: []\n",
      "\tThere are 1187 marginal citations in total.\n",
      "Most Frequent Scriptural Citations: [('Romans 5:3', 5), ('Romans 14:17', 5), ('Psalms 32:11', 4), ('Romans 5:5', 4), ('Romans 5:2', 4), ('Galatians 5:22', 4), ('Matthew 5:4', 4), ('Psalms 112:4', 4), ('Amos 6:6', 3), ('Esther 8:16', 3), ('Isaiah 50:10', 3), ('Psalms 68:4', 3), ('Psalms 64:10', 3), ('Proverbs 29:6', 3), ('Psalms 30:11', 3), ('Psalms 33:1', 3), ('Philippians 4:4', 3), ('Romans 5:1', 3), ('Romans 12:12', 3), ('Hebrews 11:1', 3)]\n",
      "\tThere are 6 marginal citations relating to charity.\n",
      "Most Frequent Charity-Related Scriptural Citations: [('Isaiah 61:1', 1), ('2 Corinthians 9:7', 1), ('Romans 12:8', 1), ('Romans 2:8', 1), ('2 Corinthians 9:12', 1), ('Matthew 6:1', 1)].\n",
      "\n",
      "\n"
     ]
    }
   ],
   "source": [
    "for groupNum in sorted(groups.keys()):\n",
    "    ids_list = groups[groupNum]\n",
    "    if len(ids_list) == 1:\n",
    "        print(f'There is {len(ids_list)} text in Group {groupNum}')\n",
    "    else: \n",
    "        print(f'There are {len(ids_list)} texts in Group {groupNum}')\n",
    "    if groupNum != 0: \n",
    "        print(f\"Titles: {[f'{tcpID}: {idToTitle[tcpID]}' for tcpID in ids_list]}\")\n",
    "    author_id = []\n",
    "    for tcpID in ids_list:\n",
    "        for entry in idAuthor: \n",
    "            if tcpID in entry: \n",
    "                author_id.append(entry) \n",
    "    print(f'Group {groupNum} TCP IDs: {author_id}')\n",
    "    # print(f'The locations for the texts in this cluster: {count_features(location,ids_list)}')\n",
    "    # print(f'The audiences for the texts in this cluster: {count_features(audience,ids_list)}')\n",
    "    # print(f'Whether or not the text mentions the provision of material help to the needy: {count_features(help_poor,ids_list)}')\n",
    "    print(f'Top 20 Bigrams and Trigrams of Keywords: {count_features(ngrams,ids_list)}')\n",
    "    # print(f'Top 20 Topic Words: {count_features(topics,ids_list)}')\n",
    "    print(f'All subject headings: {count_features(subjects,ids_list)}')\n",
    "\n",
    "    print(f'Most Frequent Scriptural Citations: {count_features(all_citations,ids_list,\"all citations\")}')\n",
    "    print(f'Most Frequent Charity-Related Scriptural Citations: {count_features(charity_citations,ids_list,\"charity citations\")}.\\n\\n')"
   ]
  },
  {
   "attachments": {},
   "cell_type": "markdown",
   "metadata": {},
   "source": [
    "The code below shows the TFIDF vectorization and clustering of marginal citations related to charity in the Charity Sermons Dataset"
   ]
  },
  {
   "cell_type": "code",
   "execution_count": 10,
   "metadata": {},
   "outputs": [
    {
     "name": "stdout",
     "output_type": "stream",
     "text": [
      "##Gataker_A72143: Certaine sermons, first preached, and after published at severall times, by M. Thomas Gataker B. of D. and pastor at Rotherhith. And now gathered together into one volume: the severall texts and titles whereof are set downe in the leafe following\n",
      "- Location: St Mary's Church, Rotherhithe\n",
      "- Audience: local\n",
      "- Top 20 Bigrams and Trigrams of Keywords: [('rich_man', 17), ('be_rich', 11), ('worldly_wealth', 10), ('poor_man', 9), ('due_debt', 9), ('his_wealth', 8), ('rich_or_poor', 6), ('pledge_or_pawn', 6), ('love_kindness', 4), ('all_the_wealth', 4), ('we_labour', 4), ('worldly_rich', 4), ('have_bestow', 4), ('his_pawn', 4), ('industry_be', 3), ('labour_to_keep', 3), ('his_money', 3), ('great_wealth', 3), ('wealth_but', 3), ('bestow_it', 3)]\n",
      "- All subject headings: []\n",
      "\tThere are 27 marginal citations relating to charity.\n",
      "- Most Frequent Charity-Related Scriptural Citations: [('2 Corinthians 9:8', 3), ('Isaiah 61:1', 2), ('Matthew 6:3', 2), ('1 John 3:17', 1), ('2 Corinthians 9:9', 1), ('2 Corinthians 9:10', 1), ('Matthew 6:2', 1), ('Matthew 6:20', 1), ('Philippians 2:4', 1), ('Ephesians 4:28', 1), ('Ezekiel 16:49', 1), ('Matthew 25:42', 1), ('Matthew 25:43', 1), ('Proverbs 11:24', 1), ('2 Corinthians 9:7', 1), ('Romans 12:8', 1), ('Romans 2:8', 1), ('2 Corinthians 9:12', 1), ('Matthew 6:1', 1), ('Hebrews 13:16', 1)].\n",
      "\n",
      "\n",
      "##Gataker_A01531: The decease of Lazarus Christ's friend A funerall sermon on Iohn. chap. 11. vers. 11. preached at the buriall of Mr. John Parker merchant and citizen of London. By Tho. Gataker B. of D. and rector of Rotherhith.\n",
      "- Location: London\n",
      "- Audience: funeral\n",
      "- Top 20 Bigrams and Trigrams of Keywords: [('fifty_pound', 4), ('bestow_himself', 2), ('his_poor', 2), ('show_kindness', 2), ('poor_people', 2), ('his_charity', 2), ('pound_among', 2), ('seven_pound', 2), ('3455', 1), ('', 1), ('rich_robe', 1), ('small_credit', 1), ('so_poor', 1), ('rate_and_revile', 1), ('poor_member', 1), ('prison_door', 1), ('their_credit', 1), ('thy_alm', 1), ('liberality_be', 1), ('poor_servant', 1)]\n",
      "- All subject headings: [('Parker, John, d. 1639 or 40', 1), ('Funeral sermons', 1)]\n",
      "\tThere are 18 marginal citations relating to charity.\n",
      "- Most Frequent Charity-Related Scriptural Citations: [('1 John 3:18', 2), ('1 Corinthians 13:3', 1), ('Matthew 25:35', 1), ('Matthew 25:36', 1), ('Matthew 25:42', 1), ('Matthew 25:43', 1), ('1 John 3:17', 1), ('Galatians 6:10', 1), ('Isaiah 58:7', 1), ('Acts 10:2', 1), ('James 2:15', 1), ('James 2:16', 1), ('2 Corinthians 9:12', 1), ('2 Corinthians 9:13', 1), ('1 Corinthians 16:2', 1), ('Hebrews 13:16', 1), ('Proverbs 19:17', 1)].\n",
      "\n",
      "\n",
      "##Gataker_A01530: Maskil le-David = Dauids instructer A sermon preached at the visitation of the Free-Schole at Tunbridge in Kent, by the wardens of the Worshipfull Companie of Skinners; by Thomas Gataker B. of D. and pastor of Rotherhith.\n",
      "- Location: Tonbridge Free School\n",
      "- Audience: school\n",
      "- Top 20 Bigrams and Trigrams of Keywords: [('labour_not', 2), ('your_labour', 2), ('3019', 1), ('', 1), ('be_profitable', 1), ('precious_and_profitable', 1), ('alphius_the_usurer', 1), ('good_debtor', 1), ('one_city', 1), ('consist_of_city', 1), ('pension_to_the_poor', 1), ('his_bounty', 1), ('liberality_abundant', 1), ('through_industry', 1), ('bounty_of_friend', 1), ('love_kindness', 1), ('p_bounty', 1), ('bold_bequeath', 1)]\n",
      "- All subject headings: []\n",
      "\tThere are 3 marginal citations relating to charity.\n",
      "- Most Frequent Charity-Related Scriptural Citations: [('1 John 3:17', 1), ('2 Corinthians 9:9', 1), ('2 Corinthians 9:10', 1)].\n",
      "\n",
      "\n",
      "##Gataker_A01529: The Christian mans care A sermon on Matth. 6. 33. Together with a short catechisme for the simpler sort. By Thomas Gataker, B. of D. and pastor of Rotherhith.\n",
      "- Location: St Mary's Church, Rotherhithe\n",
      "- Audience: local\n",
      "- Top 20 Bigrams and Trigrams of Keywords: [('worldly_wealth', 2), ('industry_be', 2), ('rich_commodity', 2), ('4662', 1), ('', 1), ('commodity_that', 1), ('labour_about', 1), ('travel_or_labour', 1), ('much_of_the_wealth', 1), ('than_wealth', 1), ('labour_or_study', 1), ('wealth_yes', 1), ('rich_and_precious', 1), ('bestow_it', 1), ('counterfeit_coin', 1), ('their_money', 1), ('city_seat', 1), ('industrious_seek', 1), ('usury_that', 1), ('poor_dare', 1)]\n",
      "- All subject headings: [('Catechisms, English.', 1)]\n",
      "\tThere are 7 marginal citations relating to charity.\n",
      "- Most Frequent Charity-Related Scriptural Citations: [('Isaiah 61:1', 1), ('Matthew 25:35', 1), ('Matthew 6:2', 1), ('Matthew 6:20', 1), ('Philippians 2:4', 1), ('Matthew 6:3', 1), ('2 Corinthians 9:8', 1)].\n",
      "\n",
      "\n",
      "##Gataker_A01548: A sparke tovvard the kindling of sorrow for Sion A meditation on Amos 6. 6. Being the summe of a sermon preached at Sergeants Inne in Fleet-Street. By Thomas Gataker B. of D. and pastor of Rotherhith.\n",
      "- Location: Sergeant's Inn\n",
      "- Audience: local\n",
      "- Top 20 Bigrams and Trigrams of Keywords: [('their_poor', 3), ('poor_soul', 2), ('rich_glutton', 2), ('christian_charity', 2), ('3117', 1), ('', 1), ('city_all', 1), ('head_city', 1), ('wealth_so', 1), ('mercy_and_bounty', 1), ('city_i', 1), ('rich_man', 1), ('charity_justice', 1), ('rich_that', 1), ('charity_be', 1), ('his_poor', 1), ('profit_and_pleasure', 1), ('poor_servant', 1), ('poor_widow', 1)]\n",
      "- All subject headings: []\n",
      "\tThere are 18 marginal citations relating to charity.\n",
      "- Most Frequent Charity-Related Scriptural Citations: [('1 John 3:17', 3), ('Matthew 25:42', 2), ('Matthew 25:43', 2), ('Matthew 25:41', 1), ('James 1:27', 1), ('Philippians 2:4', 1), ('Galatians 6:10', 1), ('Matthew 25:35', 1), ('Matthew 25:36', 1), ('1 John 3:18', 1), ('Acts 11:29', 1), ('Acts 11:30', 1), ('2 Corinthians 8:3', 1), ('Matthew 10:42', 1)].\n",
      "\n",
      "\n",
      "##Gataker_A01539: the ioy of the iust vvith the signes of such. A discourse tending to the comfort of the deiected and afflicted; and to the triall of sinceritie. Being the enlargement of a sermon preached at Black-Friers London; on Psal. 95. 11. By Thomas Gataker B. of D. and pastor of Rotherhith.\n",
      "- Location: St Ann Blackfriars\n",
      "- Audience: local\n",
      "- Top 20 Bigrams and Trigrams of Keywords: [('poor_man', 2), ('poor_in_spirit', 2), ('poor_soul', 2), ('14558', 1), ('', 1), ('poor_prisoner', 1), ('poor_distress', 1), ('swagger_in_the_prison', 1), ('god_prison', 1), ('his_prison', 1), ('worldly_wealth', 1), ('favour_bestow', 1), ('matter_bestow', 1), ('joy_to_labour', 1), ('labour_for_righteousness', 1), ('his_labour', 1), ('not_wealth', 1), ('whole_city', 1), ('debtor_till', 1), ('therewith_labour', 1)]\n",
      "- All subject headings: []\n",
      "\tThere are 6 marginal citations relating to charity.\n",
      "- Most Frequent Charity-Related Scriptural Citations: [('Isaiah 61:1', 1), ('2 Corinthians 9:7', 1), ('Romans 12:8', 1), ('Romans 2:8', 1), ('2 Corinthians 9:12', 1), ('Matthew 6:1', 1)].\n",
      "\n",
      "\n",
      "##Whately_A15012: The poore mans advocate, or, A treatise of liberality to the needy. Delivered in sermons by William Whately minister of Banbury\n",
      "- Location: St. Mary's Church, Banbury\n",
      "- Audience: local\n",
      "- Top 20 Bigrams and Trigrams of Keywords: [('give_to_the_poor', 17), ('poor_man', 14), ('bounty_to_the_poor', 6), ('be_rich', 6), ('rich_man', 5), ('give_alm', 4), ('not_rich', 3), ('poor_needy', 2), ('thy_poor', 2), ('needy_person', 2), ('wealth_that', 2), ('be_poor', 2), ('towards_the_poor', 2), ('needy_brother', 2), ('make_rich', 2), ('make_poor', 2), ('sum_of_money', 2), ('your_money', 2), ('six_penny', 2), ('work_of_kindness', 2)]\n",
      "- All subject headings: [('Charities', 1)]\n",
      "\tThere are 15 marginal citations relating to charity.\n",
      "- Most Frequent Charity-Related Scriptural Citations: [('2 Corinthians 9:12', 1), ('2 Corinthians 9:13', 1), ('Proverbs 21:13', 1), ('1 John 3:17', 1), ('Proverbs 11:24', 1), ('Proverbs 11:25', 1), ('Proverbs 19:17', 1), ('Romans 12:13', 1), ('Luke 12:33', 1), ('Acts 2:45', 1), ('2 Corinthians 9:7', 1), ('2 Corinthians 8:11', 1), ('2 Corinthians 9:11', 1), ('1 John 3:16', 1), ('2 Corinthians 9:8', 1)].\n",
      "\n",
      "\n",
      "##Gouge_A01979: The vvhole-armor of God: or A Christians spiritual furniture, to keepe him safe from all the assaults of Satan First preached, and now the second time published and enlarged for the good of all such as well vse it:whereunto is also added a treatise of the sinne against the Holy Ghost. By VVilliam Gouge B.D. and preacher of Gods Word in Blacke Fryers London. ...\n",
      "- Location: St Ann Blackfriars\n",
      "- Audience: local\n",
      "- Top 20 Bigrams and Trigrams of Keywords: [('poor_sinner', 6), ('god_bestow', 5), ('poor_man', 4), ('bestow_on_we', 4), ('peace_and_prosperity', 4), ('rich_mercy', 4), ('profitable_unto', 4), ('first_labour', 3), ('have_purchase', 3), ('city_be', 3), ('labour_to_keep', 3), ('rich_treasure', 3), ('he_labour', 3), ('grace_and_rich', 3), ('be_purchase', 3), ('what_profit', 3), ('be_bestow', 3), ('bestow_on_they', 3), ('bestow_on_he', 2), ('into_prison', 2)]\n",
      "- All subject headings: [('Spiritual life', 1), ('Modern period, 1500-.', 1), ('Sin, Unpardonable', 1)]\n",
      "\tThere are 16 marginal citations relating to charity.\n",
      "- Most Frequent Charity-Related Scriptural Citations: [('Matthew 25:46', 4), ('Matthew 25:41', 2), ('James 2:16', 1), ('Luke 14:12', 1), ('Matthew 6:2', 1), ('Isaiah 1:17', 1), ('Titus 3:14', 1), ('Galatians 6:10', 1), ('Luke 4:18', 1), ('1 John 3:17', 1), ('Isaiah 58:7', 1), ('Hebrews 13:16', 1)].\n",
      "\n",
      "\n"
     ]
    },
    {
     "data": {
      "image/png": "[encoded data removed]",
      "text/plain": [
       "<Figure size 800x500 with 1 Axes>"
      ]
     },
     "metadata": {},
     "output_type": "display_data"
    }
   ],
   "source": [
    "cited = {}\n",
    "for tcpID, c_list in charity_citations.items(): \n",
    "    if len(c_list) == 0: \n",
    "        continue\n",
    "    citations = []\n",
    "    for passage in c_list: \n",
    "        '''Transform the citation into one unit using underscores'''\n",
    "        passage = re.sub(':','_',passage)\n",
    "        passage = passage.split(' ')\n",
    "        passage = '_'.join(passage)\n",
    "        citations.append(passage)        \n",
    "    cited[tcpID] = ' '.join(citations)\n",
    "'''Tfidf vectorization'''\n",
    "vector = TfidfVectorizer(norm=None, sublinear_tf=True)\n",
    "tfidf_results = vector.fit_transform(cited.values())\n",
    "df = pd.DataFrame(tfidf_results.toarray(), index=cited.keys(), columns=vector.get_feature_names()) \n",
    "\n",
    "pca = PCA(n_components=2)\n",
    "pca_results = pca.fit_transform(df) \n",
    "pca_df = pd.DataFrame(pca_results, index=list(df.index), columns=[\"pc1\",\"pc2\"])\n",
    "\n",
    "ax = pca_df.plot(x='pc1',y='pc2',kind=\"scatter\",figsize=(8, 5),s=20,c='purple')\n",
    "for txt in pca_df.index:\n",
    "    if txt in ['A15012', 'A72143', 'A01531', 'A01548','A01979','A01529','A01539','A01530']:\n",
    "        x = pca_df.pc1.loc[txt]\n",
    "        y = pca_df.pc2.loc[txt]\n",
    "        ax.annotate(txt, (x,y),fontsize=10,\n",
    "                xytext=(4,-5),textcoords='offset points',\n",
    "                family='sans-serif', color='purple')\n",
    "        for entry in idAuthor:\n",
    "            if txt in entry: \n",
    "                author_id = entry\n",
    "                break\n",
    "        print(f'##{author_id}: {idToTitle[txt]}')\n",
    "        print(f'- Location: {location[txt][0]}')\n",
    "        print(f'- Audience: {audience[txt][0]}')\n",
    "        print(f'- Top 20 Bigrams and Trigrams of Keywords: {count_features(ngrams,[txt])}')\n",
    "        print(f'- All subject headings: {count_features(subjects,[txt])}')\n",
    "        print(f'- Most Frequent Charity-Related Scriptural Citations: {count_features(charity_citations,[txt],\"charity citations\")}.\\n\\n')"
   ]
  },
  {
   "attachments": {},
   "cell_type": "markdown",
   "metadata": {},
   "source": [
    "Vectorization and clustering of the context windows (20 words before and after) around key terms"
   ]
  },
  {
   "cell_type": "code",
   "execution_count": 16,
   "metadata": {},
   "outputs": [],
   "source": [
    "tcpIDs = [_ for _ in tcpIDs if len(charity_citations[_])>0]\n",
    "contexts = getTexts('/Users/amycweng/Digital Humanities/charityContexts',tcpIDs)\n",
    "vector = TfidfVectorizer(norm=None, sublinear_tf=True)\n",
    "tfidf_results = vector.fit_transform(contexts.values())\n",
    "df = pd.DataFrame(tfidf_results.toarray(), index=contexts.keys(), columns=vector.get_feature_names()) "
   ]
  },
  {
   "cell_type": "code",
   "execution_count": 17,
   "metadata": {},
   "outputs": [
    {
     "data": {
      "image/png": "[encoded data removed]",
      "text/plain": [
       "<Figure size 640x480 with 1 Axes>"
      ]
     },
     "metadata": {},
     "output_type": "display_data"
    },
    {
     "data": {
      "text/plain": [
       "<Figure size 2000x1000 with 0 Axes>"
      ]
     },
     "metadata": {},
     "output_type": "display_data"
    }
   ],
   "source": [
    "groups = pca_cluster(df,3,tcpIDs,'Clustering by Keyword Context Windows')"
   ]
  },
  {
   "cell_type": "code",
   "execution_count": 18,
   "metadata": {},
   "outputs": [
    {
     "name": "stdout",
     "output_type": "stream",
     "text": [
      "There is 1 text in Group 2\n",
      "Group 3 TCP IDs: ['Gataker_A68088']\n",
      "\tThe locations for the texts in this cluster: [('London', 1)]\n",
      "\tThe audiences for the texts in this cluster: [('funeral', 1)]\n",
      "\tWhether or not the text mentions the provision of material help to the needy: [(True, 1)]\n",
      "\tTop 20 Bigrams and Trigrams of Keywords: [('earnest_penny', 2), ('as_a_beggar', 1), ('rich_man', 1), ('our_labour', 1), ('their_labour', 1), ('continual_labour', 1), ('world_wealth', 1), ('world_in_exchange', 1), ('wealth_of_this', 1), ('labour_to_keep', 1), ('labour_then', 1), ('yes_labour', 1), ('labour_to_work', 1)]\n",
      "\tTop 20 Topic Words: [('death', 1), ('god', 1), ('life', 1), ('desire', 1), ('christ', 1), ('love', 1), ('good', 1), ('cause', 1), ('yes', 1), ('die', 1)]\n",
      "\tAll subject headings: [('Crisp, Rebekka.', 1), ('Funeral sermons.', 1)]\n",
      "\tThere are 383 marginal citations in total.\n",
      "\tMost Frequent Scriptural Citations: [('2 Corinthians 5:8', 7), ('Revelation 14:13', 5), ('2 Corinthians 5:4', 4), ('Romans 7:24', 4), ('2 Corinthians 12:4', 4), ('2 Timothy 4:8', 3), ('Matthew 6:10', 3), ('Revelation 20:6', 3), ('Proverbs 14:32', 3), ('1 Kings 19:4', 2), ('1 Kings 14:12', 2), ('1 Kings 14:13', 2), ('Isaiah 57:1', 2), ('Luke 16:22', 2), ('2 Thessalonians 1:10', 2), ('John 14:3', 2), ('Ecclesiastes 7:22', 2), ('Psalms 91:15', 2), ('Isaiah 35:10', 2), ('Revelation 21:4', 2)]\n",
      "\tThere are 2 marginal citations relating to charity.\n",
      "\tMost Frequent Charity-Related Scriptural Citations: [('Matthew 6:20', 1), ('Matthew 25:46', 1)].\n",
      "\n",
      "\n",
      "There are 21 texts in Group 0\n",
      "Group 1 TCP IDs: ['Gataker_A01531', 'Gataker_A01523', 'Gataker_A01547', 'Crashaw_A19590', 'Gataker_A01539', 'Gouge_A01979', 'Gouge_A85487', 'Preston_A10024', 'Preston_A09950', 'Preston_A09977', 'Whately_A14996', 'Crashaw_A19588', 'Crashaw_A19589', 'Hall_A02571', 'Gataker_A72143', 'Gataker_A01534', 'Gataker_A01554', 'Gataker_A01529', 'Gouge_A85485', 'Whately_A15012', 'Whately_A15015']\n",
      "\tThe locations for the texts in this cluster: [(\"St Paul's Cross\", 4), (\"St Mary's Church, Rotherhithe\", 4), ('St Ann Blackfriars', 2), (\"St. Mary's Church, Banbury\", 2), ('London', 1), ('All Hallows Bread St', 1), ('Church of St Mary-at-Lambeth', 1), ('Temple', 1), ('House of Parliament', 1), (\"Lincoln's Inn or Cambridge\", 1), (\"Lincoln's Inn\", 1), ('Holy Trinity Church, Cambridge', 1), ('Westminster Abbey', 1)]\n",
      "\tThe audiences for the texts in this cluster: [('local', 12), ('funeral', 3), ('company', 1), ('house of commons', 1), ('Inns of Court/local', 1), ('Inns of Court', 1), ('wedding', 1), ('house of lords', 1)]\n",
      "\tWhether or not the text mentions the provision of material help to the needy: [(True, 18), (False, 3)]\n",
      "\tTop 20 Bigrams and Trigrams of Keywords: [('rich_man', 51), ('be_rich', 44), ('poor_man', 43), ('his_wealth', 25), ('give_to_the_poor', 17), ('labour_to_get', 16), ('worldly_wealth', 15), ('be_bestow', 15), ('bestow_upon', 14), ('therefore_labour', 14), ('wealth_be', 13), ('have_bestow', 12), ('his_labour', 12), ('bestow_it', 12), ('labour_to_keep', 11), ('our_labour', 11), ('thy_wealth', 11), ('their_labour', 11), ('we_labour', 10), ('be_poor', 10)]\n",
      "\tTop 20 Topic Words: [('god', 21), ('good', 17), ('give', 11), ('christ', 11), ('take', 10), ('heart', 9), ('yes', 7), ('soul', 6), ('sin', 5), ('use', 5), ('lord', 5), ('spirit', 4), ('death', 4), ('love', 4), ('faith', 3), ('church', 3), ('work', 3), ('joy', 2), ('evil', 2), ('promise', 2)]\n",
      "\tAll subject headings: [('O.T.', 3), ('Fast-day sermons', 2), ('Funeral sermons', 2), ('Ezekiel XXXVI, 11', 1), ('Nehemiah V, 19', 1), ('Presbyterian Church', 1), ('Charities', 1), ('Faith', 1), ('Love (Theology)', 1), ('Wives', 1), ('Featley, Joyce, d. 1637.', 1), ('Spiritual life', 1), ('Modern period, 1500-.', 1), ('Sin, Unpardonable', 1), ('Parker, John, d. 1639 or 40', 1), ('Stock, Richard, 1569?-1626.', 1), ('Funeral sermons.', 1), ('God', 1), ('Attributes', 1), ('Psalms XIII, 1', 1)]\n",
      "\tThere are 12204 marginal citations in total.\n",
      "\tMost Frequent Scriptural Citations: [('James 1:17', 17), ('Hebrews 13:5', 17), ('Job 13:15', 17), ('1 Peter 5:8', 16), ('Romans 5:3', 15), ('Romans 14:17', 15), ('Hebrews 11:1', 14), ('Revelation 20:6', 14), ('Romans 5:5', 14), ('John 3:16', 13), ('Acts 15:9', 13), ('Philippians 3:8', 13), ('Matthew 26:41', 13), ('Romans 5:1', 12), ('Hebrews 12:6', 12), ('1 Timothy 5:8', 12), ('Matthew 6:32', 12), ('Matthew 19:6', 12), ('Jeremiah 17:9', 12), ('Psalms 4:6', 12)]\n",
      "\tThere are 114 marginal citations relating to charity.\n",
      "\tMost Frequent Charity-Related Scriptural Citations: [('1 John 3:17', 5), ('2 Corinthians 9:8', 5), ('Isaiah 58:7', 5), ('Matthew 25:46', 5), ('Isaiah 61:1', 4), ('2 Corinthians 9:12', 4), ('Galatians 6:10', 4), ('Matthew 6:2', 3), ('Matthew 6:3', 3), ('2 Corinthians 9:7', 3), ('Romans 12:8', 3), ('Hebrews 13:16', 3), ('Matthew 25:35', 3), ('Matthew 6:20', 2), ('Philippians 2:4', 2), ('Matthew 25:42', 2), ('Matthew 25:43', 2), ('Proverbs 11:24', 2), ('Romans 2:8', 2), ('Matthew 6:1', 2)].\n",
      "\n",
      "\n",
      "There are 5 texts in Group 1\n",
      "Group 2 TCP IDs: ['Gataker_A01528', 'Preston_A09971', 'Gataker_A01533', 'Gataker_A01548', 'Gataker_A01530']\n",
      "\tThe locations for the texts in this cluster: [(\"Sergeant's Inn\", 2), ('London', 1), (\"Lincoln's Inn or Cambridge\", 1), ('Tonbridge Free School', 1)]\n",
      "\tThe audiences for the texts in this cluster: [('Inns of Court', 2), ('funeral', 1), ('Inns of Court/local', 1), ('school', 1)]\n",
      "\tWhether or not the text mentions the provision of material help to the needy: [(True, 3), (False, 2)]\n",
      "\tTop 20 Bigrams and Trigrams of Keywords: [('rich_man', 6), ('poor_oppress', 5), ('rich_or_poor', 4), ('your_labour', 4), ('his_credit', 4), ('poor_man', 3), ('their_poor', 3), ('profit_or_pleasure', 2), ('poor_people', 2), ('very_poor', 2), ('his_poor', 2), ('rich_as', 2), ('poor_say', 2), ('poor_one', 2), ('his_wealth', 2), ('labour_to_act', 2), ('prosperity_that', 2), ('labour_not', 2), ('poor_soul', 2), ('rich_glutton', 2)]\n",
      "\tTop 20 Topic Words: [('god', 5), ('christ', 3), ('take', 3), ('love', 3), ('give', 2), ('good', 2), ('judge', 1), ('king', 1), ('judgement', 1), ('lord', 1), ('justice', 1), ('poor', 1), ('prince', 1), ('wrong', 1), ('follow', 1), ('deny', 1), ('flesh', 1), ('cross', 1), ('heart', 1), ('child', 1)]\n",
      "\tAll subject headings: [('Winter, William,', 1), ('citizen of London.', 1), ('Funeral sermons.', 1), (\"Lord's Supper\", 1)]\n",
      "\tThere are 1564 marginal citations in total.\n",
      "\tMost Frequent Scriptural Citations: [('Deuteronomy 1:17', 5), ('1 John 3:17', 4), ('2 Peter 2:20', 4), ('2 Timothy 3:15', 4), ('Titus 2:10', 4), ('Isaiah 5:11', 4), ('Psalms 10:14', 4), ('2 Chronicles 19:6', 4), ('Genesis 2:7', 4), ('Ecclesiastes 12:1', 3), ('Psalms 32:9', 3), ('Proverbs 4:3', 3), ('Proverbs 4:4', 3), ('Proverbs 22:6', 3), ('1 Peter 1:23', 3), ('Romans 8:9', 3), ('Job 31:13', 3), ('Mark 10:30', 3), ('Isaiah 5:12', 3), ('Psalms 62:9', 3)]\n",
      "\tThere are 31 marginal citations relating to charity.\n",
      "\tMost Frequent Charity-Related Scriptural Citations: [('1 John 3:17', 4), ('Job 31:21', 2), ('Matthew 25:42', 2), ('Matthew 25:43', 2), ('2 Corinthians 9:9', 1), ('2 Corinthians 9:10', 1), ('Matthew 25:41', 1), ('James 1:27', 1), ('Philippians 2:4', 1), ('Galatians 6:10', 1), ('Matthew 25:35', 1), ('Matthew 25:36', 1), ('1 John 3:18', 1), ('Acts 11:29', 1), ('Acts 11:30', 1), ('2 Corinthians 8:3', 1), ('Matthew 10:42', 1), ('Isaiah 61:1', 1), ('Isaiah 58:7', 1), ('Job 31:22', 1)].\n",
      "\n",
      "\n"
     ]
    }
   ],
   "source": [
    "for groupNum, ids_list in groups.items(): \n",
    "    author_id = []\n",
    "    for tcpID in ids_list:\n",
    "        for entry in idAuthor: \n",
    "            if tcpID in entry: \n",
    "                author_id.append(entry)\n",
    "    if len(ids_list) == 1:\n",
    "        print(f'There is {len(ids_list)} text in Group {groupNum}')\n",
    "    else: \n",
    "        print(f'There are {len(ids_list)} texts in Group {groupNum}')\n",
    "    # if groupNum != 1: \n",
    "    #     print(f'Titles: {find_titles(ids_list,idToTitle)}')\n",
    "    print(f'Group {groupNum+1} TCP IDs: {author_id}')\n",
    "    print(f'\\tThe locations for the texts in this cluster: {count_features(location,ids_list)}')\n",
    "    print(f'\\tThe audiences for the texts in this cluster: {count_features(audience,ids_list)}')\n",
    "    print(f'\\tWhether or not the text mentions the provision of material help to the needy: {count_features(help_poor,ids_list)}')\n",
    "\n",
    "    print(f'\\tTop 20 Bigrams and Trigrams of Keywords: {count_features(ngrams,ids_list)}')\n",
    "    print(f'\\tTop 20 Topic Words: {count_features(topics,ids_list)}')\n",
    "    print(f'\\tAll subject headings: {count_features(subjects,ids_list)}')\n",
    "\n",
    "    print(f'\\tMost Frequent Scriptural Citations: {count_features(all_citations,ids_list,\"all citations\")}')\n",
    "    print(f'\\tMost Frequent Charity-Related Scriptural Citations: {count_features(charity_citations,ids_list,\"charity citations\")}.\\n\\n')"
   ]
  }
 ],
 "metadata": {
  "kernelspec": {
   "display_name": "Python 3.9.7 ('base')",
   "language": "python",
   "name": "python3"
  },
  "language_info": {
   "codemirror_mode": {
    "name": "ipython",
    "version": 3
   },
   "file_extension": ".py",
   "mimetype": "text/x-python",
   "name": "python",
   "nbconvert_exporter": "python",
   "pygments_lexer": "ipython3",
   "version": "3.9.7"
  },
  "orig_nbformat": 4,
  "vscode": {
   "interpreter": {
    "hash": "40d3a090f54c6569ab1632332b64b2c03c39dcf918b08424e98f38b5ae0af88f"
   }
  }
 },
 "nbformat": 4,
 "nbformat_minor": 2
}
