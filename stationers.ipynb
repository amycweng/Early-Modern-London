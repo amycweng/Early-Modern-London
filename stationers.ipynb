{
 "cells": [
  {
   "cell_type": "code",
   "execution_count": 3,
   "metadata": {},
   "outputs": [],
   "source": [
    "import csv, os,re\n",
    "import pandas as pd \n",
    "\n",
    "# authSearch = re.compile('Crashaw, William, 1572-1626.|Hall, Joseph, 1574-1656.|Whately, William, 1583-1639.|Gouge, William, 1578-1653.|Gataker, Thomas, 1574-1654.|Preston, John, 1587-1628.')\n",
    "# name = 'charity'\n",
    "\n",
    "# pubSearch = 'Elizabeth Allde|E lizabeth Allde|E lizabeth A llde|Hanna Barret|widow|Widow'\n",
    "# name = 'women'\n",
    "\n",
    "playAuthors = [\n",
    "    'Haughton, William','Heywood, Thomas','Dekker, Thomas', 'Webster, John', 'Middleton, Thomas',\n",
    "    'Jonson, Ben','Eliot, John', 'Rowley, William', 'Wilkins, George','Chapman, George',\n",
    "    'Marston, John','Cooke, John','Rowley, Samuel','Marmion, Shackerley','Greene, Robert',\n",
    "    'Sharpham, Edward','Shirley, James','Brome, Richard','Cavendish, William',\n",
    "    'Cavendish, Margaret','Beaumont, Francis','Newcastle, William Cavendish','Newcastle, Margaret Cavendish',\n",
    "    'Cooke, Jo.'\n",
    "]\n",
    "authSearch = re.compile('|'.join(playAuthors))\n",
    "name = 'plays'"
   ]
  },
  {
   "cell_type": "code",
   "execution_count": 11,
   "metadata": {},
   "outputs": [
    {
     "name": "stdout",
     "output_type": "stream",
     "text": [
      "421\n",
      "\n"
     ]
    }
   ],
   "source": [
    "'''For getting all metadata for certain authors (or publishers if you iterate through the publisher column)'''\n",
    "outFile = open(f'{name}TCP.csv','a+')\n",
    "columns = ['id','title','author','publisher','pubplace','keywords','date']\n",
    "writer = csv.DictWriter(outFile, fieldnames=columns)\n",
    "writer.writeheader()\n",
    "count = 0\n",
    "for csvFile in os.listdir('/Users/amycweng/Digital Humanities/TCP metadata'):\n",
    "    data = pd.read_csv(os.path.join('/Users/amycweng/Digital Humanities/TCP metadata',csvFile))\n",
    "    for idx,entry in enumerate(data['author']):\n",
    "        found = False\n",
    "        if re.match(authSearch,str(entry)):\n",
    "            found = True\n",
    "            print(entry)\n",
    "        if found:\n",
    "            names = entry.split('; ')\n",
    "            names = '; '.join(list(set(names)))\n",
    "            count += 1\n",
    "            row = {'id':data['id'][idx],\n",
    "                    'title':data['title'][idx],\n",
    "                    'author':names,\n",
    "                    'publisher':data['publisher'][idx],\n",
    "                    'pubplace':data['pubplace'][idx],\n",
    "                    'keywords':data['keywords'][idx],\n",
    "                    'date':data['date'][idx]}\n",
    "            writer.writerow(row)\n",
    "            found = False\n",
    "print(str(count)+'\\n')"
   ]
  },
  {
   "cell_type": "code",
   "execution_count": null,
   "metadata": {},
   "outputs": [],
   "source": [
    "name = 'spreadsheet_Plays_Publishers'\n",
    "tcpIDs = ['A03208','A03197','A20100','A07493','A04633','A11153','A18407',\n",
    "        'A19260','A07524','A07505','A04648','A11146','A20083','A20098',\n",
    "        'A07065','A07025','A02092','A03224','A12078','A18427','A12142',\n",
    "        'A77565','A77567','A53070','A46228','A59985','A04645','A12140',\n",
    "        'A06252']\n",
    "outFile = open(f'{name}TCP.csv','a+')\n",
    "columns = ['id','author','publisher']\n",
    "writer = csv.DictWriter(outFile, fieldnames=columns)\n",
    "writer.writeheader()\n",
    "count = 0\n",
    "data = pd.read_csv('/Users/amycweng/Digital Humanities/Early-Modern-London/playwrightsTCP.csv')\n",
    "for idx,entry in enumerate(data['id']):\n",
    "    if entry in tcpIDs:\n",
    "        count += 1\n",
    "        row = {'id':data['id'][idx],\n",
    "                'author':data['author'][idx],\n",
    "                'publisher':data['publisher'][idx]}\n",
    "        writer.writerow(row)\n",
    "        found = False\n",
    "print(str(count)+'\\n')"
   ]
  },
  {
   "cell_type": "code",
   "execution_count": 8,
   "metadata": {},
   "outputs": [
    {
     "name": "stdout",
     "output_type": "stream",
     "text": [
      "Printed and sold by A Moore near St Paul s Church Yard\n"
     ]
    }
   ],
   "source": [
    "search = 'A Moore'\n",
    "for csvFile in os.listdir('/Users/amycweng/Digital Humanities/TCP metadata'):\n",
    "    data = pd.read_csv(os.path.join('/Users/amycweng/Digital Humanities/TCP metadata',csvFile))\n",
    "    for idx,entry in enumerate(data['publisher']):\n",
    "        if re.search(search,str(entry)):\n",
    "            print(entry)"
   ]
  },
  {
   "cell_type": "code",
   "execution_count": 140,
   "metadata": {},
   "outputs": [
    {
     "name": "stdout",
     "output_type": "stream",
     "text": [
      "printed by Iohn Haviland and Anne Griffin\n",
      "\tMANY PUBS Printed by John Haviland Miles Flesher and John Beale for Nath Butter Thomas Pavier Miles Flesher John Haviland George Winder and Hanna Barret\n",
      "Printed by Bernard Alsop and are to be sold at his house being the next house to Saint Annes Church\n",
      "G Purslowe Impensis authoris\n",
      "Printed by Iohn Wreittoun\n",
      "Printed by Iohn Wreittoun\n",
      "Printed at London and re printed at Edinburgh by Evan Tyler\n",
      "Printed by James Flesher\n",
      "\tMANY PUBS Printed by M Flesher and are to be sold by William Hope Gabriel Beadle and Nathaniel Webbe\n",
      "by Leonard Lichfield\n",
      "Printed by Nathaniel Butter\n",
      "Printed by Io Beale\n",
      "Printed by Edward Griffin\n",
      "Printed by Iohn Wreittoun\n",
      "Printed by Iohn Wreittoun\n",
      "Printed by Iohn Hauiland\n",
      "Printed by W Iaggard\n",
      "Printed by Iohn Beale\n",
      "Printed by E Edgar and A Garbrand at the Wind mill in Pauls Church yard\n",
      "Printed by Iohn Haviland\n",
      "['A Moore', 'Andrew Crook', 'Andrew Crooke', 'CG', 'Ed Blount', 'Edmond Weauer', 'Edvvard Langham', 'Edward Brewster', 'Eleazar Edgar', 'F Clifton', 'F Kirkman', 'Foulke Clifton', 'Fr Eglesfield', 'Fran Grove', 'Francis Eaglesfield', 'Francis Tyton', 'Fulke Clifton', 'G Fayer', 'G Fayerbeard', 'George Edwards', 'George Latham', 'George Lathum', 'George Norton', 'George Winder', 'H Fether', 'Hanna Barret', 'Hen Taunton', 'Henry Brome', 'Henry Fetherstone', 'Iames Boler', 'Iohn Bartlett', 'Iohn Deane', 'Iohn Porter', 'Iohn Stafford', 'Ioshua Kirton', 'J Crooke', 'JB', 'Jacob Tonson', 'John Alen', 'John Bisse', 'John Blague', 'John Holden', 'John Place', 'John Stafford', 'John Sweeting', 'Joshua Kirton', 'Lenard Becket', 'Leonard Becket', 'Leonard Greene', 'Mathew Lawe', 'Mathew Lownes', 'Michael Sparke', 'Michaell Sparke', 'N Bourne', 'N Butter', 'NB', 'Nat Butter', 'Nath Brooke', 'Nath Butter', 'Nath Webb', 'Nathanael Butter', 'Nathaniel Butter', 'Nathaniel Webbe', 'Nathaniell Butter', 'Nicholas Bourne', 'Nicolas Bourne', 'Obadiah Blagrave', 'Peter Cole', 'Philemon Stephens', 'R obert', 'Ralph Mab', 'Ralph Smith', 'Richard Hawkings', 'Richard Thrayle', 'Richard Tomlins', 'Robert Bird', 'Robert Bostock', 'Robert Dexter', 'S Macha', 'S Macham', 'Sa Macham', 'Samuel Gellibrand', 'Samuel Macham', 'Samuell Macham', 'Symon Waterson', 'Tho Basset', 'Thomas Langley', 'Thomas Man', 'Thomas Newberry', 'Thomas Pauier', 'Thomas Warren', 'Timothy Barlow', 'W Barrett', 'WD', 'Will Grantham', 'William Bladen', 'William Butler', 'William Hope', 'William Miller', 'William Sheffard', 'William Welby']\n"
     ]
    }
   ],
   "source": [
    "csvfile = 'charityTCP.csv'\n",
    "data = pd.read_csv(csvfile)\n",
    "pubs = data['publisher']\n",
    "p = []\n",
    "for pub in pubs:\n",
    "    # for; and are to be sold by; and; Printed and sold by;\n",
    "    if re.search(r'for (\\w{1}) (\\w{1})$',pub):\n",
    "        nameTuple  = re.findall(r'for (\\w{1}) (\\w{1})$',pub)[0]\n",
    "        p.append(f'{nameTuple[0]}{nameTuple[1]}')\n",
    "    elif re.search(r'for (\\w{1}) (\\w{1}) ',pub):\n",
    "        nameTuple  = re.findall(r'for (\\w{1}) (\\w{1}) ',pub)[0]\n",
    "        p.append(f'{nameTuple[0]}{nameTuple[1]}')\n",
    "\n",
    "    elif re.search(r'for (\\w+) (\\w+)',pub):\n",
    "        nameTuple  = re.findall(r'for (\\w+) (\\w+)',pub)[0]\n",
    "        p.append(f'{nameTuple[0]} {nameTuple[1]}')\n",
    "    if re.search(r'for (.*?) and (\\w+) (\\w+)$',pub): \n",
    "        nameTuple  = re.findall(r'for (.*?) and (\\w+) (\\w+)$',pub)[0]\n",
    "        p.append(f'{nameTuple[1]} {nameTuple[2]}')\n",
    "        spaces = re.findall(r'\\s',nameTuple[0])\n",
    "        if len(spaces) == 1:\n",
    "            p.append(nameTuple[0])\n",
    "        else:\n",
    "            print(f'\\tMANY PUBS',pub)\n",
    "    \n",
    "    if re.search(r'sold by (\\w{1}) (\\w{1})$',pub):\n",
    "        nameTuple  = re.findall(r'sold by (\\w{1}) (\\w{1})$',pub)[0]\n",
    "        p.append(f'{nameTuple[0]}{nameTuple[1]}')\n",
    "    elif re.search(r'sold by (\\w{1}) (\\w{1}) ',pub):\n",
    "        nameTuple  = re.findall(r'sold by (\\w{1}) (\\w{1}) ',pub)[0]\n",
    "        p.append(f'{nameTuple[0]}{nameTuple[1]}')\n",
    "\n",
    "    elif re.search(r'sold by (\\w+) (\\w+)',pub):\n",
    "        nameTuple  = re.findall(r'sold by (\\w+) (\\w+)',pub)[0]\n",
    "        p.append(f'{nameTuple[0]} {nameTuple[1]}')\n",
    "    if re.search(r'sold by (.*?) and (\\w+) (\\w+)$',pub): \n",
    "        nameTuple  = re.findall(r'sold by (.*?) and (\\w+) (\\w+)$',pub)[0]\n",
    "        p.append(f'{nameTuple[1]} {nameTuple[2]}')\n",
    "        spaces = re.findall(r'\\s',nameTuple[0])\n",
    "        if len(spaces) == 1:\n",
    "            p.append(nameTuple[0])\n",
    "        else:\n",
    "            print('\\tMANY PUBS',pub)\n",
    "    if 'for' not in pub: \n",
    "        if 'sold by' not in pub:\n",
    "            if pub != 's n' and pub != 'No publisher':\n",
    "                print(pub)\n",
    "print(sorted(list(set(p))))"
   ]
  },
  {
   "cell_type": "code",
   "execution_count": 164,
   "metadata": {},
   "outputs": [
    {
     "name": "stdout",
     "output_type": "stream",
     "text": [
      "Printed and sold by A Moore near St Paul s Church Yard\n",
      "\tMANY PRINTERS Printed by John Haviland Miles Flesher and John Beale for Nath Butter Thomas Pavier Miles Flesher John Haviland George Winder and Hanna Barret\n",
      "\tMANY PRINTERS Printed by A M T W and S G for Joshua Kirton\n",
      "\tMANY PRINTERS Printed by H umphrey L ownes and Eliot s Court Press for Nathanael Butter and William Butler\n",
      "\tMANY PRINTERS Printed by G M iller and R B adger for Edward Brewster and are to be sold at his shop neere the great north dore of St Pauls Church at the signe of the Bible\n",
      "\tMANY PRINTERS Printed by Nich and Iohn Okes for Hen Taunton and are to be sold at his shop in St Dunstans Church yard in Fleet street\n",
      "\tMANY PRINTERS Printed by Eliot s Court Press and R Young for Leonard Greene of Cambridge and are to be sold by Iames Boler at the signe of the Marigold in Pauls Churchyard London\n",
      "['A Hatfield', 'A Miller', 'AH', 'AM', 'Augustine Mathewes', 'Bernard Alsop', 'E Cotes', 'E Edgar', 'E Flesher', 'E Griffin', 'EC', 'EG', 'Edw Griffin', 'Edward Griffin', 'Eliot s', 'EliotsCourtPress', 'Elizabeth Purslowe', 'Esic Allde', 'F Kyngston', 'Felix Kyngston', 'G Larkin', 'G Miller', 'GM', 'George Eld', 'George Miller', 'H Lownes', 'HL', 'Humfrey Lownes', 'Humphrey Lownes', 'I Beale', 'I Dawson', 'I Haviland', 'ID', 'Io Beale', 'Iohn Beale', 'Iohn Harison', 'Iohn Hauiland', 'Iohn Haviland', 'Iohn Legat', 'Iohn Okes', 'Iohn Pindley', 'Iohn Windet', 'Iohn Wreittoun', 'J Cadwel', 'J Haviland', 'JC', 'JD', 'JG', 'JL', 'JT', 'James Flesher', 'John Beale', 'John Haviland', 'M Bradwood', 'M Flesher', 'M Parsons', 'M Simmons', 'MF', 'MP', 'Marmaduke Parsons', 'Melch Bradwood', 'Melchisedech Bradwood', 'Miles Flesher', 'N Okes', 'NO', 'Nathaniel Butter', 'Nich and', 'Nicholas Okes', 'R Badger', 'R Ibbitson', 'R Young', 'RBadger', 'RH', 'RL', 'Richard Badger', 'S G', 'T Creede', 'T East', 'T Snodham', 'TC', 'TE', 'TR', 'TS', 'Tho Cotes', 'Thomas Cotes', 'Thomas Harper', 'Thomas Newcomb', 'W Hall', 'W Iaggard', 'W Iones', 'W Stansby', 'WH', 'WI', 'WS', 'Will Hunt', 'William Iones', 'William Stansby']\n"
     ]
    }
   ],
   "source": [
    "csvfile = 'charityTCP.csv'\n",
    "data = pd.read_csv(csvfile)\n",
    "pubs = data['publisher']\n",
    "p = []\n",
    "for pub in pubs:\n",
    "    if re.search(r'Printed by (.*?) and (.*?) for',pub): \n",
    "        nameTuple  = re.findall(r'Printed by (.*?) and (.*?) for',pub)[0]\n",
    "        if re.search(r'(\\w{1}) (\\w{1}) ',nameTuple[1]):\n",
    "            p.append(nameTuple[1].replace(' ',''))\n",
    "        else: p.append(nameTuple[1])\n",
    "        spaces = re.findall(r'\\s',nameTuple[0])\n",
    "        if len(spaces) == 1:\n",
    "            p.append(nameTuple[0])\n",
    "        elif re.search(r'\\s(\\w{1}) (\\w{1}) (\\w{2,100})',nameTuple[0]):\n",
    "            n = re.findall(r'\\s(\\w{1}) (\\w{1}) (\\w{2,100})',nameTuple[0])[0]\n",
    "            p.append(f'{n[0]} {n[1]}{n[2]}')\n",
    "        else: \n",
    "            print(f'\\tMANY PRINTERS',pub)\n",
    "    if re.search(r'Printed by (\\w{1}) (\\w{1}) (\\w{2,100}) for',pub):\n",
    "        n = re.findall(r'\\s(\\w{1}) (\\w{1}) (\\w{2,100})',pub)[0]\n",
    "        p.append(f'{n[0]} {n[1]}{n[2]}')\n",
    "    if re.search(r'Printed by (\\w{1}) (\\w{1})$',pub):\n",
    "        nameTuple  = re.findall(r'Printed by (\\w{1}) (\\w{1})$',pub)[0]\n",
    "        p.append(f'{nameTuple[0]}{nameTuple[1]}')\n",
    "    elif re.search(r'Printed by (\\w{1}) (\\w{1}) ',pub):\n",
    "        nameTuple  = re.findall(r'Printed by (\\w{1}) (\\w{1}) ',pub)[0]\n",
    "        p.append(f'{nameTuple[0]}{nameTuple[1]}')\n",
    "    elif re.search(r'Printed by \\w{1} (\\w{2,100}) (\\w{1}) (\\w{2,100}) ',pub):\n",
    "        nameTuple = re.findall(r'Printed by (\\w{1}) (\\w{2,100}) (\\w{1}) (\\w{2,100}) ',pub)[0]\n",
    "        name = f'{nameTuple[0]}{nameTuple[1]} {nameTuple[2]}{nameTuple[3]}'\n",
    "        p.append(name)\n",
    "    elif re.search(r'Printed by (\\w+) (\\w+)',pub):\n",
    "        nameTuple  = re.findall(r'Printed by (\\w+) (\\w+)',pub)[0]\n",
    "        p.append(f'{nameTuple[0]} {nameTuple[1]}')\n",
    "    if 'Printed and sold by' in pub: \n",
    "        print(pub)\n",
    "\n",
    "print(sorted(list(set(p))))"
   ]
  },
  {
   "cell_type": "code",
   "execution_count": 163,
   "metadata": {},
   "outputs": [
    {
     "name": "stdout",
     "output_type": "stream",
     "text": [
      "Printed and sold by A Moore near St Paul s Church Yard\n"
     ]
    }
   ],
   "source": [
    "for pub in pubs: \n",
    "        if 'A Moore' in pub: \n",
    "                print(pub)"
   ]
  },
  {
   "cell_type": "code",
   "execution_count": 25,
   "metadata": {},
   "outputs": [],
   "source": [
    "import pandas as pd \n",
    "import os,re,shutil\n",
    "csvfile = 'charityTCP.csv'\n",
    "data = pd.read_csv(csvfile)\n",
    "tcpIDs = data['id']\n",
    "TCP = '/Users/amycweng/Digital Humanities/TCP'\n",
    "for id in tcpIDs:\n",
    "    if re.match('B1|B4',id[0:2]):\n",
    "        if f'{id}.P4.xml' in os.listdir(f'{TCP}/P2{id[0:2]}'): \n",
    "            path = f'{TCP}/P2{id[0:2]}/{id}.P4.xml'\n",
    "            found = True\n",
    "        else: found = False\n",
    "    else: \n",
    "        if f'{id}.P4.xml' in os.listdir(f'{TCP}/P1{id[0:2]}'):\n",
    "            path = f'{TCP}/P1{id[0:2]}/{id}.P4.xml'\n",
    "            found = True\n",
    "        elif f'{id}.P4.xml' in os.listdir(f'{TCP}/P2{id[0:2]}'): \n",
    "            path = f'{TCP}/P2{id[0:2]}/{id}.P4.xml'\n",
    "            found = True\n",
    "        else: found = False\n",
    "    if found: shutil.copy(path,f'/Users/amycweng/Digital Humanities/charity')\n",
    "    else: print(f'{id} not found')"
   ]
  }
 ],
 "metadata": {
  "kernelspec": {
   "display_name": "Python 3.9.7 ('base')",
   "language": "python",
   "name": "python3"
  },
  "language_info": {
   "codemirror_mode": {
    "name": "ipython",
    "version": 3
   },
   "file_extension": ".py",
   "mimetype": "text/x-python",
   "name": "python",
   "nbconvert_exporter": "python",
   "pygments_lexer": "ipython3",
   "version": "3.9.7"
  },
  "orig_nbformat": 4,
  "vscode": {
   "interpreter": {
    "hash": "40d3a090f54c6569ab1632332b64b2c03c39dcf918b08424e98f38b5ae0af88f"
   }
  }
 },
 "nbformat": 4,
 "nbformat_minor": 2
}
