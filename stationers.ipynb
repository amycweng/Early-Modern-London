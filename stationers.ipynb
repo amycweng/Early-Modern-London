{
 "cells": [
  {
   "cell_type": "code",
   "execution_count": 21,
   "metadata": {},
   "outputs": [
    {
     "name": "stdout",
     "output_type": "stream",
     "text": [
      "201\n",
      "\n"
     ]
    }
   ],
   "source": [
    "import csv, os,re\n",
    "import pandas as pd \n",
    "authSearch = re.compile('Crashaw, William, 1572-1626.|Hall, Joseph, 1574-1656.|Whately, William, 1583-1639.|Gouge, William, 1578-1653.|Gataker, Thomas, 1574-1654.|Preston, John, 1587-1628.')\n",
    "name = 'charity'\n",
    "# pubSearch = 'Nathanael Butter|Nathaniel Butter|Nathaniell Butter|Nat Butter|Nath Butter|Nathnaiell sic Butter|N Butter|N athaniel Butter|Na Butter|Nathnaiell sic Butter|N athaniel Butter|Nathanaell Butter'\n",
    "# pubSearchAuth = 'Butter, Nathaniel, d. 1664, publisher.|Butter, Nicholas, d. 1664, publisher.|Butter, Nathaniel, d. 1664, bookseller.'\n",
    "# name = 'butter'\n",
    "\n",
    "# pubSearch = 'Elizabeth Allde|E lizabeth Allde|E lizabeth A llde|Hanna Barret|widow|Widow'\n",
    "# name = 'women'\n",
    "\n",
    "outFile = open(f'{name}TCP.csv','a+')\n",
    "columns = ['id','title','author','publisher','pubplace','keywords','date']\n",
    "writer = csv.DictWriter(outFile, fieldnames=columns)\n",
    "writer.writeheader()\n",
    "count = 0\n",
    "for csvFile in os.listdir('/Users/amycweng/Digital Humanities/TCP metadata'):\n",
    "    data = pd.read_csv(os.path.join('/Users/amycweng/Digital Humanities/TCP metadata',csvFile))\n",
    "    for idx,entry in enumerate(data['author']):\n",
    "        found = False\n",
    "        if re.match(authSearch,str(entry)):\n",
    "            found = True\n",
    "        if found:\n",
    "            names = entry.split('; ')\n",
    "            names = '; '.join(list(set(names)))\n",
    "            count += 1\n",
    "            row = {'id':data['id'][idx],\n",
    "                    'title':data['title'][idx],\n",
    "                    'author':names,\n",
    "                    'publisher':data['publisher'][idx],\n",
    "                    'pubplace':data['pubplace'][idx],\n",
    "                    'keywords':data['keywords'][idx],\n",
    "                    'date':data['date'][idx]}\n",
    "            writer.writerow(row)\n",
    "            found = False\n",
    "print(str(count)+'\\n')"
   ]
  },
  {
   "cell_type": "code",
   "execution_count": 25,
   "metadata": {},
   "outputs": [],
   "source": [
    "import pandas as pd \n",
    "import os,re,shutil\n",
    "csvfile = 'charityTCP.csv'\n",
    "data = pd.read_csv(csvfile)\n",
    "tcpIDs = data['id']\n",
    "count = 0\n",
    "TCP = '/Users/amycweng/Digital Humanities/TCP'\n",
    "for id in tcpIDs:\n",
    "    if re.match('B1|B4',id[0:2]):\n",
    "        if f'{id}.P4.xml' in os.listdir(f'{TCP}/P2{id[0:2]}'): \n",
    "            path = f'{TCP}/P2{id[0:2]}/{id}.P4.xml'\n",
    "            found = True\n",
    "        else: found = False\n",
    "    else: \n",
    "        if f'{id}.P4.xml' in os.listdir(f'{TCP}/P1{id[0:2]}'):\n",
    "            path = f'{TCP}/P1{id[0:2]}/{id}.P4.xml'\n",
    "            found = True\n",
    "        elif f'{id}.P4.xml' in os.listdir(f'{TCP}/P2{id[0:2]}'): \n",
    "            path = f'{TCP}/P2{id[0:2]}/{id}.P4.xml'\n",
    "            found = True\n",
    "        else: found = False\n",
    "    if found: shutil.copy(path,f'/Users/amycweng/Digital Humanities/charity')\n",
    "    else: print(f'{id} not found')"
   ]
  }
 ],
 "metadata": {
  "kernelspec": {
   "display_name": "Python 3.9.7 ('base')",
   "language": "python",
   "name": "python3"
  },
  "language_info": {
   "codemirror_mode": {
    "name": "ipython",
    "version": 3
   },
   "file_extension": ".py",
   "mimetype": "text/x-python",
   "name": "python",
   "nbconvert_exporter": "python",
   "pygments_lexer": "ipython3",
   "version": "3.9.7"
  },
  "orig_nbformat": 4,
  "vscode": {
   "interpreter": {
    "hash": "40d3a090f54c6569ab1632332b64b2c03c39dcf918b08424e98f38b5ae0af88f"
   }
  }
 },
 "nbformat": 4,
 "nbformat_minor": 2
}
