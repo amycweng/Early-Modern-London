{
 "cells": [
  {
   "cell_type": "code",
   "execution_count": 2,
   "metadata": {},
   "outputs": [],
   "source": [
    "import csv, os,re\n",
    "import pandas as pd \n",
    "\n",
    "# authSearch = re.compile('Crashaw, William, 1572-1626.|Hall, Joseph, 1574-1656.|Whately, William, 1583-1639.|Gouge, William, 1578-1653.|Gataker, Thomas, 1574-1654.|Preston, John, 1587-1628.')\n",
    "# name = 'charity'\n",
    "\n",
    "# pubSearch = 'Nathanael Butter|Nathaniel Butter|Nathaniell Butter|Nat Butter|Nath Butter|Nathnaiell sic Butter|N Butter|N athaniel Butter|Na Butter|Nathnaiell sic Butter|N athaniel Butter|Nathanaell Butter'\n",
    "# pubSearchAuth = 'Butter, Nathaniel, d. 1664, publisher.|Butter, Nicholas, d. 1664, publisher.|Butter, Nathaniel, d. 1664, bookseller.'\n",
    "# name = 'butter'\n",
    "\n",
    "# pubSearch = 'Elizabeth Allde|E lizabeth Allde|E lizabeth A llde|Hanna Barret|widow|Widow'\n",
    "# name = 'women'\n",
    "\n",
    "playAuthors = [\n",
    "    'Haughton, William','Heywood, Thomas','Dekker, Thomas', 'Webster, John', 'Middleton, Thomas',\n",
    "    'Jonson, Ben','Eliot, John', 'Rowley, William', 'Wilkins, George','Chapman, George',\n",
    "    'Marston, John','Cooke, John','Rowley, Samuel','Marmion, Shackerley','Greene, Robert',\n",
    "    'Sharpham, Edward','Shirley, James','Brome, Richard','Cavendish, William',\n",
    "    'Cavendish, Margaret','Beaumont, Francis','Newcastle, William Cavendish','Newcastle, Margaret Cavendish',\n",
    "    'Cooke, Jo.'\n",
    "]\n",
    "authSearch = re.compile('|'.join(playAuthors))\n",
    "name = 'plays'"
   ]
  },
  {
   "cell_type": "code",
   "execution_count": 11,
   "metadata": {},
   "outputs": [
    {
     "name": "stdout",
     "output_type": "stream",
     "text": [
      "421\n",
      "\n"
     ]
    }
   ],
   "source": [
    "'''For getting all metadata for certain authors (or publishers if you iterate through the publisher column)'''\n",
    "outFile = open(f'{name}TCP.csv','a+')\n",
    "columns = ['id','title','author','publisher','pubplace','keywords','date']\n",
    "writer = csv.DictWriter(outFile, fieldnames=columns)\n",
    "writer.writeheader()\n",
    "count = 0\n",
    "for csvFile in os.listdir('/Users/amycweng/Digital Humanities/TCP metadata'):\n",
    "    data = pd.read_csv(os.path.join('/Users/amycweng/Digital Humanities/TCP metadata',csvFile))\n",
    "    for idx,entry in enumerate(data['author']):\n",
    "        found = False\n",
    "        if re.match(authSearch,str(entry)):\n",
    "            found = True\n",
    "        if found:\n",
    "            names = entry.split('; ')\n",
    "            names = '; '.join(list(set(names)))\n",
    "            count += 1\n",
    "            row = {'id':data['id'][idx],\n",
    "                    'title':data['title'][idx],\n",
    "                    'author':names,\n",
    "                    'publisher':data['publisher'][idx],\n",
    "                    'pubplace':data['pubplace'][idx],\n",
    "                    'keywords':data['keywords'][idx],\n",
    "                    'date':data['date'][idx]}\n",
    "            writer.writerow(row)\n",
    "            found = False\n",
    "print(str(count)+'\\n')"
   ]
  },
  {
   "cell_type": "code",
   "execution_count": null,
   "metadata": {},
   "outputs": [],
   "source": [
    "name = 'spreadsheet_Plays_Publishers'\n",
    "tcpIDs = ['A03208','A03197','A20100','A07493','A04633','A11153','A18407',\n",
    "        'A19260','A07524','A07505','A04648','A11146','A20083','A20098',\n",
    "        'A07065','A07025','A02092','A03224','A12078','A18427','A12142',\n",
    "        'A77565','A77567','A53070','A46228','A59985','A04645','A12140',\n",
    "        'A06252']\n",
    "outFile = open(f'{name}TCP.csv','a+')\n",
    "columns = ['id','author','publisher']\n",
    "writer = csv.DictWriter(outFile, fieldnames=columns)\n",
    "writer.writeheader()\n",
    "count = 0\n",
    "data = pd.read_csv('/Users/amycweng/Digital Humanities/Early-Modern-London/playwrightsTCP.csv')\n",
    "for idx,entry in enumerate(data['id']):\n",
    "    if entry in tcpIDs:\n",
    "        count += 1\n",
    "        row = {'id':data['id'][idx],\n",
    "                'author':data['author'][idx],\n",
    "                'publisher':data['publisher'][idx]}\n",
    "        writer.writerow(row)\n",
    "        found = False\n",
    "print(str(count)+'\\n')"
   ]
  },
  {
   "cell_type": "code",
   "execution_count": 85,
   "metadata": {},
   "outputs": [
    {
     "name": "stdout",
     "output_type": "stream",
     "text": [
      "['Andrew Crook', 'Andrew Crooke', 'C G', 'Ed Blount', 'Edmond Weauer', 'Edvvard Langham', 'Edward Brewster', 'Eleazar Edgar', 'F Clifton', 'F Kirkman', 'Foulke Clifton', 'Fran Grove', 'Francis Eaglesfield', 'Francis Tyton', 'Fulke Clifton', 'G Fayer', 'G Fayerbeard', 'George Edwards', 'George Norton', 'George Winder', 'H Fether', 'Hen Taunton', 'Henry Brome', 'Henry Fetherstone', 'Iohn Bartlett', 'Iohn Deane', 'Iohn Porter', 'Iohn Stafford', 'Ioshua Kirton', 'J Crooke', 'John Bisse', 'John Blague', 'John Place', 'John Stafford', 'John Sweeting', 'Joshua Kirton', 'Lenard Becket', 'Leonard Becket', 'Leonard Greene', 'Mathew Lownes', 'Michael Sparke', 'Michaell Sparke', 'N B', 'N Bourne', 'N Butter', 'Nat Butter', 'Nath Brooke', 'Nath Butter', 'Nath Webb', 'Nathanael Butter', 'Nathaniel Butter', 'Nathaniell Butter', 'Nicholas Bourne', 'Nicolas Bourne', 'Obadiah Blagrave', 'Philemon Stephens', 'R obert', 'Ralph Mab', 'Richard Thrayle', 'Richard Tomlins', 'Robert Bird', 'Robert Bostock', 'Robert Dexter', 'S Macha', 'S Macham', 'Sa Macham', 'Samuel Gellibrand', 'Samuel Macham', 'Samuell Macham', 'Symon Waterson', 'Thomas Man', 'Thomas Newberry', 'Thomas Pauier', 'W D', 'William Bladen', 'William Miller', 'William Sheffard', 'William Welby', 'd in']\n"
     ]
    }
   ],
   "source": [
    "csvfile = 'charityTCP.csv'\n",
    "data = pd.read_csv(csvfile)\n",
    "pubs = data['publisher']\n",
    "p = []\n",
    "for pub in pubs:\n",
    "    if re.search(r'for\\s*(\\S+)\\s*(\\S+)',pub):\n",
    "        nameTuple  = re.findall(r'for\\s*(\\S+)\\s*(\\S+)',pub)[0]\n",
    "        p.append(f'{nameTuple[0]} {nameTuple[1]}')\n",
    "print(sorted(list(set(p))))"
   ]
  },
  {
   "cell_type": "code",
   "execution_count": 93,
   "metadata": {},
   "outputs": [
    {
     "name": "stdout",
     "output_type": "stream",
     "text": [
      "Printed by A H atfield for Eleazar Edgar Samuel Macham are to be sold at their shops in Pauls church yard\n",
      "Printed by A H for S Macham E Edgar\n",
      "Printed by Melch Bradwood for Eleazar Edgar and Samuel Macham and are to be sold at the sign of the Bul head in Pauls Church yard\n",
      "Printed by M Bradwood for Sa Macham\n",
      "By Humfrey Lownes for Samuel Macham and Mathew Cooke and are to bee sold in Pauls Church yard at the signe of the Tigers head\n",
      "Printed by H umphrey L ownes for Samuel Macham E Edgar are to be sold in Pauls Church yard at the signe of the Bull head\n",
      "Printed by H L ownes for Samuel Macham and are to be sold at his shop in Paules Church yard at the signe of the Bull head\n",
      "Printed by Melchisedech Bradwood for Samuel Macham and are to be sold at his shop in Pauls Church yard at the signe of the Bul head\n",
      "Printed by Iohn Pindley for Samuel Macham\n",
      "Printed by W S tansby for Samuell Macham and are to be sold at his shop in Pauls Church yard at the Signe of the Bull head\n",
      "Printed by H umphrey L ownes for Eleazar Edgar and Samuel Macham\n",
      "Printed by William Stansby for Samuel Macham and are to be sold at his shop in Pauls Church yard at the signe of the Bull Head\n"
     ]
    }
   ],
   "source": [
    "for pub in pubs: \n",
    "        if 'Macham' in pub: \n",
    "                print(pub)"
   ]
  },
  {
   "cell_type": "code",
   "execution_count": 25,
   "metadata": {},
   "outputs": [],
   "source": [
    "import pandas as pd \n",
    "import os,re,shutil\n",
    "csvfile = 'charityTCP.csv'\n",
    "data = pd.read_csv(csvfile)\n",
    "tcpIDs = data['id']\n",
    "TCP = '/Users/amycweng/Digital Humanities/TCP'\n",
    "for id in tcpIDs:\n",
    "    if re.match('B1|B4',id[0:2]):\n",
    "        if f'{id}.P4.xml' in os.listdir(f'{TCP}/P2{id[0:2]}'): \n",
    "            path = f'{TCP}/P2{id[0:2]}/{id}.P4.xml'\n",
    "            found = True\n",
    "        else: found = False\n",
    "    else: \n",
    "        if f'{id}.P4.xml' in os.listdir(f'{TCP}/P1{id[0:2]}'):\n",
    "            path = f'{TCP}/P1{id[0:2]}/{id}.P4.xml'\n",
    "            found = True\n",
    "        elif f'{id}.P4.xml' in os.listdir(f'{TCP}/P2{id[0:2]}'): \n",
    "            path = f'{TCP}/P2{id[0:2]}/{id}.P4.xml'\n",
    "            found = True\n",
    "        else: found = False\n",
    "    if found: shutil.copy(path,f'/Users/amycweng/Digital Humanities/charity')\n",
    "    else: print(f'{id} not found')"
   ]
  }
 ],
 "metadata": {
  "kernelspec": {
   "display_name": "Python 3.9.7 ('base')",
   "language": "python",
   "name": "python3"
  },
  "language_info": {
   "codemirror_mode": {
    "name": "ipython",
    "version": 3
   },
   "file_extension": ".py",
   "mimetype": "text/x-python",
   "name": "python",
   "nbconvert_exporter": "python",
   "pygments_lexer": "ipython3",
   "version": "3.9.7"
  },
  "orig_nbformat": 4,
  "vscode": {
   "interpreter": {
    "hash": "40d3a090f54c6569ab1632332b64b2c03c39dcf918b08424e98f38b5ae0af88f"
   }
  }
 },
 "nbformat": 4,
 "nbformat_minor": 2
}
